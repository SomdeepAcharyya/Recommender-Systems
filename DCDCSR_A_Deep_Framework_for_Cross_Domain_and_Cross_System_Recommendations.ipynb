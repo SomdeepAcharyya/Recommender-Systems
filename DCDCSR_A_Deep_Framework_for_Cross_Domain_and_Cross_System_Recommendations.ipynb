{
  "nbformat": 4,
  "nbformat_minor": 0,
  "metadata": {
    "colab": {
      "name": "DCDCSR_A Deep Framework for Cross-Domain and Cross-System Recommendations.ipynb",
      "provenance": [],
      "collapsed_sections": [
        "8IzqZqs1JsUY",
        "4yJgvrQJgjaN",
        "tf3yA5eFgU-7",
        "3X2LlrFFc81A",
        "jYxRxvcmgeZ8",
        "36cUng49Hx-K",
        "P-IOCvn74H0G"
      ],
      "mount_file_id": "1CsUQL-hiTodz1MG2HJDf2gGr-byD0aOQ",
      "authorship_tag": "ABX9TyMhOCB/Qv3GiBf0bGi54l3A",
      "include_colab_link": true
    },
    "kernelspec": {
      "display_name": "Python 3",
      "name": "python3"
    },
    "language_info": {
      "name": "python"
    }
  },
  "cells": [
    {
      "cell_type": "markdown",
      "metadata": {
        "id": "view-in-github",
        "colab_type": "text"
      },
      "source": [
        "<a href=\"https://colab.research.google.com/github/SomdeepAcharyya/Recommender-Systems/blob/main/DCDCSR_A_Deep_Framework_for_Cross_Domain_and_Cross_System_Recommendations.ipynb\" target=\"_parent\"><img src=\"https://colab.research.google.com/assets/colab-badge.svg\" alt=\"Open In Colab\"/></a>"
      ]
    },
    {
      "cell_type": "markdown",
      "metadata": {
        "id": "8IzqZqs1JsUY"
      },
      "source": [
        "## Headers"
      ]
    },
    {
      "cell_type": "code",
      "metadata": {
        "id": "B42GnEfNzwzg"
      },
      "source": [
        "import pandas as pd\n",
        "import scipy\n",
        "!pip install implicit\n",
        "import numpy as np\n",
        "!pip install surprise\n",
        "!pip install pandas_read_xml \n",
        "import pandas_read_xml as pdx"
      ],
      "execution_count": null,
      "outputs": []
    },
    {
      "cell_type": "markdown",
      "metadata": {
        "id": "USD3u_9t1wgj"
      },
      "source": [
        "## Data Reading"
      ]
    },
    {
      "cell_type": "code",
      "metadata": {
        "id": "vGoSfJa5sriY",
        "colab": {
          "base_uri": "https://localhost:8080/",
          "height": 200
        },
        "outputId": "eed67181-719d-46c2-d896-3c9b903e3039"
      },
      "source": [
        "# Amazon books Dataset\n",
        "path = r'/content/drive/MyDrive/Per_CD_RS/Amazon_Books.csv'\n",
        "with open(path, encoding=\"utf-8\", errors='ignore') as infile:\n",
        "  amazon_books = pd.read_csv(infile)\n",
        "  amazon_books = amazon_books[['user_id', 'item_id', 'rating']]\n",
        "  amazon_books = amazon_books.rename(columns={\"user_id\":\"userId\", \"item_id\": \"itemId\"})\n",
        "  amazon_books.columns\n",
        "amazon_books.head()"
      ],
      "execution_count": null,
      "outputs": [
        {
          "output_type": "execute_result",
          "data": {
            "text/html": [
              "<div>\n",
              "<style scoped>\n",
              "    .dataframe tbody tr th:only-of-type {\n",
              "        vertical-align: middle;\n",
              "    }\n",
              "\n",
              "    .dataframe tbody tr th {\n",
              "        vertical-align: top;\n",
              "    }\n",
              "\n",
              "    .dataframe thead th {\n",
              "        text-align: right;\n",
              "    }\n",
              "</style>\n",
              "<table border=\"1\" class=\"dataframe\">\n",
              "  <thead>\n",
              "    <tr style=\"text-align: right;\">\n",
              "      <th></th>\n",
              "      <th>userId</th>\n",
              "      <th>itemId</th>\n",
              "      <th>rating</th>\n",
              "    </tr>\n",
              "  </thead>\n",
              "  <tbody>\n",
              "    <tr>\n",
              "      <th>0</th>\n",
              "      <td>A1REUF3A1YCPHM</td>\n",
              "      <td>1713353</td>\n",
              "      <td>5</td>\n",
              "    </tr>\n",
              "    <tr>\n",
              "      <th>1</th>\n",
              "      <td>A1YRBRK2XM5D5</td>\n",
              "      <td>1713353</td>\n",
              "      <td>5</td>\n",
              "    </tr>\n",
              "    <tr>\n",
              "      <th>2</th>\n",
              "      <td>A1V8ZR5P78P4ZU</td>\n",
              "      <td>1713353</td>\n",
              "      <td>5</td>\n",
              "    </tr>\n",
              "    <tr>\n",
              "      <th>3</th>\n",
              "      <td>A2ZB06582NXCIV</td>\n",
              "      <td>1713353</td>\n",
              "      <td>5</td>\n",
              "    </tr>\n",
              "    <tr>\n",
              "      <th>4</th>\n",
              "      <td>ACPQVNRD3Z09X</td>\n",
              "      <td>1713353</td>\n",
              "      <td>5</td>\n",
              "    </tr>\n",
              "  </tbody>\n",
              "</table>\n",
              "</div>"
            ],
            "text/plain": [
              "           userId   itemId  rating\n",
              "0  A1REUF3A1YCPHM  1713353       5\n",
              "1   A1YRBRK2XM5D5  1713353       5\n",
              "2  A1V8ZR5P78P4ZU  1713353       5\n",
              "3  A2ZB06582NXCIV  1713353       5\n",
              "4   ACPQVNRD3Z09X  1713353       5"
            ]
          },
          "metadata": {},
          "execution_count": 9
        }
      ]
    },
    {
      "cell_type": "code",
      "metadata": {
        "id": "JXVxFn-u4MV8",
        "colab": {
          "base_uri": "https://localhost:8080/",
          "height": 200
        },
        "outputId": "9a9cfdf4-cdd3-401f-b56f-a155e290b80d"
      },
      "source": [
        "# Amazon Movies Dataset\n",
        "path = r'/content/drive/MyDrive/Per_CD_RS/Amazon_Movies.csv'\n",
        "with open(path, encoding=\"utf-8\", errors='ignore') as infile:\n",
        "  amazon_movies = pd.read_csv(infile)\n",
        "  amazon_movies = amazon_movies[['user_id', 'item_id', 'rating']]\n",
        "  amazon_movies = amazon_movies.rename(columns={\"user_id\":\"userId\", \"item_id\": \"itemId\"})\n",
        "  amazon_movies.columns\n",
        "amazon_movies.head()"
      ],
      "execution_count": null,
      "outputs": [
        {
          "output_type": "execute_result",
          "data": {
            "text/html": [
              "<div>\n",
              "<style scoped>\n",
              "    .dataframe tbody tr th:only-of-type {\n",
              "        vertical-align: middle;\n",
              "    }\n",
              "\n",
              "    .dataframe tbody tr th {\n",
              "        vertical-align: top;\n",
              "    }\n",
              "\n",
              "    .dataframe thead th {\n",
              "        text-align: right;\n",
              "    }\n",
              "</style>\n",
              "<table border=\"1\" class=\"dataframe\">\n",
              "  <thead>\n",
              "    <tr style=\"text-align: right;\">\n",
              "      <th></th>\n",
              "      <th>userId</th>\n",
              "      <th>itemId</th>\n",
              "      <th>rating</th>\n",
              "    </tr>\n",
              "  </thead>\n",
              "  <tbody>\n",
              "    <tr>\n",
              "      <th>0</th>\n",
              "      <td>A2VHSG6TZHU1OB</td>\n",
              "      <td>1527665</td>\n",
              "      <td>5</td>\n",
              "    </tr>\n",
              "    <tr>\n",
              "      <th>1</th>\n",
              "      <td>A23EJWOW1TLENE</td>\n",
              "      <td>1527665</td>\n",
              "      <td>5</td>\n",
              "    </tr>\n",
              "    <tr>\n",
              "      <th>2</th>\n",
              "      <td>A1KM9FNEJ8Q171</td>\n",
              "      <td>1527665</td>\n",
              "      <td>5</td>\n",
              "    </tr>\n",
              "    <tr>\n",
              "      <th>3</th>\n",
              "      <td>A38LY2SSHVHRYB</td>\n",
              "      <td>1527665</td>\n",
              "      <td>4</td>\n",
              "    </tr>\n",
              "    <tr>\n",
              "      <th>4</th>\n",
              "      <td>AHTYUW2H1276L</td>\n",
              "      <td>1527665</td>\n",
              "      <td>5</td>\n",
              "    </tr>\n",
              "  </tbody>\n",
              "</table>\n",
              "</div>"
            ],
            "text/plain": [
              "           userId   itemId  rating\n",
              "0  A2VHSG6TZHU1OB  1527665       5\n",
              "1  A23EJWOW1TLENE  1527665       5\n",
              "2  A1KM9FNEJ8Q171  1527665       5\n",
              "3  A38LY2SSHVHRYB  1527665       4\n",
              "4   AHTYUW2H1276L  1527665       5"
            ]
          },
          "metadata": {},
          "execution_count": 10
        }
      ]
    },
    {
      "cell_type": "code",
      "metadata": {
        "id": "QREDLRR54OkQ"
      },
      "source": [
        "# Amazon Clothes Dataset\n",
        "path = r'/content/drive/MyDrive/Per_CD_RS/Amazon_Clothing.csv'\n",
        "with open(path, encoding=\"utf-8\", errors='ignore') as infile:\n",
        "  amazon_clothes = pd.read_csv(infile)\n",
        "  amazon_clothes = amazon_clothes[['user_id', 'item_id', 'rating']]\n",
        "  amazon_clothes = amazon_clothes.rename(columns={\"user_id\":\"userId\", \"item_id\": \"itemId\"})\n",
        "  amazon_clothes.columns\n",
        "amazon_clothes.head()"
      ],
      "execution_count": null,
      "outputs": []
    },
    {
      "cell_type": "code",
      "metadata": {
        "id": "n2oRQ-60vmuc"
      },
      "source": [
        "# Amazon Video Games Dataset\n",
        "path = r'/content/drive/MyDrive/Per_CD_RS/Amazon_Video_Games.csv'\n",
        "with open(path, encoding=\"utf-8\", errors='ignore') as infile:\n",
        "  amazon_vg = pd.read_csv(infile)\n",
        "  amazon_vg = amazon_vg[['user_id', 'item_id', 'rating']]\n",
        "  amazon_vg = amazon_vg.rename(columns={\"user_id\":\"userId\", \"item_id\": \"itemId\"})\n",
        "  amazon_vg.columns\n",
        "amazon_vg.head()"
      ],
      "execution_count": null,
      "outputs": []
    },
    {
      "cell_type": "code",
      "metadata": {
        "colab": {
          "base_uri": "https://localhost:8080/"
        },
        "id": "mYjvt9gd2iL9",
        "outputId": "7f4b2978-2c28-4322-9642-e77cf79e3b44"
      },
      "source": [
        "# MovieLens Dataset\n",
        "\n",
        "path = r'/content/drive/MyDrive/Per_CD_RS/movielens_ratings.csv'\n",
        "with open(path, encoding=\"utf-8\", errors='ignore') as infile:\n",
        "  movielens = pd.read_csv(infile)\n",
        "movielens = movielens[['userId', 'movieId', 'rating']]\n",
        "movielens = movielens.rename(columns={\"movieId\": \"itemId\"})\n",
        "movielens.columns"
      ],
      "execution_count": null,
      "outputs": [
        {
          "output_type": "execute_result",
          "data": {
            "text/plain": [
              "Index(['userId', 'itemId', 'rating'], dtype='object')"
            ]
          },
          "metadata": {
            "tags": []
          },
          "execution_count": 2
        }
      ]
    },
    {
      "cell_type": "code",
      "metadata": {
        "colab": {
          "base_uri": "https://localhost:8080/"
        },
        "id": "loxYkYBh5m5p",
        "outputId": "cdc833ae-feb8-47ae-cba4-bfa8b1ac9057"
      },
      "source": [
        "# BookCrossing Dataset\n",
        "\n",
        "path = r'/content/drive/MyDrive/Per_CD_RS/BX_Book_Ratings.csv'\n",
        "with open(path, encoding=\"utf-8\", errors='ignore') as infile:\n",
        "  bookcrossing = pd.read_csv(infile)\n",
        "bookcrossing = bookcrossing[['User-ID', 'ISBN', 'Book-Rating']]\n",
        "bookcrossing = bookcrossing.rename(columns={\"User-ID\":\"userId\", \"ISBN\":\"itemId\", \"Book-Rating\": \"rating\"})\n",
        "bookcrossing.columns"
      ],
      "execution_count": null,
      "outputs": [
        {
          "output_type": "execute_result",
          "data": {
            "text/plain": [
              "Index(['userId', 'itemId', 'rating'], dtype='object')"
            ]
          },
          "metadata": {
            "tags": []
          },
          "execution_count": 3
        }
      ]
    },
    {
      "cell_type": "code",
      "metadata": {
        "colab": {
          "base_uri": "https://localhost:8080/"
        },
        "id": "n4zjeQfe7CZ2",
        "outputId": "ef18f71c-9fd8-42d3-9069-572960ef631f"
      },
      "source": [
        "# Tripadvisor Dataset\n",
        "\n",
        "path = r'/content/drive/MyDrive/Per_CD_RS/tripadvisor_reviews.csv'\n",
        "with open(path, encoding=\"utf-8\", errors='ignore') as infile:\n",
        "  tripadvisor = pd.read_csv(infile)\n",
        "tripadvisor = tripadvisor[['username', 'taObject', 'rating']]\n",
        "tripadvisor = tripadvisor.rename(columns={\"username\":\"userId\", \"taObject\":\"itemId\"})\n",
        "tripadvisor.columns"
      ],
      "execution_count": null,
      "outputs": [
        {
          "output_type": "execute_result",
          "data": {
            "text/plain": [
              "Index(['userId', 'itemId', 'rating'], dtype='object')"
            ]
          },
          "metadata": {},
          "execution_count": 3
        }
      ]
    },
    {
      "cell_type": "code",
      "source": [
        "# amazon review dataset magazines csv\n",
        "path = r'/content/drive/MyDrive/Per_CD_RS/Amazon_Text_Magazine_Subscriptions.csv'\n",
        "with open(path, encoding=\"utf-8\", errors='ignore') as infile:\n",
        "  az = pd.read_csv(infile, nrows=12000)\n",
        "az = az.rename(columns={\"reviewerID\":\"userId\", \"asin\":\"itemId\", \"overall\":\"rating\"})"
      ],
      "metadata": {
        "id": "H6FGGRS0NCmI"
      },
      "execution_count": null,
      "outputs": []
    },
    {
      "cell_type": "code",
      "metadata": {
        "id": "tJLz9n8M6kCG"
      },
      "source": [
        "source_user_ratings = tripadvisor\n",
        "target_user_ratings = az"
      ],
      "execution_count": null,
      "outputs": []
    },
    {
      "cell_type": "code",
      "metadata": {
        "colab": {
          "base_uri": "https://localhost:8080/"
        },
        "id": "wkXeR38f7vM0",
        "outputId": "d679745e-2fb4-4c76-ea57-9d6e4262c514"
      },
      "source": [
        "print(source_user_ratings.shape)\n",
        "print(target_user_ratings.shape)"
      ],
      "execution_count": null,
      "outputs": [
        {
          "output_type": "stream",
          "name": "stdout",
          "text": [
            "(32580, 3)\n",
            "(12000, 13)\n"
          ]
        }
      ]
    },
    {
      "cell_type": "code",
      "metadata": {
        "colab": {
          "base_uri": "https://localhost:8080/"
        },
        "id": "fQ8HYkPttFgS",
        "outputId": "cdc4a63c-00d2-4d21-caad-eea53d7dffd8"
      },
      "source": [
        "# creation of target rating matx for matx factorization(MF)\n",
        "rs = source_user_ratings.pivot_table(index='userId',columns='itemId',values='rating', fill_value=0)\n",
        "rs.shape\n",
        "# creation of target rating matx for matx factorization(MF)\n",
        "rt = target_user_ratings.pivot_table(index='userId',columns='itemId',values='rating', fill_value=0)\n",
        "rt.shape"
      ],
      "execution_count": null,
      "outputs": [
        {
          "output_type": "execute_result",
          "data": {
            "text/plain": [
              "(11295, 66)"
            ]
          },
          "metadata": {},
          "execution_count": 6
        }
      ]
    },
    {
      "cell_type": "markdown",
      "metadata": {
        "id": "4yJgvrQJgjaN"
      },
      "source": [
        "## SVD matrix Factorization "
      ]
    },
    {
      "cell_type": "code",
      "metadata": {
        "id": "yf1A_BkeZ9n_",
        "colab": {
          "base_uri": "https://localhost:8080/"
        },
        "outputId": "9d7082ca-e4ff-420e-bc82-1ec0a3ae9821"
      },
      "source": [
        "# matrix factorization(MF) via singular value decomposition(SVD) ad bm25_weight\n",
        "\n",
        "import scipy.sparse.linalg\n",
        "from implicit.nearest_neighbours import bm25_weight\n",
        "vt, x1, ut = scipy.sparse.linalg.svds(bm25_weight(rt), 50)\n",
        "vs, x2, us = scipy.sparse.linalg.svds(bm25_weight(rs), 50)"
      ],
      "execution_count": null,
      "outputs": [
        {
          "output_type": "stream",
          "name": "stderr",
          "text": [
            "/usr/local/lib/python3.7/dist-packages/implicit/gpu/__init__.py:14: UserWarning: CUDA extension is built, but disabling GPU support because of 'Cuda Error: no CUDA-capable device is detected (/project/./implicit/gpu/utils.h:71)'\n",
            "  f\"CUDA extension is built, but disabling GPU support because of '{e}'\",\n"
          ]
        }
      ]
    },
    {
      "cell_type": "code",
      "metadata": {
        "colab": {
          "base_uri": "https://localhost:8080/"
        },
        "id": "NlUS7KWE0F1-",
        "outputId": "5f94dc73-1c66-48a4-ef24-9f2faa433701"
      },
      "source": [
        "ut.shape"
      ],
      "execution_count": null,
      "outputs": [
        {
          "output_type": "execute_result",
          "data": {
            "text/plain": [
              "(50, 66)"
            ]
          },
          "metadata": {},
          "execution_count": 8
        }
      ]
    },
    {
      "cell_type": "markdown",
      "metadata": {
        "id": "tf3yA5eFgU-7"
      },
      "source": [
        "## ProbabilisticMatrixFactorization"
      ]
    },
    {
      "cell_type": "code",
      "metadata": {
        "id": "Ibkp0x4xXEM8"
      },
      "source": [
        "raw_t=target_user_ratings[['userId','itemId','rating']] \n",
        "raw_s=source_user_ratings[['userId','itemId','rating']]"
      ],
      "execution_count": null,
      "outputs": []
    },
    {
      "cell_type": "code",
      "metadata": {
        "id": "4okiMy-BPRAC"
      },
      "source": [
        "# matrix factorization(MF) via Probabilistic Matrix Factorization model\n",
        "import surprise\n",
        "\n",
        "reader = surprise.Reader(rating_scale=(1,5)) \n",
        "#into surprise:\n",
        "data_t = surprise.Dataset.load_from_df(raw_t,reader)\n",
        "data_s = surprise.Dataset.load_from_df(raw_s,reader)\n",
        "\n",
        "class ProbabilisticMatrixFactorization(surprise.AlgoBase):\n",
        "# Randomly initializes two Matrices, Stochastic Gradient Descent to be able to optimize the best factorization for ratings.\n",
        "    def __init__(self,learning_rate,num_epochs,num_factors):\n",
        "       # super(surprise.AlgoBase)\n",
        "        self.alpha = learning_rate #learning rate for Stochastic Gradient Descent\n",
        "        self.num_epochs = num_epochs\n",
        "        self.num_factors = num_factors\n",
        "    def fit(self,train):\n",
        "        #randomly initialize user/item factors from a Gaussian\n",
        "        P = np.random.normal(0,.1,(train.n_users,self.num_factors))\n",
        "        Q = np.random.normal(0,.1,(train.n_items,self.num_factors))\n",
        "        #print('fit')\n",
        "\n",
        "        for epoch in range(self.num_epochs):\n",
        "            for u,i,r_ui in train.all_ratings():\n",
        "                residual = r_ui - np.dot(P[u],Q[i])\n",
        "                temp = P[u,:] # we want to update them at the same time, so we make a temporary variable. \n",
        "                P[u,:] +=  self.alpha * residual * Q[i]\n",
        "                Q[i,:] +=  self.alpha * residual * temp \n",
        "\n",
        "                \n",
        "        self.P = P\n",
        "        self.Q = Q\n",
        "\n",
        "        self.trainset = train\n",
        "    \n",
        "    \n",
        "    def estimate(self,u,i):\n",
        "        #returns estimated rating for user u and item i. Prerequisite: Algorithm must be fit to training set.\n",
        "        #check to see if u and i are in the train set:\n",
        "        #print('gahh')\n",
        "\n",
        "        if self.trainset.knows_user(u) and self.trainset.knows_item(i):\n",
        "            #print(u,i, '\\n','yep:', self.P[u],self.Q[i])\n",
        "            #return scalar product of P[u] and Q[i]\n",
        "            nanCheck = np.dot(self.P[u],self.Q[i])\n",
        "            \n",
        "            if np.isnan(nanCheck):\n",
        "                return self.trainset.global_mean\n",
        "            else:\n",
        "                return np.dot(self.P[u,:],self.Q[i,:])\n",
        "        else:# if its not known we'll return the general average. \n",
        "           # print('global mean')\n",
        "            return self.trainset.global_mean"
      ],
      "execution_count": null,
      "outputs": []
    },
    {
      "cell_type": "code",
      "metadata": {
        "colab": {
          "base_uri": "https://localhost:8080/"
        },
        "id": "dC575TXAQS6J",
        "outputId": "8e936cce-c9ee-4851-f80a-a40cc1b2e6c7"
      },
      "source": [
        "Alg_t = ProbabilisticMatrixFactorization(learning_rate=0.001,num_epochs=10,num_factors=10)\n",
        "data_t1 = data_t.build_full_trainset()\n",
        "Alg_t.fit(data_t1)\n",
        "print(raw_t.userId.iloc[4],raw_t.itemId.iloc[4], raw_t.rating.iloc[4])\n",
        "Alg_t.estimate(raw_t.userId.iloc[4], raw_t.itemId.iloc[4])"
      ],
      "execution_count": null,
      "outputs": [
        {
          "output_type": "stream",
          "name": "stdout",
          "text": [
            "A25MDGOMZ2GALN B00005N7P0 5\n"
          ]
        },
        {
          "output_type": "execute_result",
          "data": {
            "text/plain": [
              "3.949666666666667"
            ]
          },
          "metadata": {},
          "execution_count": 11
        }
      ]
    },
    {
      "cell_type": "code",
      "metadata": {
        "colab": {
          "base_uri": "https://localhost:8080/"
        },
        "id": "dU92KTcQZpJx",
        "outputId": "c60e0c92-0334-450f-f12c-3d2753d484dc"
      },
      "source": [
        "Alg_s = ProbabilisticMatrixFactorization(learning_rate=0.001,num_epochs=10,num_factors=10)\n",
        "data_s1 = data_s.build_full_trainset()\n",
        "Alg_s.fit(data_s1)\n",
        "print(raw_s.userId.iloc[4],raw_s.itemId.iloc[4], raw_s.rating.iloc[4])\n",
        "Alg_s.estimate(raw_s.userId.iloc[4], raw_s.itemId.iloc[4])"
      ],
      "execution_count": null,
      "outputs": [
        {
          "output_type": "stream",
          "name": "stdout",
          "text": [
            "007solotraveler Hunter Steakhouse 5\n"
          ]
        },
        {
          "output_type": "execute_result",
          "data": {
            "text/plain": [
              "4.039318600368324"
            ]
          },
          "metadata": {},
          "execution_count": 12
        }
      ]
    },
    {
      "cell_type": "code",
      "source": [
        "Alg_s.fit(data_s1)"
      ],
      "metadata": {
        "id": "yoXpeo4RN9Y6"
      },
      "execution_count": null,
      "outputs": []
    },
    {
      "cell_type": "code",
      "metadata": {
        "id": "lPhrgXS_Qk_h"
      },
      "source": [
        "ut = Alg_t.P\n",
        "us = Alg_s.P\n",
        "vt = Alg_t.Q\n",
        "vs = Alg_s.Q"
      ],
      "execution_count": null,
      "outputs": []
    },
    {
      "cell_type": "code",
      "metadata": {
        "id": "N1JbRL31a27-",
        "colab": {
          "base_uri": "https://localhost:8080/"
        },
        "outputId": "f5f53f45-3b60-44ab-9538-67d3a0c2e89c"
      },
      "source": [
        "ut[1]"
      ],
      "execution_count": null,
      "outputs": [
        {
          "output_type": "execute_result",
          "data": {
            "text/plain": [
              "array([ 0.11792063,  0.00571279, -0.0473595 ,  0.00876846,  0.0645016 ,\n",
              "        0.03143918, -0.0882703 ,  0.19890237, -0.12415067,  0.00058347])"
            ]
          },
          "metadata": {},
          "execution_count": 37
        }
      ]
    },
    {
      "cell_type": "markdown",
      "metadata": {
        "id": "3X2LlrFFc81A"
      },
      "source": [
        "## Bayesian Personalised Ranking Model Matrix Factorization"
      ]
    },
    {
      "cell_type": "code",
      "metadata": {
        "id": "E5v6dM1ge17t"
      },
      "source": [
        "import sys\n",
        "import numpy as np\n",
        "import pandas as pd\n",
        "from math import ceil\n",
        "from tqdm import trange\n",
        "from subprocess import call\n",
        "from itertools import islice\n",
        "from sklearn.metrics import roc_auc_score\n",
        "from sklearn.preprocessing import normalize\n",
        "from sklearn.neighbors import NearestNeighbors\n",
        "from scipy.sparse import csr_matrix, dok_matrix"
      ],
      "execution_count": null,
      "outputs": []
    },
    {
      "cell_type": "code",
      "metadata": {
        "colab": {
          "base_uri": "https://localhost:8080/"
        },
        "id": "7w4g8mIIXnPL",
        "outputId": "a1a84c29-9393-411d-c0c9-5dfef5c0a021"
      },
      "source": [
        "def create_matrix(data, users_col, items_col, ratings_col, threshold = None):\n",
        "      if threshold is not None:\n",
        "        data = data[data[ratings_col] >= threshold]\n",
        "        data[ratings_col] = 1\n",
        "    \n",
        "      for col in (items_col, users_col, ratings_col):\n",
        "          data[col] = data[col].astype('category')\n",
        "\n",
        "      ratings = csr_matrix((data[ratings_col],\n",
        "                            (data[users_col].cat.codes, data[items_col].cat.codes)))\n",
        "      ratings.eliminate_zeros()\n",
        "      return ratings, data\n",
        "\n",
        "items_col = 'itemId'\n",
        "users_col = 'userId'\n",
        "ratings_col = 'rating'\n",
        "threshold = 3\n",
        "X_t, df_t = create_matrix(target_user_ratings, users_col, items_col, ratings_col, threshold)\n",
        "X_t\n",
        "X_s, df_s = create_matrix(source_user_ratings, users_col, items_col, ratings_col, threshold)\n",
        "X_s"
      ],
      "execution_count": null,
      "outputs": [
        {
          "output_type": "stream",
          "name": "stderr",
          "text": [
            "/usr/local/lib/python3.7/dist-packages/ipykernel_launcher.py:4: SettingWithCopyWarning: \n",
            "A value is trying to be set on a copy of a slice from a DataFrame.\n",
            "Try using .loc[row_indexer,col_indexer] = value instead\n",
            "\n",
            "See the caveats in the documentation: https://pandas.pydata.org/pandas-docs/stable/user_guide/indexing.html#returning-a-view-versus-a-copy\n",
            "  after removing the cwd from sys.path.\n",
            "/usr/local/lib/python3.7/dist-packages/ipykernel_launcher.py:7: SettingWithCopyWarning: \n",
            "A value is trying to be set on a copy of a slice from a DataFrame.\n",
            "Try using .loc[row_indexer,col_indexer] = value instead\n",
            "\n",
            "See the caveats in the documentation: https://pandas.pydata.org/pandas-docs/stable/user_guide/indexing.html#returning-a-view-versus-a-copy\n",
            "  import sys\n",
            "/usr/local/lib/python3.7/dist-packages/ipykernel_launcher.py:4: SettingWithCopyWarning: \n",
            "A value is trying to be set on a copy of a slice from a DataFrame.\n",
            "Try using .loc[row_indexer,col_indexer] = value instead\n",
            "\n",
            "See the caveats in the documentation: https://pandas.pydata.org/pandas-docs/stable/user_guide/indexing.html#returning-a-view-versus-a-copy\n",
            "  after removing the cwd from sys.path.\n",
            "/usr/local/lib/python3.7/dist-packages/ipykernel_launcher.py:7: SettingWithCopyWarning: \n",
            "A value is trying to be set on a copy of a slice from a DataFrame.\n",
            "Try using .loc[row_indexer,col_indexer] = value instead\n",
            "\n",
            "See the caveats in the documentation: https://pandas.pydata.org/pandas-docs/stable/user_guide/indexing.html#returning-a-view-versus-a-copy\n",
            "  import sys\n"
          ]
        },
        {
          "output_type": "execute_result",
          "data": {
            "text/plain": [
              "<1098x24294 sparse matrix of type '<class 'numpy.longlong'>'\n",
              "\twith 29207 stored elements in Compressed Sparse Row format>"
            ]
          },
          "metadata": {},
          "execution_count": 17
        }
      ]
    },
    {
      "cell_type": "code",
      "metadata": {
        "colab": {
          "base_uri": "https://localhost:8080/"
        },
        "id": "5Q5TsoK7deWb",
        "outputId": "41e07f0c-1139-4d72-8008-9c9a9885ca06"
      },
      "source": [
        "def create_train_test(ratings, test_size = 0.2, seed = 1234):\n",
        "    assert test_size < 1.0 and test_size > 0.0\n",
        "\n",
        "    # Dictionary Of Keys based sparse matrix is more efficient\n",
        "    # for constructing sparse matrices incrementally compared with csr_matrix\n",
        "    train = ratings.copy().todok()\n",
        "    test = dok_matrix(train.shape)\n",
        "    \n",
        "    # for all the users assign randomly chosen interactions\n",
        "    # to the test and assign those interactions to zero in the training;\n",
        "    # when computing the interactions to go into the test set, \n",
        "    # remember to round up the numbers (e.g. a user has 4 ratings, if the\n",
        "    # test_size is 0.2, then 0.8 ratings will go to test, thus we need to\n",
        "    # round up to ensure the test set gets at least 1 rating)\n",
        "    rstate = np.random.RandomState(seed)\n",
        "    for u in range(ratings.shape[0]):\n",
        "        split_index = ratings[u].indices\n",
        "        n_splits = ceil(test_size * split_index.shape[0])\n",
        "        test_index = rstate.choice(split_index, size = n_splits, replace = False)\n",
        "        test[u, test_index] = ratings[u, test_index]\n",
        "        train[u, test_index] = 0\n",
        "    \n",
        "    train, test = train.tocsr(), test.tocsr()\n",
        "    return train, test\n",
        "\n",
        "X_t_train, X_t_test = create_train_test(X_t, test_size = 0.2, seed = 1234)\n",
        "X_t_train\n",
        "X_s_train, X_s_test = create_train_test(X_s, test_size = 0.2, seed = 1234)\n",
        "X_s_train"
      ],
      "execution_count": null,
      "outputs": [
        {
          "output_type": "execute_result",
          "data": {
            "text/plain": [
              "<1098x24294 sparse matrix of type '<class 'numpy.longlong'>'\n",
              "\twith 22916 stored elements in Compressed Sparse Row format>"
            ]
          },
          "metadata": {},
          "execution_count": 18
        }
      ]
    },
    {
      "cell_type": "code",
      "metadata": {
        "id": "eUXvzItkdwtS"
      },
      "source": [
        "class BPR:\n",
        "    def __init__(self, learning_rate = 0.01, n_factors = 15, n_iters = 10, \n",
        "                 batch_size = 1000, reg = 0.01, seed = 1234, verbose = True):\n",
        "        self.reg = reg\n",
        "        self.seed = seed\n",
        "        self.verbose = verbose\n",
        "        self.n_iters = n_iters\n",
        "        self.n_factors = n_factors\n",
        "        self.batch_size = batch_size\n",
        "        self.learning_rate = learning_rate\n",
        "        \n",
        "        # to avoid re-computation at predict\n",
        "        self._prediction = None\n",
        "        \n",
        "    def fit(self, ratings):\n",
        "        \n",
        "        indptr = ratings.indptr\n",
        "        indices = ratings.indices\n",
        "        n_users, n_items = ratings.shape\n",
        "        \n",
        "        # ensure batch size makes sense, since the algorithm involves\n",
        "        # for each step randomly sample a user, thus the batch size\n",
        "        # should be smaller than the total number of users or else\n",
        "        # we would be sampling the user with replacement\n",
        "        batch_size = self.batch_size\n",
        "        if n_users < batch_size:\n",
        "            batch_size = n_users\n",
        "            sys.stderr.write('WARNING: Batch size is greater than number of users,'\n",
        "                             'switching to a batch size of {}\\n'.format(n_users))\n",
        "\n",
        "        batch_iters = n_users // batch_size\n",
        "        \n",
        "        # initialize random weights\n",
        "        rstate = np.random.RandomState(self.seed)\n",
        "        self.user_factors = rstate.normal(size = (n_users, self.n_factors))\n",
        "        self.item_factors = rstate.normal(size = (n_items, self.n_factors))\n",
        "        \n",
        "        # progress bar for training iteration if verbose is turned on\n",
        "        loop = range(self.n_iters)\n",
        "        if self.verbose:\n",
        "            loop = trange(self.n_iters, desc = self.__class__.__name__)\n",
        "        \n",
        "        for _ in loop:\n",
        "            for _ in range(batch_iters):\n",
        "                sampled = self._sample(n_users, n_items, indices, indptr)\n",
        "                sampled_users, sampled_pos_items, sampled_neg_items = sampled\n",
        "                self._update(sampled_users, sampled_pos_items, sampled_neg_items)\n",
        "\n",
        "        return self\n",
        "    \n",
        "    def _sample(self, n_users, n_items, indices, indptr):\n",
        "        \"\"\"sample batches of random triplets u, i, j\"\"\"\n",
        "        sampled_pos_items = np.zeros(self.batch_size, dtype = np.int)\n",
        "        sampled_neg_items = np.zeros(self.batch_size, dtype = np.int)\n",
        "        sampled_users = np.random.choice(\n",
        "            n_users, size = self.batch_size, replace = False)\n",
        "\n",
        "        for idx, user in enumerate(sampled_users):\n",
        "            pos_items = indices[indptr[user]:indptr[user + 1]]\n",
        "            pos_item = np.random.choice(pos_items)\n",
        "            neg_item = np.random.choice(n_items)\n",
        "            while neg_item in pos_items:\n",
        "                neg_item = np.random.choice(n_items)\n",
        "\n",
        "            sampled_pos_items[idx] = pos_item\n",
        "            sampled_neg_items[idx] = neg_item\n",
        "\n",
        "        return sampled_users, sampled_pos_items, sampled_neg_items\n",
        "                \n",
        "    def _update(self, u, i, j):\n",
        "        \"\"\"\n",
        "        update according to the bootstrapped user u, \n",
        "        positive item i and negative item j\n",
        "        \"\"\"\n",
        "        user_u = self.user_factors[u]\n",
        "        item_i = self.item_factors[i]\n",
        "        item_j = self.item_factors[j]\n",
        "\n",
        "        r_uij = np.sum(user_u * (item_i - item_j), axis = 1)\n",
        "        sigmoid = np.exp(-r_uij) / (1.0 + np.exp(-r_uij))\n",
        "        \n",
        "        # repeat the 1 dimension sigmoid n_factors times so\n",
        "        # the dimension will match when doing the update\n",
        "        sigmoid_tiled = np.tile(sigmoid, (self.n_factors, 1)).T\n",
        "\n",
        "        # update using gradient descent\n",
        "        grad_u = sigmoid_tiled * (item_j - item_i) + self.reg * user_u\n",
        "        grad_i = sigmoid_tiled * -user_u + self.reg * item_i\n",
        "        grad_j = sigmoid_tiled * user_u + self.reg * item_j\n",
        "        self.user_factors[u] -= self.learning_rate * grad_u\n",
        "        self.item_factors[i] -= self.learning_rate * grad_i\n",
        "        self.item_factors[j] -= self.learning_rate * grad_j\n",
        "        return self\n",
        "\n",
        "    def predict(self):\n",
        "        \"\"\"\n",
        "        Obtain the predicted ratings for every users and items\n",
        "        by doing a dot product of the learnt user and item vectors.\n",
        "        The result will be cached to avoid re-computing it every time\n",
        "        we call predict, thus there will only be an overhead the first\n",
        "        time we call it. Note, ideally you probably don't need to compute\n",
        "        this as it returns a dense matrix and may take up huge amounts of\n",
        "        memory for large datasets\n",
        "        \"\"\"\n",
        "        if self._prediction is None:\n",
        "            self._prediction = self.user_factors.dot(self.item_factors.T)\n",
        "\n",
        "        return self._prediction\n",
        "\n",
        "    def _predict_user(self, user):\n",
        "        \"\"\"\n",
        "        returns the predicted ratings for the specified user,\n",
        "        this is mainly used in computing evaluation metric\n",
        "        \"\"\"\n",
        "        user_pred = self.user_factors[user].dot(self.item_factors.T)\n",
        "        return user_pred\n",
        "\n",
        "    def recommend(self, ratings, N = 5):\n",
        "       \n",
        "        n_users = ratings.shape[0]\n",
        "        recommendation = np.zeros((n_users, N), dtype = np.uint32)\n",
        "        for user in range(n_users):\n",
        "            top_n = self._recommend_user(ratings, user, N)\n",
        "            recommendation[user] = top_n\n",
        "\n",
        "        return recommendation\n",
        "\n",
        "    def _recommend_user(self, ratings, user, N):\n",
        "        \"\"\"the top-N ranked items for a given user\"\"\"\n",
        "        scores = self._predict_user(user)\n",
        "\n",
        "        # compute the top N items, removing the items that the user already liked\n",
        "        # from the result and ensure that we don't get out of bounds error when \n",
        "        # we ask for more recommendations than that are available\n",
        "        liked = set(ratings[user].indices)\n",
        "        count = N + len(liked)\n",
        "        if count < scores.shape[0]:\n",
        "\n",
        "            ids = np.argpartition(scores, -count)[-count:]\n",
        "            best_ids = np.argsort(scores[ids])[::-1]\n",
        "            best = ids[best_ids]\n",
        "        else:\n",
        "            best = np.argsort(scores)[::-1]\n",
        "\n",
        "        top_n = list(islice((rec for rec in best if rec not in liked), N))\n",
        "        return top_n\n",
        "    \n",
        "    def get_similar_items(self, N = 5, item_ids = None):\n",
        "        normed_factors = normalize(self.item_factors)\n",
        "        knn = NearestNeighbors(n_neighbors = N + 1, metric = 'euclidean')\n",
        "        knn.fit(normed_factors)\n",
        "\n",
        "        # returns a distance, index tuple,\n",
        "        # we don't actually need the distance\n",
        "        if item_ids is not None:\n",
        "            normed_factors = normed_factors[item_ids]\n",
        "\n",
        "        _, items = knn.kneighbors(normed_factors)\n",
        "        similar_items = items[:, 1:].astype(np.uint32)\n",
        "        return similar_items"
      ],
      "execution_count": null,
      "outputs": []
    },
    {
      "cell_type": "code",
      "metadata": {
        "colab": {
          "base_uri": "https://localhost:8080/",
          "height": 505
        },
        "id": "XEkyWUvDfivq",
        "outputId": "78fee644-040b-4543-80ea-ea8791d94db9"
      },
      "source": [
        "bpr_params = {'reg': 0.01,\n",
        "              'learning_rate': 0.1,\n",
        "              'n_iters': 160,\n",
        "              'n_factors': 15,\n",
        "              'batch_size': 100}\n",
        "\n",
        "bpr_t = BPR(**bpr_params)\n",
        "bpr_s = BPR(**bpr_params)\n",
        "bpr_t.fit(X_t_train)\n",
        "bpr_s.fit(X_s_train)"
      ],
      "execution_count": null,
      "outputs": [
        {
          "output_type": "stream",
          "name": "stderr",
          "text": [
            "BPR:   0%|          | 0/160 [00:00<?, ?it/s]/usr/local/lib/python3.7/dist-packages/ipykernel_launcher.py:53: DeprecationWarning: `np.int` is a deprecated alias for the builtin `int`. To silence this warning, use `int` by itself. Doing this will not modify any behavior and is safe. When replacing `np.int`, you may wish to use e.g. `np.int64` or `np.int32` to specify the precision. If you wish to review your current use, check the release note link for additional information.\n",
            "Deprecated in NumPy 1.20; for more details and guidance: https://numpy.org/devdocs/release/1.20.0-notes.html#deprecations\n",
            "/usr/local/lib/python3.7/dist-packages/ipykernel_launcher.py:54: DeprecationWarning: `np.int` is a deprecated alias for the builtin `int`. To silence this warning, use `int` by itself. Doing this will not modify any behavior and is safe. When replacing `np.int`, you may wish to use e.g. `np.int64` or `np.int32` to specify the precision. If you wish to review your current use, check the release note link for additional information.\n",
            "Deprecated in NumPy 1.20; for more details and guidance: https://numpy.org/devdocs/release/1.20.0-notes.html#deprecations\n",
            "BPR:   0%|          | 0/160 [00:00<?, ?it/s]\n"
          ]
        },
        {
          "output_type": "error",
          "ename": "ValueError",
          "evalue": "ignored",
          "traceback": [
            "\u001b[0;31m---------------------------------------------------------------------------\u001b[0m",
            "\u001b[0;31mValueError\u001b[0m                                Traceback (most recent call last)",
            "\u001b[0;32m<ipython-input-20-ce5f2386b74d>\u001b[0m in \u001b[0;36m<module>\u001b[0;34m()\u001b[0m\n\u001b[1;32m      7\u001b[0m \u001b[0mbpr_t\u001b[0m \u001b[0;34m=\u001b[0m \u001b[0mBPR\u001b[0m\u001b[0;34m(\u001b[0m\u001b[0;34m**\u001b[0m\u001b[0mbpr_params\u001b[0m\u001b[0;34m)\u001b[0m\u001b[0;34m\u001b[0m\u001b[0;34m\u001b[0m\u001b[0m\n\u001b[1;32m      8\u001b[0m \u001b[0mbpr_s\u001b[0m \u001b[0;34m=\u001b[0m \u001b[0mBPR\u001b[0m\u001b[0;34m(\u001b[0m\u001b[0;34m**\u001b[0m\u001b[0mbpr_params\u001b[0m\u001b[0;34m)\u001b[0m\u001b[0;34m\u001b[0m\u001b[0;34m\u001b[0m\u001b[0m\n\u001b[0;32m----> 9\u001b[0;31m \u001b[0mbpr_t\u001b[0m\u001b[0;34m.\u001b[0m\u001b[0mfit\u001b[0m\u001b[0;34m(\u001b[0m\u001b[0mX_t_train\u001b[0m\u001b[0;34m)\u001b[0m\u001b[0;34m\u001b[0m\u001b[0;34m\u001b[0m\u001b[0m\n\u001b[0m\u001b[1;32m     10\u001b[0m \u001b[0mbpr_s\u001b[0m\u001b[0;34m.\u001b[0m\u001b[0mfit\u001b[0m\u001b[0;34m(\u001b[0m\u001b[0mX_s_train\u001b[0m\u001b[0;34m)\u001b[0m\u001b[0;34m\u001b[0m\u001b[0;34m\u001b[0m\u001b[0m\n",
            "\u001b[0;32m<ipython-input-19-10d8cad43309>\u001b[0m in \u001b[0;36mfit\u001b[0;34m(self, ratings)\u001b[0m\n\u001b[1;32m     43\u001b[0m         \u001b[0;32mfor\u001b[0m \u001b[0m_\u001b[0m \u001b[0;32min\u001b[0m \u001b[0mloop\u001b[0m\u001b[0;34m:\u001b[0m\u001b[0;34m\u001b[0m\u001b[0;34m\u001b[0m\u001b[0m\n\u001b[1;32m     44\u001b[0m             \u001b[0;32mfor\u001b[0m \u001b[0m_\u001b[0m \u001b[0;32min\u001b[0m \u001b[0mrange\u001b[0m\u001b[0;34m(\u001b[0m\u001b[0mbatch_iters\u001b[0m\u001b[0;34m)\u001b[0m\u001b[0;34m:\u001b[0m\u001b[0;34m\u001b[0m\u001b[0;34m\u001b[0m\u001b[0m\n\u001b[0;32m---> 45\u001b[0;31m                 \u001b[0msampled\u001b[0m \u001b[0;34m=\u001b[0m \u001b[0mself\u001b[0m\u001b[0;34m.\u001b[0m\u001b[0m_sample\u001b[0m\u001b[0;34m(\u001b[0m\u001b[0mn_users\u001b[0m\u001b[0;34m,\u001b[0m \u001b[0mn_items\u001b[0m\u001b[0;34m,\u001b[0m \u001b[0mindices\u001b[0m\u001b[0;34m,\u001b[0m \u001b[0mindptr\u001b[0m\u001b[0;34m)\u001b[0m\u001b[0;34m\u001b[0m\u001b[0;34m\u001b[0m\u001b[0m\n\u001b[0m\u001b[1;32m     46\u001b[0m                 \u001b[0msampled_users\u001b[0m\u001b[0;34m,\u001b[0m \u001b[0msampled_pos_items\u001b[0m\u001b[0;34m,\u001b[0m \u001b[0msampled_neg_items\u001b[0m \u001b[0;34m=\u001b[0m \u001b[0msampled\u001b[0m\u001b[0;34m\u001b[0m\u001b[0;34m\u001b[0m\u001b[0m\n\u001b[1;32m     47\u001b[0m                 \u001b[0mself\u001b[0m\u001b[0;34m.\u001b[0m\u001b[0m_update\u001b[0m\u001b[0;34m(\u001b[0m\u001b[0msampled_users\u001b[0m\u001b[0;34m,\u001b[0m \u001b[0msampled_pos_items\u001b[0m\u001b[0;34m,\u001b[0m \u001b[0msampled_neg_items\u001b[0m\u001b[0;34m)\u001b[0m\u001b[0;34m\u001b[0m\u001b[0;34m\u001b[0m\u001b[0m\n",
            "\u001b[0;32m<ipython-input-19-10d8cad43309>\u001b[0m in \u001b[0;36m_sample\u001b[0;34m(self, n_users, n_items, indices, indptr)\u001b[0m\n\u001b[1;32m     58\u001b[0m         \u001b[0;32mfor\u001b[0m \u001b[0midx\u001b[0m\u001b[0;34m,\u001b[0m \u001b[0muser\u001b[0m \u001b[0;32min\u001b[0m \u001b[0menumerate\u001b[0m\u001b[0;34m(\u001b[0m\u001b[0msampled_users\u001b[0m\u001b[0;34m)\u001b[0m\u001b[0;34m:\u001b[0m\u001b[0;34m\u001b[0m\u001b[0;34m\u001b[0m\u001b[0m\n\u001b[1;32m     59\u001b[0m             \u001b[0mpos_items\u001b[0m \u001b[0;34m=\u001b[0m \u001b[0mindices\u001b[0m\u001b[0;34m[\u001b[0m\u001b[0mindptr\u001b[0m\u001b[0;34m[\u001b[0m\u001b[0muser\u001b[0m\u001b[0;34m]\u001b[0m\u001b[0;34m:\u001b[0m\u001b[0mindptr\u001b[0m\u001b[0;34m[\u001b[0m\u001b[0muser\u001b[0m \u001b[0;34m+\u001b[0m \u001b[0;36m1\u001b[0m\u001b[0;34m]\u001b[0m\u001b[0;34m]\u001b[0m\u001b[0;34m\u001b[0m\u001b[0;34m\u001b[0m\u001b[0m\n\u001b[0;32m---> 60\u001b[0;31m             \u001b[0mpos_item\u001b[0m \u001b[0;34m=\u001b[0m \u001b[0mnp\u001b[0m\u001b[0;34m.\u001b[0m\u001b[0mrandom\u001b[0m\u001b[0;34m.\u001b[0m\u001b[0mchoice\u001b[0m\u001b[0;34m(\u001b[0m\u001b[0mpos_items\u001b[0m\u001b[0;34m)\u001b[0m\u001b[0;34m\u001b[0m\u001b[0;34m\u001b[0m\u001b[0m\n\u001b[0m\u001b[1;32m     61\u001b[0m             \u001b[0mneg_item\u001b[0m \u001b[0;34m=\u001b[0m \u001b[0mnp\u001b[0m\u001b[0;34m.\u001b[0m\u001b[0mrandom\u001b[0m\u001b[0;34m.\u001b[0m\u001b[0mchoice\u001b[0m\u001b[0;34m(\u001b[0m\u001b[0mn_items\u001b[0m\u001b[0;34m)\u001b[0m\u001b[0;34m\u001b[0m\u001b[0;34m\u001b[0m\u001b[0m\n\u001b[1;32m     62\u001b[0m             \u001b[0;32mwhile\u001b[0m \u001b[0mneg_item\u001b[0m \u001b[0;32min\u001b[0m \u001b[0mpos_items\u001b[0m\u001b[0;34m:\u001b[0m\u001b[0;34m\u001b[0m\u001b[0;34m\u001b[0m\u001b[0m\n",
            "\u001b[0;32mmtrand.pyx\u001b[0m in \u001b[0;36mnumpy.random.mtrand.RandomState.choice\u001b[0;34m()\u001b[0m\n",
            "\u001b[0;31mValueError\u001b[0m: 'a' cannot be empty unless no samples are taken"
          ]
        }
      ]
    },
    {
      "cell_type": "code",
      "metadata": {
        "id": "NHXXR61rfvEq"
      },
      "source": [
        "bpr.user_factors"
      ],
      "execution_count": null,
      "outputs": []
    },
    {
      "cell_type": "code",
      "metadata": {
        "id": "UFuArngrM8PP"
      },
      "source": [
        "bpr.item_factors"
      ],
      "execution_count": null,
      "outputs": []
    },
    {
      "cell_type": "code",
      "metadata": {
        "id": "7Cyw_HB5NQEB"
      },
      "source": [
        "from sklearn.impute import SimpleImputer\n",
        "data_imputer = SimpleImputer(missing_values=np.nan, strategy='mean')\n",
        "# fit the imputer - suppose missing data is in the 0th column\n",
        "data_imputer = data_imputer.fit(X_t_train)\n",
        "# transform the data\n",
        "data = data_imputer.transform(X_t_train)"
      ],
      "execution_count": null,
      "outputs": []
    },
    {
      "cell_type": "code",
      "metadata": {
        "id": "TFmMH27ib-6r"
      },
      "source": [
        "type(X_t_train)"
      ],
      "execution_count": null,
      "outputs": []
    },
    {
      "cell_type": "code",
      "metadata": {
        "id": "FrqWdk3he8bY"
      },
      "source": [
        "!pip install sklearn"
      ],
      "execution_count": null,
      "outputs": []
    },
    {
      "cell_type": "markdown",
      "metadata": {
        "id": "jYxRxvcmgeZ8"
      },
      "source": [
        "# Dnn mapping"
      ]
    },
    {
      "cell_type": "code",
      "metadata": {
        "id": "cqujaDnxjwiK"
      },
      "source": [
        "ei_t = pd.DataFrame()\n",
        "ei_s = pd.DataFrame()"
      ],
      "execution_count": null,
      "outputs": []
    },
    {
      "cell_type": "code",
      "metadata": {
        "colab": {
          "base_uri": "https://localhost:8080/",
          "height": 490
        },
        "id": "TyGgOdJ9gyLf",
        "outputId": "6250e750-a658-4a59-ed6f-1e42891c0ccc"
      },
      "source": [
        "t = target_user_ratings['userId'].value_counts()\n",
        "ei_t = t.to_frame()\n",
        "ud = []\n",
        "for a in range(len(ei_t)):\n",
        "  rows = []\n",
        "  for b in range(10):\n",
        "    rows.append(0)\n",
        "  ud.append(rows)\n",
        "ei_t['latent_factor'] = ud\n",
        "for i in range(len(ei_t)):\n",
        "  ei_t['latent_factor'][i] = ut[i]\n",
        "x = target_user_ratings.sort_values(by='userId')\n",
        "x = np.array(x['userId'].drop_duplicates())\n",
        "ei_t = ei_t.sort_index()\n",
        "ei_t = ei_t.rename(columns={\"userId\": \"ni\"})\n",
        "ei_t['userId'] = x\n",
        "ei_t"
      ],
      "execution_count": null,
      "outputs": [
        {
          "output_type": "stream",
          "name": "stderr",
          "text": [
            "/usr/local/lib/python3.7/dist-packages/ipykernel_launcher.py:11: SettingWithCopyWarning: \n",
            "A value is trying to be set on a copy of a slice from a DataFrame\n",
            "\n",
            "See the caveats in the documentation: https://pandas.pydata.org/pandas-docs/stable/user_guide/indexing.html#returning-a-view-versus-a-copy\n",
            "  # This is added back by InteractiveShellApp.init_path()\n"
          ]
        },
        {
          "output_type": "execute_result",
          "data": {
            "text/html": [
              "<div>\n",
              "<style scoped>\n",
              "    .dataframe tbody tr th:only-of-type {\n",
              "        vertical-align: middle;\n",
              "    }\n",
              "\n",
              "    .dataframe tbody tr th {\n",
              "        vertical-align: top;\n",
              "    }\n",
              "\n",
              "    .dataframe thead th {\n",
              "        text-align: right;\n",
              "    }\n",
              "</style>\n",
              "<table border=\"1\" class=\"dataframe\">\n",
              "  <thead>\n",
              "    <tr style=\"text-align: right;\">\n",
              "      <th></th>\n",
              "      <th>ni</th>\n",
              "      <th>latent_factor</th>\n",
              "      <th>userId</th>\n",
              "    </tr>\n",
              "  </thead>\n",
              "  <tbody>\n",
              "    <tr>\n",
              "      <th>A0034986DWR7WEDQN0GV</th>\n",
              "      <td>1</td>\n",
              "      <td>[-0.12765465952427302, -0.17684285510750528, 0...</td>\n",
              "      <td>A0034986DWR7WEDQN0GV</td>\n",
              "    </tr>\n",
              "    <tr>\n",
              "      <th>A0160612BLIWRHROHLLE</th>\n",
              "      <td>1</td>\n",
              "      <td>[0.07045441840735922, -0.18557763786227685, 0....</td>\n",
              "      <td>A0160612BLIWRHROHLLE</td>\n",
              "    </tr>\n",
              "    <tr>\n",
              "      <th>A032903147O439YA3R0D</th>\n",
              "      <td>1</td>\n",
              "      <td>[-0.011696874023991076, -0.014122395600793545,...</td>\n",
              "      <td>A032903147O439YA3R0D</td>\n",
              "    </tr>\n",
              "    <tr>\n",
              "      <th>A100CQXJ6D44T9</th>\n",
              "      <td>1</td>\n",
              "      <td>[0.07993089395999163, -0.0542324205675629, 0.1...</td>\n",
              "      <td>A100CQXJ6D44T9</td>\n",
              "    </tr>\n",
              "    <tr>\n",
              "      <th>A100MPD67FD3ID</th>\n",
              "      <td>1</td>\n",
              "      <td>[-0.005536118080176104, 0.13938347357185474, -...</td>\n",
              "      <td>A100MPD67FD3ID</td>\n",
              "    </tr>\n",
              "    <tr>\n",
              "      <th>...</th>\n",
              "      <td>...</td>\n",
              "      <td>...</td>\n",
              "      <td>...</td>\n",
              "    </tr>\n",
              "    <tr>\n",
              "      <th>AZWLJC4YOJDYW</th>\n",
              "      <td>1</td>\n",
              "      <td>[-0.012263824034034199, -0.17065938535497122, ...</td>\n",
              "      <td>AZWLJC4YOJDYW</td>\n",
              "    </tr>\n",
              "    <tr>\n",
              "      <th>AZWQOKJLSRFTB</th>\n",
              "      <td>1</td>\n",
              "      <td>[-0.0121745599533533, -0.09485913442567812, -0...</td>\n",
              "      <td>AZWQOKJLSRFTB</td>\n",
              "    </tr>\n",
              "    <tr>\n",
              "      <th>AZY3B95680TUC</th>\n",
              "      <td>1</td>\n",
              "      <td>[0.018329393908584162, 0.22391680820337428, -0...</td>\n",
              "      <td>AZY3B95680TUC</td>\n",
              "    </tr>\n",
              "    <tr>\n",
              "      <th>AZYYFN06QYPC9</th>\n",
              "      <td>1</td>\n",
              "      <td>[-0.04118857697605252, 0.033883898676644986, -...</td>\n",
              "      <td>AZYYFN06QYPC9</td>\n",
              "    </tr>\n",
              "    <tr>\n",
              "      <th>AZZXJAE2DILET</th>\n",
              "      <td>1</td>\n",
              "      <td>[0.013767777161305363, -0.09947556090450284, 0...</td>\n",
              "      <td>AZZXJAE2DILET</td>\n",
              "    </tr>\n",
              "  </tbody>\n",
              "</table>\n",
              "<p>9788 rows × 3 columns</p>\n",
              "</div>"
            ],
            "text/plain": [
              "                      ni  ...                userId\n",
              "A0034986DWR7WEDQN0GV   1  ...  A0034986DWR7WEDQN0GV\n",
              "A0160612BLIWRHROHLLE   1  ...  A0160612BLIWRHROHLLE\n",
              "A032903147O439YA3R0D   1  ...  A032903147O439YA3R0D\n",
              "A100CQXJ6D44T9         1  ...        A100CQXJ6D44T9\n",
              "A100MPD67FD3ID         1  ...        A100MPD67FD3ID\n",
              "...                   ..  ...                   ...\n",
              "AZWLJC4YOJDYW          1  ...         AZWLJC4YOJDYW\n",
              "AZWQOKJLSRFTB          1  ...         AZWQOKJLSRFTB\n",
              "AZY3B95680TUC          1  ...         AZY3B95680TUC\n",
              "AZYYFN06QYPC9          1  ...         AZYYFN06QYPC9\n",
              "AZZXJAE2DILET          1  ...         AZZXJAE2DILET\n",
              "\n",
              "[9788 rows x 3 columns]"
            ]
          },
          "metadata": {},
          "execution_count": 20
        }
      ]
    },
    {
      "cell_type": "code",
      "metadata": {
        "colab": {
          "base_uri": "https://localhost:8080/",
          "height": 490
        },
        "id": "_EDE2Qwwnh-K",
        "outputId": "ea413ef8-534f-4248-dcb6-86c2e4cfb9c3"
      },
      "source": [
        "s = source_user_ratings['userId'].value_counts()\n",
        "ei_s = s.to_frame()\n",
        "ud = []\n",
        "for a in range(len(ei_s)):\n",
        "  rows = []\n",
        "  for b in range(10):\n",
        "    rows.append(0)\n",
        "  ud.append(rows)\n",
        "ei_s['latent_factor'] = ud\n",
        "for i in range(len(ei_s)):\n",
        "  ei_s['latent_factor'][i] = us[i]\n",
        "x = source_user_ratings.sort_values(by='userId')\n",
        "x = np.array(x['userId'].drop_duplicates())\n",
        "ei_s = ei_s.sort_index()\n",
        "ei_s = ei_s.rename(columns={\"userId\": \"ni\"})\n",
        "ei_s['userId'] = x\n",
        "ei_s"
      ],
      "execution_count": null,
      "outputs": [
        {
          "output_type": "stream",
          "name": "stderr",
          "text": [
            "/usr/local/lib/python3.7/dist-packages/ipykernel_launcher.py:11: SettingWithCopyWarning: \n",
            "A value is trying to be set on a copy of a slice from a DataFrame\n",
            "\n",
            "See the caveats in the documentation: https://pandas.pydata.org/pandas-docs/stable/user_guide/indexing.html#returning-a-view-versus-a-copy\n",
            "  # This is added back by InteractiveShellApp.init_path()\n"
          ]
        },
        {
          "output_type": "execute_result",
          "data": {
            "text/html": [
              "<div>\n",
              "<style scoped>\n",
              "    .dataframe tbody tr th:only-of-type {\n",
              "        vertical-align: middle;\n",
              "    }\n",
              "\n",
              "    .dataframe tbody tr th {\n",
              "        vertical-align: top;\n",
              "    }\n",
              "\n",
              "    .dataframe thead th {\n",
              "        text-align: right;\n",
              "    }\n",
              "</style>\n",
              "<table border=\"1\" class=\"dataframe\">\n",
              "  <thead>\n",
              "    <tr style=\"text-align: right;\">\n",
              "      <th></th>\n",
              "      <th>ni</th>\n",
              "      <th>latent_factor</th>\n",
              "      <th>userId</th>\n",
              "    </tr>\n",
              "  </thead>\n",
              "  <tbody>\n",
              "    <tr>\n",
              "      <th>A0334855HN6E38CXWXZR</th>\n",
              "      <td>1</td>\n",
              "      <td>[0.06338707424427943, -0.042142567095948165, 0...</td>\n",
              "      <td>A0334855HN6E38CXWXZR</td>\n",
              "    </tr>\n",
              "    <tr>\n",
              "      <th>A0520969JGW2CZRMEZMM</th>\n",
              "      <td>1</td>\n",
              "      <td>[0.11541894481023358, 0.03421455786402636, 0.1...</td>\n",
              "      <td>A0520969JGW2CZRMEZMM</td>\n",
              "    </tr>\n",
              "    <tr>\n",
              "      <th>A0790722OCX87RKL2J3T</th>\n",
              "      <td>1</td>\n",
              "      <td>[-0.08781880467675265, -0.04883149553448582, -...</td>\n",
              "      <td>A0790722OCX87RKL2J3T</td>\n",
              "    </tr>\n",
              "    <tr>\n",
              "      <th>A100ATCZ8R81KG</th>\n",
              "      <td>1</td>\n",
              "      <td>[-0.16361300197173395, 0.13930260363589853, -0...</td>\n",
              "      <td>A100ATCZ8R81KG</td>\n",
              "    </tr>\n",
              "    <tr>\n",
              "      <th>A101M64MW6EH3O</th>\n",
              "      <td>1</td>\n",
              "      <td>[-0.06286932110741884, 0.00992801506089835, -0...</td>\n",
              "      <td>A101M64MW6EH3O</td>\n",
              "    </tr>\n",
              "    <tr>\n",
              "      <th>...</th>\n",
              "      <td>...</td>\n",
              "      <td>...</td>\n",
              "      <td>...</td>\n",
              "    </tr>\n",
              "    <tr>\n",
              "      <th>AZVK41090G5LI</th>\n",
              "      <td>1</td>\n",
              "      <td>[0.013165219112807856, -0.11239192953493417, -...</td>\n",
              "      <td>AZVK41090G5LI</td>\n",
              "    </tr>\n",
              "    <tr>\n",
              "      <th>AZVVRNCE2F0ZY</th>\n",
              "      <td>1</td>\n",
              "      <td>[-0.010629509193683252, 0.09750171714690012, 0...</td>\n",
              "      <td>AZVVRNCE2F0ZY</td>\n",
              "    </tr>\n",
              "    <tr>\n",
              "      <th>AZWV6VDHSTION</th>\n",
              "      <td>1</td>\n",
              "      <td>[-0.0051956922152628, 0.011702528786929171, 0....</td>\n",
              "      <td>AZWV6VDHSTION</td>\n",
              "    </tr>\n",
              "    <tr>\n",
              "      <th>AZY870M82TGEI</th>\n",
              "      <td>1</td>\n",
              "      <td>[-0.04250248205542601, 0.13367436508139946, -0...</td>\n",
              "      <td>AZY870M82TGEI</td>\n",
              "    </tr>\n",
              "    <tr>\n",
              "      <th>AZYH2ZK8UE1YY</th>\n",
              "      <td>1</td>\n",
              "      <td>[-0.019305673041484294, -0.01923670045836219, ...</td>\n",
              "      <td>AZYH2ZK8UE1YY</td>\n",
              "    </tr>\n",
              "  </tbody>\n",
              "</table>\n",
              "<p>9702 rows × 3 columns</p>\n",
              "</div>"
            ],
            "text/plain": [
              "                      ni  ...                userId\n",
              "A0334855HN6E38CXWXZR   1  ...  A0334855HN6E38CXWXZR\n",
              "A0520969JGW2CZRMEZMM   1  ...  A0520969JGW2CZRMEZMM\n",
              "A0790722OCX87RKL2J3T   1  ...  A0790722OCX87RKL2J3T\n",
              "A100ATCZ8R81KG         1  ...        A100ATCZ8R81KG\n",
              "A101M64MW6EH3O         1  ...        A101M64MW6EH3O\n",
              "...                   ..  ...                   ...\n",
              "AZVK41090G5LI          1  ...         AZVK41090G5LI\n",
              "AZVVRNCE2F0ZY          1  ...         AZVVRNCE2F0ZY\n",
              "AZWV6VDHSTION          1  ...         AZWV6VDHSTION\n",
              "AZY870M82TGEI          1  ...         AZY870M82TGEI\n",
              "AZYH2ZK8UE1YY          1  ...         AZYH2ZK8UE1YY\n",
              "\n",
              "[9702 rows x 3 columns]"
            ]
          },
          "metadata": {},
          "execution_count": 21
        }
      ]
    },
    {
      "cell_type": "markdown",
      "metadata": {
        "id": "A94PLTGq3UCN"
      },
      "source": [
        "### Common Users"
      ]
    },
    {
      "cell_type": "code",
      "metadata": {
        "id": "cij1m_aAoaTG"
      },
      "source": [
        "cu = pd.DataFrame()\n",
        "common_users = np.intersect1d(np.array(ei_s['userId']), np.array(ei_t['userId']))"
      ],
      "execution_count": null,
      "outputs": []
    },
    {
      "cell_type": "code",
      "metadata": {
        "id": "kEvZfJT0g0Y9"
      },
      "source": [
        "cu_s = ei_s[ei_s['userId'].isin(common_users)]"
      ],
      "execution_count": null,
      "outputs": []
    },
    {
      "cell_type": "code",
      "metadata": {
        "id": "ic9F5rNHmZCf"
      },
      "source": [
        "cu_t = ei_t[ei_t['userId'].isin(common_users)]"
      ],
      "execution_count": null,
      "outputs": []
    },
    {
      "cell_type": "code",
      "metadata": {
        "colab": {
          "base_uri": "https://localhost:8080/",
          "height": 1000
        },
        "id": "Og4yCAiwmeqg",
        "outputId": "c8a26a9f-0b35-4961-eefe-c851ad8ce84f"
      },
      "source": [
        "cu = pd.DataFrame()\n",
        "cu['userId'] = cu_s['userId']\n",
        "cu['ni_s'] = cu_s['ni']\n",
        "cu['ni_t'] = cu_t['ni']\n",
        "cu['UI_s'] = cu_s['latent_factor']\n",
        "cu['UI_t'] = cu_t['latent_factor']\n",
        "cu"
      ],
      "execution_count": null,
      "outputs": [
        {
          "output_type": "execute_result",
          "data": {
            "text/html": [
              "<div>\n",
              "<style scoped>\n",
              "    .dataframe tbody tr th:only-of-type {\n",
              "        vertical-align: middle;\n",
              "    }\n",
              "\n",
              "    .dataframe tbody tr th {\n",
              "        vertical-align: top;\n",
              "    }\n",
              "\n",
              "    .dataframe thead th {\n",
              "        text-align: right;\n",
              "    }\n",
              "</style>\n",
              "<table border=\"1\" class=\"dataframe\">\n",
              "  <thead>\n",
              "    <tr style=\"text-align: right;\">\n",
              "      <th></th>\n",
              "      <th>userId</th>\n",
              "      <th>ni_s</th>\n",
              "      <th>ni_t</th>\n",
              "      <th>UI_s</th>\n",
              "      <th>UI_t</th>\n",
              "    </tr>\n",
              "  </thead>\n",
              "  <tbody>\n",
              "    <tr>\n",
              "      <th>A1725TI23A8AZ5</th>\n",
              "      <td>A1725TI23A8AZ5</td>\n",
              "      <td>1</td>\n",
              "      <td>1</td>\n",
              "      <td>[-0.02605857811307092, 0.014199546389354131, -...</td>\n",
              "      <td>[-0.06310286361546404, -0.10257794931370896, 0...</td>\n",
              "    </tr>\n",
              "    <tr>\n",
              "      <th>A17FLA8HQOFVIG</th>\n",
              "      <td>A17FLA8HQOFVIG</td>\n",
              "      <td>1</td>\n",
              "      <td>2</td>\n",
              "      <td>[-0.022268642981203304, -0.0511238684610821, -...</td>\n",
              "      <td>[-0.05730133137103992, 0.07942591345023191, 0....</td>\n",
              "    </tr>\n",
              "    <tr>\n",
              "      <th>A18DX1AT72SY95</th>\n",
              "      <td>A18DX1AT72SY95</td>\n",
              "      <td>1</td>\n",
              "      <td>1</td>\n",
              "      <td>[-5.930269002463878e-06, 0.04757114650796635, ...</td>\n",
              "      <td>[-0.0581236924091468, -0.17221666290376353, 0....</td>\n",
              "    </tr>\n",
              "    <tr>\n",
              "      <th>A18OUQEK7IZ2F2</th>\n",
              "      <td>A18OUQEK7IZ2F2</td>\n",
              "      <td>2</td>\n",
              "      <td>1</td>\n",
              "      <td>[0.0632379746764821, -0.029914292483542763, 0....</td>\n",
              "      <td>[-0.011592110326265097, 0.10531469422414447, -...</td>\n",
              "    </tr>\n",
              "    <tr>\n",
              "      <th>A197527ILE0LL8</th>\n",
              "      <td>A197527ILE0LL8</td>\n",
              "      <td>2</td>\n",
              "      <td>1</td>\n",
              "      <td>[-0.08084390981052827, 0.04719132296820089, -0...</td>\n",
              "      <td>[-0.05320966442779071, 0.04131776714985763, -0...</td>\n",
              "    </tr>\n",
              "    <tr>\n",
              "      <th>A1BT9J2I6DC246</th>\n",
              "      <td>A1BT9J2I6DC246</td>\n",
              "      <td>1</td>\n",
              "      <td>1</td>\n",
              "      <td>[0.007371742634319282, -0.047634698555889206, ...</td>\n",
              "      <td>[-0.11449400872882938, 0.07518294948195972, -0...</td>\n",
              "    </tr>\n",
              "    <tr>\n",
              "      <th>A1G9FX1KV45N41</th>\n",
              "      <td>A1G9FX1KV45N41</td>\n",
              "      <td>2</td>\n",
              "      <td>1</td>\n",
              "      <td>[0.0747607901416618, -0.027134423572731547, -0...</td>\n",
              "      <td>[0.026464316012560357, 0.05953429626594828, 0....</td>\n",
              "    </tr>\n",
              "    <tr>\n",
              "      <th>A1IT24LJIUSU46</th>\n",
              "      <td>A1IT24LJIUSU46</td>\n",
              "      <td>1</td>\n",
              "      <td>1</td>\n",
              "      <td>[0.07902382096682845, 0.01929603262048468, -0....</td>\n",
              "      <td>[0.01606174841810614, 0.043418203465232626, 0....</td>\n",
              "    </tr>\n",
              "    <tr>\n",
              "      <th>A1MUYL6VOFV40C</th>\n",
              "      <td>A1MUYL6VOFV40C</td>\n",
              "      <td>1</td>\n",
              "      <td>1</td>\n",
              "      <td>[-0.05685106965029953, -0.036133899810993596, ...</td>\n",
              "      <td>[-0.040788651419980865, 0.005507241137412139, ...</td>\n",
              "    </tr>\n",
              "    <tr>\n",
              "      <th>A1RPTVW5VEOSI</th>\n",
              "      <td>A1RPTVW5VEOSI</td>\n",
              "      <td>1</td>\n",
              "      <td>1</td>\n",
              "      <td>[-0.11756091622780496, 0.027387818941186512, -...</td>\n",
              "      <td>[0.10377228219107865, -0.04682026739957298, 0....</td>\n",
              "    </tr>\n",
              "    <tr>\n",
              "      <th>A1SHMC6IXYLFAP</th>\n",
              "      <td>A1SHMC6IXYLFAP</td>\n",
              "      <td>1</td>\n",
              "      <td>1</td>\n",
              "      <td>[0.13064234225870427, 0.14196000415437873, -0....</td>\n",
              "      <td>[-0.12200465034173916, 0.06700803927042534, -0...</td>\n",
              "    </tr>\n",
              "    <tr>\n",
              "      <th>A1TAIDCNXTZV1F</th>\n",
              "      <td>A1TAIDCNXTZV1F</td>\n",
              "      <td>1</td>\n",
              "      <td>1</td>\n",
              "      <td>[-0.05514462951228138, -0.12079756804509204, -...</td>\n",
              "      <td>[-0.11591572250344526, -0.032829249757662125, ...</td>\n",
              "    </tr>\n",
              "    <tr>\n",
              "      <th>A1TKYAYESYHIA2</th>\n",
              "      <td>A1TKYAYESYHIA2</td>\n",
              "      <td>1</td>\n",
              "      <td>1</td>\n",
              "      <td>[0.09509691379290591, -0.020890871133764807, 0...</td>\n",
              "      <td>[0.11115115699300175, 0.10651674177355659, 0.1...</td>\n",
              "    </tr>\n",
              "    <tr>\n",
              "      <th>A1TMAVN4CEM8U8</th>\n",
              "      <td>A1TMAVN4CEM8U8</td>\n",
              "      <td>4</td>\n",
              "      <td>1</td>\n",
              "      <td>[0.03954671758533443, -0.024122619843290852, -...</td>\n",
              "      <td>[-0.05024391844593091, -0.08321300200895822, -...</td>\n",
              "    </tr>\n",
              "    <tr>\n",
              "      <th>A1TPW86OHXTXFC</th>\n",
              "      <td>A1TPW86OHXTXFC</td>\n",
              "      <td>2</td>\n",
              "      <td>2</td>\n",
              "      <td>[-0.11387235457392564, 0.08385319434052732, 0....</td>\n",
              "      <td>[-0.05742775090910039, -0.024461721183120674, ...</td>\n",
              "    </tr>\n",
              "    <tr>\n",
              "      <th>A20EEWWSFMZ1PN</th>\n",
              "      <td>A20EEWWSFMZ1PN</td>\n",
              "      <td>1</td>\n",
              "      <td>1</td>\n",
              "      <td>[0.1324748033065698, -0.23513326846002996, -0....</td>\n",
              "      <td>[0.0250806587366187, 0.07351303951591664, 0.10...</td>\n",
              "    </tr>\n",
              "    <tr>\n",
              "      <th>A235IF7V4XS5HB</th>\n",
              "      <td>A235IF7V4XS5HB</td>\n",
              "      <td>1</td>\n",
              "      <td>1</td>\n",
              "      <td>[0.042253094608517665, -0.03730666900450514, 0...</td>\n",
              "      <td>[0.03540204106904357, -0.03658588117972125, 0....</td>\n",
              "    </tr>\n",
              "    <tr>\n",
              "      <th>A281NPSIMI1C2R</th>\n",
              "      <td>A281NPSIMI1C2R</td>\n",
              "      <td>1</td>\n",
              "      <td>3</td>\n",
              "      <td>[-0.18240686896186345, 0.030338105158432355, 0...</td>\n",
              "      <td>[-0.01741443949645819, 0.09617090806876635, -0...</td>\n",
              "    </tr>\n",
              "    <tr>\n",
              "      <th>A2B0A0AQ8QW5OS</th>\n",
              "      <td>A2B0A0AQ8QW5OS</td>\n",
              "      <td>1</td>\n",
              "      <td>1</td>\n",
              "      <td>[-0.02022012263987789, 0.031237438841763047, -...</td>\n",
              "      <td>[-0.016924340999101863, 0.06412954397150346, 0...</td>\n",
              "    </tr>\n",
              "    <tr>\n",
              "      <th>A2DZB3U2M9AKDK</th>\n",
              "      <td>A2DZB3U2M9AKDK</td>\n",
              "      <td>1</td>\n",
              "      <td>1</td>\n",
              "      <td>[-0.10033397603462271, -0.196008662730144, -0....</td>\n",
              "      <td>[0.0496409611727813, -0.07597329280792987, 0.0...</td>\n",
              "    </tr>\n",
              "    <tr>\n",
              "      <th>A2EGE3NL7BTCJ8</th>\n",
              "      <td>A2EGE3NL7BTCJ8</td>\n",
              "      <td>2</td>\n",
              "      <td>1</td>\n",
              "      <td>[0.03312675608021408, 0.14327369229437417, -0....</td>\n",
              "      <td>[-0.04032745312285805, -0.063636681388865, -0....</td>\n",
              "    </tr>\n",
              "    <tr>\n",
              "      <th>A2G8CLS6JZ1C27</th>\n",
              "      <td>A2G8CLS6JZ1C27</td>\n",
              "      <td>1</td>\n",
              "      <td>1</td>\n",
              "      <td>[0.032860605225566504, 0.11090206218124513, 0....</td>\n",
              "      <td>[-0.057549541059447054, 0.0336579608325684, 0....</td>\n",
              "    </tr>\n",
              "    <tr>\n",
              "      <th>A2H0CPZOTGGFM6</th>\n",
              "      <td>A2H0CPZOTGGFM6</td>\n",
              "      <td>1</td>\n",
              "      <td>1</td>\n",
              "      <td>[-0.01494383639187079, 0.0672070055798315, 0.0...</td>\n",
              "      <td>[0.15090449424146798, -0.023485086102865316, -...</td>\n",
              "    </tr>\n",
              "    <tr>\n",
              "      <th>A2I6MHMAZZDCRX</th>\n",
              "      <td>A2I6MHMAZZDCRX</td>\n",
              "      <td>2</td>\n",
              "      <td>2</td>\n",
              "      <td>[0.2739826545744128, -0.1624123848954938, -0.0...</td>\n",
              "      <td>[0.13689397654340077, 0.13072439669973282, -0....</td>\n",
              "    </tr>\n",
              "    <tr>\n",
              "      <th>A2NJO6YE954DBH</th>\n",
              "      <td>A2NJO6YE954DBH</td>\n",
              "      <td>3</td>\n",
              "      <td>3</td>\n",
              "      <td>[0.05935035439445387, 0.09253822024009568, 0.1...</td>\n",
              "      <td>[-0.22029436076961306, -0.17711513326219894, -...</td>\n",
              "    </tr>\n",
              "    <tr>\n",
              "      <th>A2ODBHT4URXVXQ</th>\n",
              "      <td>A2ODBHT4URXVXQ</td>\n",
              "      <td>3</td>\n",
              "      <td>2</td>\n",
              "      <td>[0.06835186010536408, 0.0791839778928983, -0.1...</td>\n",
              "      <td>[0.015053235731621688, -0.01764664843077105, -...</td>\n",
              "    </tr>\n",
              "    <tr>\n",
              "      <th>A2P7YSXI060RDO</th>\n",
              "      <td>A2P7YSXI060RDO</td>\n",
              "      <td>1</td>\n",
              "      <td>1</td>\n",
              "      <td>[-0.1163534592050536, 0.03227314727233611, 0.0...</td>\n",
              "      <td>[0.07734619431642482, 0.02917777938997246, -0....</td>\n",
              "    </tr>\n",
              "    <tr>\n",
              "      <th>A2R6RA8FRBS608</th>\n",
              "      <td>A2R6RA8FRBS608</td>\n",
              "      <td>2</td>\n",
              "      <td>2</td>\n",
              "      <td>[-0.09894610066352443, -0.03960781233556543, -...</td>\n",
              "      <td>[-0.06880155063735566, -0.09768719130232928, -...</td>\n",
              "    </tr>\n",
              "    <tr>\n",
              "      <th>A2RE7WG349NV5D</th>\n",
              "      <td>A2RE7WG349NV5D</td>\n",
              "      <td>1</td>\n",
              "      <td>1</td>\n",
              "      <td>[0.1338108456320714, -0.020308520454917243, -0...</td>\n",
              "      <td>[-0.054401887821449925, 0.16343819761226833, 0...</td>\n",
              "    </tr>\n",
              "    <tr>\n",
              "      <th>A2SJCL0MMC43FA</th>\n",
              "      <td>A2SJCL0MMC43FA</td>\n",
              "      <td>1</td>\n",
              "      <td>1</td>\n",
              "      <td>[0.080730415629842, -0.08505350775833864, -0.0...</td>\n",
              "      <td>[-0.1044690694201347, -0.08805634084180516, 0....</td>\n",
              "    </tr>\n",
              "    <tr>\n",
              "      <th>A34MZG6QZCHFCO</th>\n",
              "      <td>A34MZG6QZCHFCO</td>\n",
              "      <td>1</td>\n",
              "      <td>1</td>\n",
              "      <td>[0.061834543917257234, -0.056798001528986744, ...</td>\n",
              "      <td>[0.12737320433543065, -0.0525803149048895, -0....</td>\n",
              "    </tr>\n",
              "    <tr>\n",
              "      <th>A35YWA2V4QHOJ3</th>\n",
              "      <td>A35YWA2V4QHOJ3</td>\n",
              "      <td>1</td>\n",
              "      <td>1</td>\n",
              "      <td>[-0.05381451699224196, -0.024956337416330243, ...</td>\n",
              "      <td>[0.0172742418664188, -0.08863510015529649, 0.0...</td>\n",
              "    </tr>\n",
              "    <tr>\n",
              "      <th>A39QEKNEFSJ34Q</th>\n",
              "      <td>A39QEKNEFSJ34Q</td>\n",
              "      <td>1</td>\n",
              "      <td>1</td>\n",
              "      <td>[0.023242479264874685, 0.14272459519618252, -0...</td>\n",
              "      <td>[-0.011031688464297619, 0.05196772411389671, -...</td>\n",
              "    </tr>\n",
              "    <tr>\n",
              "      <th>A3AW8XP45YVIIZ</th>\n",
              "      <td>A3AW8XP45YVIIZ</td>\n",
              "      <td>1</td>\n",
              "      <td>1</td>\n",
              "      <td>[-0.13394118186242832, -0.2671684698469513, -0...</td>\n",
              "      <td>[0.020236793137479003, 0.19280159696773388, 0....</td>\n",
              "    </tr>\n",
              "    <tr>\n",
              "      <th>A3IKBHODOTYYHM</th>\n",
              "      <td>A3IKBHODOTYYHM</td>\n",
              "      <td>1</td>\n",
              "      <td>1</td>\n",
              "      <td>[-0.06813362674685942, 0.01996930741382218, -0...</td>\n",
              "      <td>[-0.007800720407252855, 0.018608613288194034, ...</td>\n",
              "    </tr>\n",
              "    <tr>\n",
              "      <th>A3J9LLWHZH15HG</th>\n",
              "      <td>A3J9LLWHZH15HG</td>\n",
              "      <td>1</td>\n",
              "      <td>3</td>\n",
              "      <td>[0.1512362882269949, -0.03949954529824312, -0....</td>\n",
              "      <td>[0.00738768308116647, 0.11311423220181324, -0....</td>\n",
              "    </tr>\n",
              "    <tr>\n",
              "      <th>A3JM25YVLEE318</th>\n",
              "      <td>A3JM25YVLEE318</td>\n",
              "      <td>2</td>\n",
              "      <td>1</td>\n",
              "      <td>[0.08523408591835457, 0.1203636819116825, -0.0...</td>\n",
              "      <td>[0.0707520753250605, 0.006986989540558168, 0.0...</td>\n",
              "    </tr>\n",
              "    <tr>\n",
              "      <th>A3KBQ6O7KDSE36</th>\n",
              "      <td>A3KBQ6O7KDSE36</td>\n",
              "      <td>1</td>\n",
              "      <td>1</td>\n",
              "      <td>[0.12353898143242979, -0.07850753593019436, -0...</td>\n",
              "      <td>[0.08998415515332261, -0.09786232285736356, 0....</td>\n",
              "    </tr>\n",
              "    <tr>\n",
              "      <th>A3LZGLA88K0LA0</th>\n",
              "      <td>A3LZGLA88K0LA0</td>\n",
              "      <td>1</td>\n",
              "      <td>1</td>\n",
              "      <td>[-0.1957136051835923, 0.016964054750678095, 0....</td>\n",
              "      <td>[-0.10407879619811981, 0.0715379397082186, -0....</td>\n",
              "    </tr>\n",
              "    <tr>\n",
              "      <th>A3MV1KKHX51FYT</th>\n",
              "      <td>A3MV1KKHX51FYT</td>\n",
              "      <td>2</td>\n",
              "      <td>2</td>\n",
              "      <td>[-0.06361680319265789, 0.047861986502191936, -...</td>\n",
              "      <td>[-0.04897862000599813, 0.026119680606147305, 0...</td>\n",
              "    </tr>\n",
              "    <tr>\n",
              "      <th>A3NHI94FA6ME71</th>\n",
              "      <td>A3NHI94FA6ME71</td>\n",
              "      <td>1</td>\n",
              "      <td>1</td>\n",
              "      <td>[-0.00916130088192807, -0.05145937353068725, -...</td>\n",
              "      <td>[-0.058273513973275556, -0.18161676241835006, ...</td>\n",
              "    </tr>\n",
              "    <tr>\n",
              "      <th>A3PN0J08MJ8SHC</th>\n",
              "      <td>A3PN0J08MJ8SHC</td>\n",
              "      <td>1</td>\n",
              "      <td>1</td>\n",
              "      <td>[-0.04104573054732177, 0.031027343190007287, -...</td>\n",
              "      <td>[0.04671330638966682, 0.12676003235929884, -0....</td>\n",
              "    </tr>\n",
              "    <tr>\n",
              "      <th>A3UDYY6L2NH3JS</th>\n",
              "      <td>A3UDYY6L2NH3JS</td>\n",
              "      <td>1</td>\n",
              "      <td>1</td>\n",
              "      <td>[-0.23496692072508865, 0.11621649549399293, -0...</td>\n",
              "      <td>[-0.0415241084786623, 0.09990735900504906, 0.1...</td>\n",
              "    </tr>\n",
              "    <tr>\n",
              "      <th>A4MX5J20DCKDB</th>\n",
              "      <td>A4MX5J20DCKDB</td>\n",
              "      <td>1</td>\n",
              "      <td>1</td>\n",
              "      <td>[0.13608999189365262, 0.025308064127290544, -0...</td>\n",
              "      <td>[-0.04251506698154892, -0.038654316215014216, ...</td>\n",
              "    </tr>\n",
              "    <tr>\n",
              "      <th>A7YMD8MSOBO1I</th>\n",
              "      <td>A7YMD8MSOBO1I</td>\n",
              "      <td>1</td>\n",
              "      <td>1</td>\n",
              "      <td>[0.056774527607243205, -0.12398014502872218, 0...</td>\n",
              "      <td>[0.0825608354644619, 0.10705884190632341, 0.04...</td>\n",
              "    </tr>\n",
              "    <tr>\n",
              "      <th>AFJFXN42RZ3G2</th>\n",
              "      <td>AFJFXN42RZ3G2</td>\n",
              "      <td>1</td>\n",
              "      <td>1</td>\n",
              "      <td>[0.10876469457551746, -0.02258458505415897, -0...</td>\n",
              "      <td>[-0.009126726098927564, 0.2353279362742583, 0....</td>\n",
              "    </tr>\n",
              "    <tr>\n",
              "      <th>AGEIT17HENDIS</th>\n",
              "      <td>AGEIT17HENDIS</td>\n",
              "      <td>3</td>\n",
              "      <td>2</td>\n",
              "      <td>[0.09766850820776567, 0.013202286392634698, -0...</td>\n",
              "      <td>[-0.02502226553601815, -0.005308437159624786, ...</td>\n",
              "    </tr>\n",
              "    <tr>\n",
              "      <th>AGVWTYW0ULXHT</th>\n",
              "      <td>AGVWTYW0ULXHT</td>\n",
              "      <td>1</td>\n",
              "      <td>1</td>\n",
              "      <td>[-0.04070627591463059, -0.011753089709490844, ...</td>\n",
              "      <td>[0.049114495082159336, -0.013777813918642069, ...</td>\n",
              "    </tr>\n",
              "    <tr>\n",
              "      <th>ANEDXRFDZDL18</th>\n",
              "      <td>ANEDXRFDZDL18</td>\n",
              "      <td>1</td>\n",
              "      <td>1</td>\n",
              "      <td>[0.0889301706053944, 0.06492979251755304, -0.1...</td>\n",
              "      <td>[-0.09887245237048169, -0.04146550140257164, -...</td>\n",
              "    </tr>\n",
              "    <tr>\n",
              "      <th>ASDAPGH0NGSWI</th>\n",
              "      <td>ASDAPGH0NGSWI</td>\n",
              "      <td>1</td>\n",
              "      <td>1</td>\n",
              "      <td>[-0.21541496453978282, -0.0016054865428520618,...</td>\n",
              "      <td>[0.18896235707335826, -0.10336188566843181, -0...</td>\n",
              "    </tr>\n",
              "    <tr>\n",
              "      <th>AUM3YMZ0YRJE0</th>\n",
              "      <td>AUM3YMZ0YRJE0</td>\n",
              "      <td>1</td>\n",
              "      <td>1</td>\n",
              "      <td>[0.057501082030955775, 0.003549044237889087, -...</td>\n",
              "      <td>[0.024791066562909084, 0.03838396324013667, 0....</td>\n",
              "    </tr>\n",
              "    <tr>\n",
              "      <th>AUTBHG6070SL4</th>\n",
              "      <td>AUTBHG6070SL4</td>\n",
              "      <td>1</td>\n",
              "      <td>1</td>\n",
              "      <td>[-0.03411486720862847, 0.12399585075675144, -0...</td>\n",
              "      <td>[0.060712611198504296, 0.07641877236538261, 0....</td>\n",
              "    </tr>\n",
              "    <tr>\n",
              "      <th>AVP0HXC9FG790</th>\n",
              "      <td>AVP0HXC9FG790</td>\n",
              "      <td>2</td>\n",
              "      <td>1</td>\n",
              "      <td>[-0.05934299318241207, 0.01055007105320242, 0....</td>\n",
              "      <td>[-0.01927806235075148, -0.026525435271322884, ...</td>\n",
              "    </tr>\n",
              "    <tr>\n",
              "      <th>AYGI3FN2M078F</th>\n",
              "      <td>AYGI3FN2M078F</td>\n",
              "      <td>1</td>\n",
              "      <td>1</td>\n",
              "      <td>[0.177213533558236, -0.030556713365794526, 0.1...</td>\n",
              "      <td>[0.002578431421589046, 0.0661572466566917, -0....</td>\n",
              "    </tr>\n",
              "  </tbody>\n",
              "</table>\n",
              "</div>"
            ],
            "text/plain": [
              "                        userId  ...                                               UI_t\n",
              "A1725TI23A8AZ5  A1725TI23A8AZ5  ...  [-0.06310286361546404, -0.10257794931370896, 0...\n",
              "A17FLA8HQOFVIG  A17FLA8HQOFVIG  ...  [-0.05730133137103992, 0.07942591345023191, 0....\n",
              "A18DX1AT72SY95  A18DX1AT72SY95  ...  [-0.0581236924091468, -0.17221666290376353, 0....\n",
              "A18OUQEK7IZ2F2  A18OUQEK7IZ2F2  ...  [-0.011592110326265097, 0.10531469422414447, -...\n",
              "A197527ILE0LL8  A197527ILE0LL8  ...  [-0.05320966442779071, 0.04131776714985763, -0...\n",
              "A1BT9J2I6DC246  A1BT9J2I6DC246  ...  [-0.11449400872882938, 0.07518294948195972, -0...\n",
              "A1G9FX1KV45N41  A1G9FX1KV45N41  ...  [0.026464316012560357, 0.05953429626594828, 0....\n",
              "A1IT24LJIUSU46  A1IT24LJIUSU46  ...  [0.01606174841810614, 0.043418203465232626, 0....\n",
              "A1MUYL6VOFV40C  A1MUYL6VOFV40C  ...  [-0.040788651419980865, 0.005507241137412139, ...\n",
              "A1RPTVW5VEOSI    A1RPTVW5VEOSI  ...  [0.10377228219107865, -0.04682026739957298, 0....\n",
              "A1SHMC6IXYLFAP  A1SHMC6IXYLFAP  ...  [-0.12200465034173916, 0.06700803927042534, -0...\n",
              "A1TAIDCNXTZV1F  A1TAIDCNXTZV1F  ...  [-0.11591572250344526, -0.032829249757662125, ...\n",
              "A1TKYAYESYHIA2  A1TKYAYESYHIA2  ...  [0.11115115699300175, 0.10651674177355659, 0.1...\n",
              "A1TMAVN4CEM8U8  A1TMAVN4CEM8U8  ...  [-0.05024391844593091, -0.08321300200895822, -...\n",
              "A1TPW86OHXTXFC  A1TPW86OHXTXFC  ...  [-0.05742775090910039, -0.024461721183120674, ...\n",
              "A20EEWWSFMZ1PN  A20EEWWSFMZ1PN  ...  [0.0250806587366187, 0.07351303951591664, 0.10...\n",
              "A235IF7V4XS5HB  A235IF7V4XS5HB  ...  [0.03540204106904357, -0.03658588117972125, 0....\n",
              "A281NPSIMI1C2R  A281NPSIMI1C2R  ...  [-0.01741443949645819, 0.09617090806876635, -0...\n",
              "A2B0A0AQ8QW5OS  A2B0A0AQ8QW5OS  ...  [-0.016924340999101863, 0.06412954397150346, 0...\n",
              "A2DZB3U2M9AKDK  A2DZB3U2M9AKDK  ...  [0.0496409611727813, -0.07597329280792987, 0.0...\n",
              "A2EGE3NL7BTCJ8  A2EGE3NL7BTCJ8  ...  [-0.04032745312285805, -0.063636681388865, -0....\n",
              "A2G8CLS6JZ1C27  A2G8CLS6JZ1C27  ...  [-0.057549541059447054, 0.0336579608325684, 0....\n",
              "A2H0CPZOTGGFM6  A2H0CPZOTGGFM6  ...  [0.15090449424146798, -0.023485086102865316, -...\n",
              "A2I6MHMAZZDCRX  A2I6MHMAZZDCRX  ...  [0.13689397654340077, 0.13072439669973282, -0....\n",
              "A2NJO6YE954DBH  A2NJO6YE954DBH  ...  [-0.22029436076961306, -0.17711513326219894, -...\n",
              "A2ODBHT4URXVXQ  A2ODBHT4URXVXQ  ...  [0.015053235731621688, -0.01764664843077105, -...\n",
              "A2P7YSXI060RDO  A2P7YSXI060RDO  ...  [0.07734619431642482, 0.02917777938997246, -0....\n",
              "A2R6RA8FRBS608  A2R6RA8FRBS608  ...  [-0.06880155063735566, -0.09768719130232928, -...\n",
              "A2RE7WG349NV5D  A2RE7WG349NV5D  ...  [-0.054401887821449925, 0.16343819761226833, 0...\n",
              "A2SJCL0MMC43FA  A2SJCL0MMC43FA  ...  [-0.1044690694201347, -0.08805634084180516, 0....\n",
              "A34MZG6QZCHFCO  A34MZG6QZCHFCO  ...  [0.12737320433543065, -0.0525803149048895, -0....\n",
              "A35YWA2V4QHOJ3  A35YWA2V4QHOJ3  ...  [0.0172742418664188, -0.08863510015529649, 0.0...\n",
              "A39QEKNEFSJ34Q  A39QEKNEFSJ34Q  ...  [-0.011031688464297619, 0.05196772411389671, -...\n",
              "A3AW8XP45YVIIZ  A3AW8XP45YVIIZ  ...  [0.020236793137479003, 0.19280159696773388, 0....\n",
              "A3IKBHODOTYYHM  A3IKBHODOTYYHM  ...  [-0.007800720407252855, 0.018608613288194034, ...\n",
              "A3J9LLWHZH15HG  A3J9LLWHZH15HG  ...  [0.00738768308116647, 0.11311423220181324, -0....\n",
              "A3JM25YVLEE318  A3JM25YVLEE318  ...  [0.0707520753250605, 0.006986989540558168, 0.0...\n",
              "A3KBQ6O7KDSE36  A3KBQ6O7KDSE36  ...  [0.08998415515332261, -0.09786232285736356, 0....\n",
              "A3LZGLA88K0LA0  A3LZGLA88K0LA0  ...  [-0.10407879619811981, 0.0715379397082186, -0....\n",
              "A3MV1KKHX51FYT  A3MV1KKHX51FYT  ...  [-0.04897862000599813, 0.026119680606147305, 0...\n",
              "A3NHI94FA6ME71  A3NHI94FA6ME71  ...  [-0.058273513973275556, -0.18161676241835006, ...\n",
              "A3PN0J08MJ8SHC  A3PN0J08MJ8SHC  ...  [0.04671330638966682, 0.12676003235929884, -0....\n",
              "A3UDYY6L2NH3JS  A3UDYY6L2NH3JS  ...  [-0.0415241084786623, 0.09990735900504906, 0.1...\n",
              "A4MX5J20DCKDB    A4MX5J20DCKDB  ...  [-0.04251506698154892, -0.038654316215014216, ...\n",
              "A7YMD8MSOBO1I    A7YMD8MSOBO1I  ...  [0.0825608354644619, 0.10705884190632341, 0.04...\n",
              "AFJFXN42RZ3G2    AFJFXN42RZ3G2  ...  [-0.009126726098927564, 0.2353279362742583, 0....\n",
              "AGEIT17HENDIS    AGEIT17HENDIS  ...  [-0.02502226553601815, -0.005308437159624786, ...\n",
              "AGVWTYW0ULXHT    AGVWTYW0ULXHT  ...  [0.049114495082159336, -0.013777813918642069, ...\n",
              "ANEDXRFDZDL18    ANEDXRFDZDL18  ...  [-0.09887245237048169, -0.04146550140257164, -...\n",
              "ASDAPGH0NGSWI    ASDAPGH0NGSWI  ...  [0.18896235707335826, -0.10336188566843181, -0...\n",
              "AUM3YMZ0YRJE0    AUM3YMZ0YRJE0  ...  [0.024791066562909084, 0.03838396324013667, 0....\n",
              "AUTBHG6070SL4    AUTBHG6070SL4  ...  [0.060712611198504296, 0.07641877236538261, 0....\n",
              "AVP0HXC9FG790    AVP0HXC9FG790  ...  [-0.01927806235075148, -0.026525435271322884, ...\n",
              "AYGI3FN2M078F    AYGI3FN2M078F  ...  [0.002578431421589046, 0.0661572466566917, -0....\n",
              "\n",
              "[54 rows x 5 columns]"
            ]
          },
          "metadata": {},
          "execution_count": 25
        }
      ]
    },
    {
      "cell_type": "code",
      "metadata": {
        "id": "aUwVJrtvmrRF"
      },
      "source": [
        "cu['ai_s'] = 0.00\n",
        "cu['ai_t'] = 0.00\n",
        "for i, rows in cu.iterrows():\n",
        "  x = rows['ni_t']/(rows['ni_s']+rows['ni_t'])\n",
        "  y = 1-x\n",
        "  cu.at[i,'ai_s'] = x\n",
        "  cu.at[i,'ai_t'] = y"
      ],
      "execution_count": null,
      "outputs": []
    },
    {
      "cell_type": "code",
      "metadata": {
        "colab": {
          "base_uri": "https://localhost:8080/"
        },
        "id": "kA6z_WlT1n3b",
        "outputId": "08d14768-2142-461d-c424-41b0231fb539"
      },
      "source": [
        "ud = []\n",
        "for a in range(len(cu)):\n",
        "  rows = []\n",
        "  for b in range(10):\n",
        "    rows.append(0)\n",
        "  ud.append(rows)\n",
        "cu['CU_b'] = ud\n",
        "\n",
        "for i in range(len(cu)):\n",
        "  for j in range(10):\n",
        "    cu['CU_b'][i][j] = (1-cu['ai_s'][i])*cu['UI_s'][i][j]+(1-cu['ai_t'][i])*cu['UI_t'][i][j]\n",
        "\n",
        "cu['CU_b']"
      ],
      "execution_count": null,
      "outputs": [
        {
          "output_type": "execute_result",
          "data": {
            "text/plain": [
              "A1725TI23A8AZ5    [-0.04458072086426748, -0.04418920146217742, -...\n",
              "A17FLA8HQOFVIG    [-0.04562376857442771, 0.03590931947979391, -0...\n",
              "A18DX1AT72SY95    [-0.029064811339074632, -0.06232275819789859, ...\n",
              "A18OUQEK7IZ2F2    [0.0382946130088997, 0.015162036419019635, 0.0...\n",
              "A197527ILE0LL8    [-0.07163249468294909, 0.045233471028753136, -...\n",
              "A1BT9J2I6DC246    [-0.05356113304725505, 0.013774125463035258, -...\n",
              "A1G9FX1KV45N41    [0.058661965431961324, 0.0017551497068283885, ...\n",
              "A1IT24LJIUSU46    [0.047542784692467296, 0.03135711804285865, 0....\n",
              "A1MUYL6VOFV40C    [-0.048819860535140196, -0.015313329336790728,...\n",
              "A1RPTVW5VEOSI     [-0.006894317018363155, -0.009716224229193233,...\n",
              "A1SHMC6IXYLFAP    [0.004318845958482559, 0.10448402171240204, -0...\n",
              "A1TAIDCNXTZV1F    [-0.08553017600786332, -0.07681340890137708, 0...\n",
              "A1TKYAYESYHIA2    [0.10312403539295384, 0.04281293531989589, 0.1...\n",
              "A1TMAVN4CEM8U8    [0.021588590379081368, -0.03594069627642432, -...\n",
              "A1TPW86OHXTXFC    [-0.08565005274151302, 0.02969573657870332, 0....\n",
              "A20EEWWSFMZ1PN    [0.07877773102159424, -0.08081011447205666, 0....\n",
              "A235IF7V4XS5HB    [0.03882756783878062, -0.03694627509211319, 0....\n",
              "A281NPSIMI1C2R    [-0.05866254686280951, 0.07971270734118285, -0...\n",
              "A2B0A0AQ8QW5OS    [-0.018572231819489877, 0.04768349140663325, -...\n",
              "A2DZB3U2M9AKDK    [-0.025346507430920706, -0.13599097776903693, ...\n",
              "A2EGE3NL7BTCJ8    [0.008642019679190042, 0.07430356773329447, -0...\n",
              "A2G8CLS6JZ1C27    [-0.012344467916940275, 0.07228001150690676, 0...\n",
              "A2H0CPZOTGGFM6    [0.06798032892479859, 0.021860959738483093, 0....\n",
              "A2I6MHMAZZDCRX    [0.2054383155589068, -0.015843994097880496, -0...\n",
              "A2NJO6YE954DBH    [-0.08047200318757959, -0.04228845651105163, -...\n",
              "A2ODBHT4URXVXQ    [0.047032410355867124, 0.040451727363430556, -...\n",
              "A2P7YSXI060RDO    [-0.01950363244431439, 0.030725463331154286, 0...\n",
              "A2R6RA8FRBS608    [-0.08387382565044005, -0.06864750181894735, -...\n",
              "A2RE7WG349NV5D    [0.039704478905310744, 0.07156483857867554, -0...\n",
              "A2SJCL0MMC43FA    [-0.011869326895146352, -0.0865549243000719, -...\n",
              "A34MZG6QZCHFCO    [0.09460387412634394, -0.05468915821693812, -0...\n",
              "A35YWA2V4QHOJ3    [-0.01827013756291158, -0.05679571878581337, -...\n",
              "A39QEKNEFSJ34Q    [0.006105395400288533, 0.09734615965503962, -0...\n",
              "A3AW8XP45YVIIZ    [-0.056852194362474656, -0.03718343643960871, ...\n",
              "A3IKBHODOTYYHM    [-0.03796717357705614, 0.019288960351008105, -...\n",
              "A3J9LLWHZH15HG    [0.043349834367623574, 0.07496078782679914, -0...\n",
              "A3JM25YVLEE318    [0.08040674905392323, 0.08257145112130773, 0.0...\n",
              "A3KBQ6O7KDSE36    [0.1067615682928762, -0.08818492939377895, -0....\n",
              "A3LZGLA88K0LA0    [-0.14989620069085605, 0.04425099722944835, -0...\n",
              "A3MV1KKHX51FYT    [-0.05629771159932801, 0.03699083355416962, 0....\n",
              "A3NHI94FA6ME71    [-0.03371740742760181, -0.11653806797451866, -...\n",
              "A3PN0J08MJ8SHC    [0.002833787921172528, 0.07889368777465305, -0...\n",
              "A3UDYY6L2NH3JS    [-0.13824551460187548, 0.10806192724952099, 0....\n",
              "A4MX5J20DCKDB     [0.04678746245605185, -0.006673126043861836, -...\n",
              "A7YMD8MSOBO1I     [0.06966768153585255, -0.008460651561199385, 0...\n",
              "AFJFXN42RZ3G2     [0.04981898423829495, 0.10637167561004966, -0....\n",
              "AGEIT17HENDIS     [0.04859219871025214, 0.005797996971730904, -0...\n",
              "AGVWTYW0ULXHT     [0.004204109583764375, -0.012765451814066457, ...\n",
              "ANEDXRFDZDL18     [-0.004971140882543641, 0.011732145557490702, ...\n",
              "ASDAPGH0NGSWI     [-0.013226303733212277, -0.052483686105641934,...\n",
              "AUM3YMZ0YRJE0     [0.04114607429693243, 0.020966503739012876, -0...\n",
              "AUTBHG6070SL4     [0.013298871994937914, 0.10020731156106702, -0...\n",
              "AVP0HXC9FG790     [-0.04598801623852521, -0.0018084310549726793,...\n",
              "AYGI3FN2M078F     [0.08989598248991251, 0.01780026664544859, 0.0...\n",
              "Name: CU_b, dtype: object"
            ]
          },
          "metadata": {},
          "execution_count": 27
        }
      ]
    },
    {
      "cell_type": "markdown",
      "metadata": {
        "id": "JPRFRq1q301G"
      },
      "source": [
        "## Different Users"
      ]
    },
    {
      "cell_type": "code",
      "metadata": {
        "colab": {
          "base_uri": "https://localhost:8080/"
        },
        "id": "JVtg1Q_PAd9w",
        "outputId": "2605dfb5-103e-4f4c-925a-8dcae64fa82a"
      },
      "source": [
        "ei_s.columns"
      ],
      "execution_count": null,
      "outputs": [
        {
          "output_type": "execute_result",
          "data": {
            "text/plain": [
              "Index(['ni', 'latent_factor', 'userId'], dtype='object')"
            ]
          },
          "metadata": {},
          "execution_count": 31
        }
      ]
    },
    {
      "cell_type": "code",
      "metadata": {
        "colab": {
          "base_uri": "https://localhost:8080/"
        },
        "id": "9BfCahdG3zj1",
        "outputId": "da521b9c-fb05-4581-9dae-ff7eccce7ed2"
      },
      "source": [
        "du_s = ei_s[~ei_s['userId'].isin(common_users)]\n",
        "du_t = ei_t[~ei_t['userId'].isin(common_users)]\n",
        "frames = [du_s, du_t]\n",
        "du = pd.concat(frames)\n",
        "du.shape"
      ],
      "execution_count": null,
      "outputs": [
        {
          "output_type": "execute_result",
          "data": {
            "text/plain": [
              "(19382, 3)"
            ]
          },
          "metadata": {},
          "execution_count": 32
        }
      ]
    },
    {
      "cell_type": "code",
      "metadata": {
        "colab": {
          "base_uri": "https://localhost:8080/",
          "height": 408
        },
        "id": "yUS42ynH5Q08",
        "outputId": "d5c83d0e-12cf-43b8-f4cc-953ebbb87225"
      },
      "source": [
        "du_t"
      ],
      "execution_count": null,
      "outputs": [
        {
          "output_type": "execute_result",
          "data": {
            "text/html": [
              "<div>\n",
              "<style scoped>\n",
              "    .dataframe tbody tr th:only-of-type {\n",
              "        vertical-align: middle;\n",
              "    }\n",
              "\n",
              "    .dataframe tbody tr th {\n",
              "        vertical-align: top;\n",
              "    }\n",
              "\n",
              "    .dataframe thead th {\n",
              "        text-align: right;\n",
              "    }\n",
              "</style>\n",
              "<table border=\"1\" class=\"dataframe\">\n",
              "  <thead>\n",
              "    <tr style=\"text-align: right;\">\n",
              "      <th></th>\n",
              "      <th>ni</th>\n",
              "      <th>latent_factor</th>\n",
              "      <th>userId</th>\n",
              "    </tr>\n",
              "  </thead>\n",
              "  <tbody>\n",
              "    <tr>\n",
              "      <th>A0034986DWR7WEDQN0GV</th>\n",
              "      <td>1</td>\n",
              "      <td>[-0.12765465952427302, -0.17684285510750528, 0...</td>\n",
              "      <td>A0034986DWR7WEDQN0GV</td>\n",
              "    </tr>\n",
              "    <tr>\n",
              "      <th>A0160612BLIWRHROHLLE</th>\n",
              "      <td>1</td>\n",
              "      <td>[0.07045441840735922, -0.18557763786227685, 0....</td>\n",
              "      <td>A0160612BLIWRHROHLLE</td>\n",
              "    </tr>\n",
              "    <tr>\n",
              "      <th>A032903147O439YA3R0D</th>\n",
              "      <td>1</td>\n",
              "      <td>[-0.011696874023991076, -0.014122395600793545,...</td>\n",
              "      <td>A032903147O439YA3R0D</td>\n",
              "    </tr>\n",
              "    <tr>\n",
              "      <th>A100CQXJ6D44T9</th>\n",
              "      <td>1</td>\n",
              "      <td>[0.07993089395999163, -0.0542324205675629, 0.1...</td>\n",
              "      <td>A100CQXJ6D44T9</td>\n",
              "    </tr>\n",
              "    <tr>\n",
              "      <th>A100MPD67FD3ID</th>\n",
              "      <td>1</td>\n",
              "      <td>[-0.005536118080176104, 0.13938347357185474, -...</td>\n",
              "      <td>A100MPD67FD3ID</td>\n",
              "    </tr>\n",
              "    <tr>\n",
              "      <th>...</th>\n",
              "      <td>...</td>\n",
              "      <td>...</td>\n",
              "      <td>...</td>\n",
              "    </tr>\n",
              "    <tr>\n",
              "      <th>AZWLJC4YOJDYW</th>\n",
              "      <td>1</td>\n",
              "      <td>[-0.012263824034034199, -0.17065938535497122, ...</td>\n",
              "      <td>AZWLJC4YOJDYW</td>\n",
              "    </tr>\n",
              "    <tr>\n",
              "      <th>AZWQOKJLSRFTB</th>\n",
              "      <td>1</td>\n",
              "      <td>[-0.0121745599533533, -0.09485913442567812, -0...</td>\n",
              "      <td>AZWQOKJLSRFTB</td>\n",
              "    </tr>\n",
              "    <tr>\n",
              "      <th>AZY3B95680TUC</th>\n",
              "      <td>1</td>\n",
              "      <td>[0.018329393908584162, 0.22391680820337428, -0...</td>\n",
              "      <td>AZY3B95680TUC</td>\n",
              "    </tr>\n",
              "    <tr>\n",
              "      <th>AZYYFN06QYPC9</th>\n",
              "      <td>1</td>\n",
              "      <td>[-0.04118857697605252, 0.033883898676644986, -...</td>\n",
              "      <td>AZYYFN06QYPC9</td>\n",
              "    </tr>\n",
              "    <tr>\n",
              "      <th>AZZXJAE2DILET</th>\n",
              "      <td>1</td>\n",
              "      <td>[0.013767777161305363, -0.09947556090450284, 0...</td>\n",
              "      <td>AZZXJAE2DILET</td>\n",
              "    </tr>\n",
              "  </tbody>\n",
              "</table>\n",
              "<p>9734 rows × 3 columns</p>\n",
              "</div>"
            ],
            "text/plain": [
              "                      ni  ...                userId\n",
              "A0034986DWR7WEDQN0GV   1  ...  A0034986DWR7WEDQN0GV\n",
              "A0160612BLIWRHROHLLE   1  ...  A0160612BLIWRHROHLLE\n",
              "A032903147O439YA3R0D   1  ...  A032903147O439YA3R0D\n",
              "A100CQXJ6D44T9         1  ...        A100CQXJ6D44T9\n",
              "A100MPD67FD3ID         1  ...        A100MPD67FD3ID\n",
              "...                   ..  ...                   ...\n",
              "AZWLJC4YOJDYW          1  ...         AZWLJC4YOJDYW\n",
              "AZWQOKJLSRFTB          1  ...         AZWQOKJLSRFTB\n",
              "AZY3B95680TUC          1  ...         AZY3B95680TUC\n",
              "AZYYFN06QYPC9          1  ...         AZYYFN06QYPC9\n",
              "AZZXJAE2DILET          1  ...         AZZXJAE2DILET\n",
              "\n",
              "[9734 rows x 3 columns]"
            ]
          },
          "metadata": {},
          "execution_count": 33
        }
      ]
    },
    {
      "cell_type": "code",
      "metadata": {
        "id": "9Vfc-FN432uP"
      },
      "source": [
        "from scipy.spatial.distance import cdist #no use\n",
        "import pandas as pd\n",
        "k = 5000\n",
        "XA = du['latent_factor']\n",
        "XB = ei_s['latent_factor']\n",
        "XA = np.array(XA.values.tolist())\n",
        "print(XA.shape)\n",
        "XB = np.array(XB.values.tolist())\n",
        "print(XB.shape)\n",
        "t = []\n",
        "t = cdist(XA[k:k+9999], XB, 'euclidean')\n",
        "t"
      ],
      "execution_count": null,
      "outputs": []
    },
    {
      "cell_type": "code",
      "metadata": {
        "id": "XYcr55bALdO-"
      },
      "source": [
        "du['sni'] = 0.00  # no use\n",
        "s = k\n",
        "for i in range(len(t)):\n",
        "  n = 5\n",
        "  x = []\n",
        "  sni = []\n",
        "  idx = np.argpartition(t[i], k)\n",
        "  x = idx[0:n]\n",
        "  for j in range(len(x)):\n",
        "    sni.append(ei_s['ni'][j])\n",
        "  du['sni'][s] = sum(sni)/len(sni)\n",
        "  s = s+1\n",
        "  du['sni']"
      ],
      "execution_count": null,
      "outputs": []
    },
    {
      "cell_type": "code",
      "metadata": {
        "id": "ahFCa11BbtdC"
      },
      "source": [
        "du['ni_t'] = 0\n",
        "du['ni_s'] = 0\n",
        "for i in range(len(du)):\n",
        "  x = du['userId'][i]\n",
        "  for j in range(len(du_t)):\n",
        "    if x == du_t['userId'][j]:\n",
        "      du['ni_t'][i] = du_t['ni'][j]\n",
        "  for j in range(len(du_s)):\n",
        "    if x == du_s['userId'][j]:\n",
        "      du['ni_s'][i] = du_s['ni'][j]\n",
        "du"
      ],
      "execution_count": null,
      "outputs": []
    },
    {
      "cell_type": "code",
      "metadata": {
        "id": "CoRcTfOEDvK2"
      },
      "source": [
        "ud = []\n",
        "for a in range(len(du)):\n",
        "  rows = []\n",
        "  for b in range(10):\n",
        "    rows.append(0)\n",
        "  ud.append(rows)\n",
        "du['UI_s'] = ud\n",
        "du['UI_t'] = ud\n",
        "\n",
        "for i in range(len(du)):\n",
        "  x = du['userId'][i]\n",
        "  row = []\n",
        "  for j in range(len(du_t)):\n",
        "    if x == du_t['userId'][j]:\n",
        "      for k in range(10):\n",
        "        row.append(du_t['latent_factor'][j][k])\n",
        "      du['UI_t'][i] = row\n",
        "  for j in range(len(du_s)):\n",
        "    if x == du_s['userId'][j]:\n",
        "      for k in range(10):\n",
        "        row.append(du_s['latent_factor'][j][k])\n",
        "      du['UI_s'][i] = row\n",
        "du"
      ],
      "execution_count": null,
      "outputs": []
    },
    {
      "cell_type": "code",
      "metadata": {
        "id": "dza36vF-HgV4"
      },
      "source": [
        "X = du[du['ni_t']==1]\n",
        "du_t['ni_t'] = X['ni_t']\n",
        "du_t['UI_t'] = X['UI_t']\n",
        "du_t"
      ],
      "execution_count": null,
      "outputs": []
    },
    {
      "cell_type": "code",
      "metadata": {
        "id": "2dK-QtiMBVt_"
      },
      "source": [
        "# calculate sni su beta du for different users \n",
        "from scipy.spatial import distance\n",
        "import numpy\n",
        "import pandas as pd\n",
        "k = 5\n",
        "count = 0\n",
        "ud = []\n",
        "for a in range(len(du_t)):\n",
        "  rows = []\n",
        "  for b in range(10):\n",
        "    rows.append(0)\n",
        "  ud.append(rows)\n",
        "\n",
        "du_t['sni'] = 0.00\n",
        "du_t['su'] = ud\n",
        "du_t['bi_t'] = 0.00\n",
        "du_t['du_b'] = ud\n",
        "\n",
        "for i, r1 in du_t.iterrows():\n",
        "  x = (pd.DataFrame())\n",
        "  x['dist'] = 0.00\n",
        "  x['sni'] = 0\n",
        "  c = []\n",
        "  d = []\n",
        "  e = []\n",
        "  count = count + 1\n",
        "  for j, r2 in ei_s.iterrows():\n",
        "    #x.at(j, 'dist') = distance.euclidean(r1['latent_factor'], r2['latent_factor'])\n",
        "    #x.at(j, 'sni') = r2['ni']\n",
        "    c.append((distance.euclidean(r1['latent_factor'], r2['latent_factor'])))\n",
        "    d.append(r2['ni'])\n",
        "    e.append(r2['latent_factor'])\n",
        "  x['dist'] = c\n",
        "  x['sni'] = d\n",
        "  x['similar_users_latent_factor'] = e\n",
        "  x.sort_values(by='dist')\n",
        "  y = x[0:k]\n",
        "  sim = y\n",
        "  r = []\n",
        "  for m in range(len(y)):\n",
        "    r.append(numpy.multiply(1-y.dist[m], y.similar_users_latent_factor[m]))\n",
        "  sim_u = numpy.sum(r, axis=0)\n",
        "  du_t.at[i, 'su'] = numpy.divide(sim_u, (5-y['dist'].sum()))\n",
        "  du_t.at[i,'sni'] = y['sni'].mean()\n",
        "  du_t.at[i, 'bi_t'] = du_t['sni'][i]/(du_t['sni'][i]+du_t['ni'][i])\n",
        "for i in range(len(du_t)):\n",
        "  for j in range(10):\n",
        "    du_t['du_b'][i][j] = (1-du_t['bi_t'][i])*du_t['latent_factor'][i][j]+(du_t['bi_t'][i])*du_t['su'][i][j]\n",
        "  #r1['sni'] = y['sni'].mean()"
      ],
      "execution_count": null,
      "outputs": []
    },
    {
      "cell_type": "code",
      "metadata": {
        "colab": {
          "base_uri": "https://localhost:8080/",
          "height": 408
        },
        "id": "n-odhrGadNiy",
        "outputId": "e8dd88c7-8bf5-4352-db8d-9ef6ace00a8f"
      },
      "source": [
        "for i in range(len(du_t)):\n",
        "  for j in range(10):\n",
        "    du_t['du_b'][i][j] = (1-du_t['bi_t'][i])*du_t['latent_factor'][i][j]+(du_t['bi_t'][i])*du_t['su'][i][j]\n",
        "  #r1['sni'] = y['sni'].mean()\n",
        "\n",
        "du_t"
      ],
      "execution_count": null,
      "outputs": [
        {
          "output_type": "execute_result",
          "data": {
            "text/html": [
              "<div>\n",
              "<style scoped>\n",
              "    .dataframe tbody tr th:only-of-type {\n",
              "        vertical-align: middle;\n",
              "    }\n",
              "\n",
              "    .dataframe tbody tr th {\n",
              "        vertical-align: top;\n",
              "    }\n",
              "\n",
              "    .dataframe thead th {\n",
              "        text-align: right;\n",
              "    }\n",
              "</style>\n",
              "<table border=\"1\" class=\"dataframe\">\n",
              "  <thead>\n",
              "    <tr style=\"text-align: right;\">\n",
              "      <th></th>\n",
              "      <th>ni</th>\n",
              "      <th>latent_factor</th>\n",
              "      <th>userId</th>\n",
              "      <th>sni</th>\n",
              "      <th>su</th>\n",
              "      <th>bi_t</th>\n",
              "      <th>du_b</th>\n",
              "    </tr>\n",
              "  </thead>\n",
              "  <tbody>\n",
              "    <tr>\n",
              "      <th>A0034986DWR7WEDQN0GV</th>\n",
              "      <td>1.0</td>\n",
              "      <td>[-0.12765465952427302, -0.17684285510750528, 0...</td>\n",
              "      <td>A0034986DWR7WEDQN0GV</td>\n",
              "      <td>1.0</td>\n",
              "      <td>[-0.017927479616481237, 0.01913447884337709, 0...</td>\n",
              "      <td>0.5</td>\n",
              "      <td>[-0.07279106957037712, -0.07885418813206409, 0...</td>\n",
              "    </tr>\n",
              "    <tr>\n",
              "      <th>A0160612BLIWRHROHLLE</th>\n",
              "      <td>1.0</td>\n",
              "      <td>[0.07045441840735922, -0.18557763786227685, 0....</td>\n",
              "      <td>A0160612BLIWRHROHLLE</td>\n",
              "      <td>1.0</td>\n",
              "      <td>[-0.01615093564490263, 0.018047639402592436, 0...</td>\n",
              "      <td>0.5</td>\n",
              "      <td>[0.027151741381228296, -0.08376499922984221, 0...</td>\n",
              "    </tr>\n",
              "    <tr>\n",
              "      <th>A032903147O439YA3R0D</th>\n",
              "      <td>1.0</td>\n",
              "      <td>[-0.011696874023991076, -0.014122395600793545,...</td>\n",
              "      <td>A032903147O439YA3R0D</td>\n",
              "      <td>1.0</td>\n",
              "      <td>[-0.028432001644433446, 0.020244245146814693, ...</td>\n",
              "      <td>0.5</td>\n",
              "      <td>[-0.02006443783421226, 0.0030609247730105744, ...</td>\n",
              "    </tr>\n",
              "    <tr>\n",
              "      <th>A100CQXJ6D44T9</th>\n",
              "      <td>1.0</td>\n",
              "      <td>[0.07993089395999163, -0.0542324205675629, 0.1...</td>\n",
              "      <td>A100CQXJ6D44T9</td>\n",
              "      <td>1.0</td>\n",
              "      <td>[-0.025891581786008942, 0.02268636859820494, 0...</td>\n",
              "      <td>0.5</td>\n",
              "      <td>[0.027019656086991344, -0.01577302598467898, 0...</td>\n",
              "    </tr>\n",
              "    <tr>\n",
              "      <th>A100MPD67FD3ID</th>\n",
              "      <td>1.0</td>\n",
              "      <td>[-0.005536118080176104, 0.13938347357185474, -...</td>\n",
              "      <td>A100MPD67FD3ID</td>\n",
              "      <td>1.0</td>\n",
              "      <td>[-0.02516184721071499, 0.024691265202689668, 0...</td>\n",
              "      <td>0.5</td>\n",
              "      <td>[-0.015348982645445548, 0.0820373693872722, -0...</td>\n",
              "    </tr>\n",
              "    <tr>\n",
              "      <th>...</th>\n",
              "      <td>...</td>\n",
              "      <td>...</td>\n",
              "      <td>...</td>\n",
              "      <td>...</td>\n",
              "      <td>...</td>\n",
              "      <td>...</td>\n",
              "      <td>...</td>\n",
              "    </tr>\n",
              "    <tr>\n",
              "      <th>AZWLJC4YOJDYW</th>\n",
              "      <td>1.0</td>\n",
              "      <td>[-0.012263824034034199, -0.17065938535497122, ...</td>\n",
              "      <td>AZWLJC4YOJDYW</td>\n",
              "      <td>1.0</td>\n",
              "      <td>[-0.02876155495175431, 0.015063927703036153, 0...</td>\n",
              "      <td>0.5</td>\n",
              "      <td>[-0.020512689492894254, -0.07779772882596753, ...</td>\n",
              "    </tr>\n",
              "    <tr>\n",
              "      <th>AZWQOKJLSRFTB</th>\n",
              "      <td>1.0</td>\n",
              "      <td>[-0.0121745599533533, -0.09485913442567812, -0...</td>\n",
              "      <td>AZWQOKJLSRFTB</td>\n",
              "      <td>1.0</td>\n",
              "      <td>[-0.025078583103170182, 0.014990007053998316, ...</td>\n",
              "      <td>0.5</td>\n",
              "      <td>[-0.01862657152826174, -0.0399345636858399, -0...</td>\n",
              "    </tr>\n",
              "    <tr>\n",
              "      <th>AZY3B95680TUC</th>\n",
              "      <td>1.0</td>\n",
              "      <td>[0.018329393908584162, 0.22391680820337428, -0...</td>\n",
              "      <td>AZY3B95680TUC</td>\n",
              "      <td>1.0</td>\n",
              "      <td>[-0.025125783173002188, 0.024251767134054195, ...</td>\n",
              "      <td>0.5</td>\n",
              "      <td>[-0.003398194632209013, 0.12408428766871424, -...</td>\n",
              "    </tr>\n",
              "    <tr>\n",
              "      <th>AZYYFN06QYPC9</th>\n",
              "      <td>1.0</td>\n",
              "      <td>[-0.04118857697605252, 0.033883898676644986, -...</td>\n",
              "      <td>AZYYFN06QYPC9</td>\n",
              "      <td>1.0</td>\n",
              "      <td>[-0.031379539776324475, 0.023373452948742064, ...</td>\n",
              "      <td>0.5</td>\n",
              "      <td>[-0.0362840583761885, 0.028628675812693523, -0...</td>\n",
              "    </tr>\n",
              "    <tr>\n",
              "      <th>AZZXJAE2DILET</th>\n",
              "      <td>1.0</td>\n",
              "      <td>[0.013767777161305363, -0.09947556090450284, 0...</td>\n",
              "      <td>AZZXJAE2DILET</td>\n",
              "      <td>1.0</td>\n",
              "      <td>[-0.030288470369076972, 0.016755694544166762, ...</td>\n",
              "      <td>0.5</td>\n",
              "      <td>[-0.008260346603885804, -0.041359933180168035,...</td>\n",
              "    </tr>\n",
              "  </tbody>\n",
              "</table>\n",
              "<p>9734 rows × 7 columns</p>\n",
              "</div>"
            ],
            "text/plain": [
              "                       ni  ...                                               du_b\n",
              "A0034986DWR7WEDQN0GV  1.0  ...  [-0.07279106957037712, -0.07885418813206409, 0...\n",
              "A0160612BLIWRHROHLLE  1.0  ...  [0.027151741381228296, -0.08376499922984221, 0...\n",
              "A032903147O439YA3R0D  1.0  ...  [-0.02006443783421226, 0.0030609247730105744, ...\n",
              "A100CQXJ6D44T9        1.0  ...  [0.027019656086991344, -0.01577302598467898, 0...\n",
              "A100MPD67FD3ID        1.0  ...  [-0.015348982645445548, 0.0820373693872722, -0...\n",
              "...                   ...  ...                                                ...\n",
              "AZWLJC4YOJDYW         1.0  ...  [-0.020512689492894254, -0.07779772882596753, ...\n",
              "AZWQOKJLSRFTB         1.0  ...  [-0.01862657152826174, -0.0399345636858399, -0...\n",
              "AZY3B95680TUC         1.0  ...  [-0.003398194632209013, 0.12408428766871424, -...\n",
              "AZYYFN06QYPC9         1.0  ...  [-0.0362840583761885, 0.028628675812693523, -0...\n",
              "AZZXJAE2DILET         1.0  ...  [-0.008260346603885804, -0.041359933180168035,...\n",
              "\n",
              "[9734 rows x 7 columns]"
            ]
          },
          "metadata": {},
          "execution_count": 78
        }
      ]
    },
    {
      "cell_type": "code",
      "metadata": {
        "colab": {
          "base_uri": "https://localhost:8080/",
          "height": 408
        },
        "id": "OYFx3FujxI8G",
        "outputId": "7ccd67b1-0535-4509-8192-aa92802648e8"
      },
      "source": [
        "#creation of ub benchmark matix for users\n",
        "x = cu['userId']\n",
        "xl = cu['CU_b']\n",
        "y = du_t['userId']\n",
        "yl = du_t['du_b']\n",
        "ub_x = pd.concat([x, xl], axis=1)\n",
        "ub_y = pd.concat([y, yl], axis=1)\n",
        "ub_x.rename(columns = {'CU_b':'latent_factors'}, inplace = True)\n",
        "ub_y.rename(columns = {'du_b':'latent_factors'}, inplace = True)\n",
        "ub = pd.concat([ub_x, ub_y], axis=0)\n",
        "ub"
      ],
      "execution_count": null,
      "outputs": [
        {
          "output_type": "execute_result",
          "data": {
            "text/html": [
              "<div>\n",
              "<style scoped>\n",
              "    .dataframe tbody tr th:only-of-type {\n",
              "        vertical-align: middle;\n",
              "    }\n",
              "\n",
              "    .dataframe tbody tr th {\n",
              "        vertical-align: top;\n",
              "    }\n",
              "\n",
              "    .dataframe thead th {\n",
              "        text-align: right;\n",
              "    }\n",
              "</style>\n",
              "<table border=\"1\" class=\"dataframe\">\n",
              "  <thead>\n",
              "    <tr style=\"text-align: right;\">\n",
              "      <th></th>\n",
              "      <th>userId</th>\n",
              "      <th>latent_factors</th>\n",
              "    </tr>\n",
              "  </thead>\n",
              "  <tbody>\n",
              "    <tr>\n",
              "      <th>A1725TI23A8AZ5</th>\n",
              "      <td>A1725TI23A8AZ5</td>\n",
              "      <td>[-0.04458072086426748, -0.04418920146217742, -...</td>\n",
              "    </tr>\n",
              "    <tr>\n",
              "      <th>A17FLA8HQOFVIG</th>\n",
              "      <td>A17FLA8HQOFVIG</td>\n",
              "      <td>[-0.04562376857442771, 0.03590931947979391, -0...</td>\n",
              "    </tr>\n",
              "    <tr>\n",
              "      <th>A18DX1AT72SY95</th>\n",
              "      <td>A18DX1AT72SY95</td>\n",
              "      <td>[-0.029064811339074632, -0.06232275819789859, ...</td>\n",
              "    </tr>\n",
              "    <tr>\n",
              "      <th>A18OUQEK7IZ2F2</th>\n",
              "      <td>A18OUQEK7IZ2F2</td>\n",
              "      <td>[0.0382946130088997, 0.015162036419019635, 0.0...</td>\n",
              "    </tr>\n",
              "    <tr>\n",
              "      <th>A197527ILE0LL8</th>\n",
              "      <td>A197527ILE0LL8</td>\n",
              "      <td>[-0.07163249468294909, 0.045233471028753136, -...</td>\n",
              "    </tr>\n",
              "    <tr>\n",
              "      <th>...</th>\n",
              "      <td>...</td>\n",
              "      <td>...</td>\n",
              "    </tr>\n",
              "    <tr>\n",
              "      <th>AZWLJC4YOJDYW</th>\n",
              "      <td>AZWLJC4YOJDYW</td>\n",
              "      <td>[-0.020512689492894254, -0.07779772882596753, ...</td>\n",
              "    </tr>\n",
              "    <tr>\n",
              "      <th>AZWQOKJLSRFTB</th>\n",
              "      <td>AZWQOKJLSRFTB</td>\n",
              "      <td>[-0.01862657152826174, -0.0399345636858399, -0...</td>\n",
              "    </tr>\n",
              "    <tr>\n",
              "      <th>AZY3B95680TUC</th>\n",
              "      <td>AZY3B95680TUC</td>\n",
              "      <td>[-0.003398194632209013, 0.12408428766871424, -...</td>\n",
              "    </tr>\n",
              "    <tr>\n",
              "      <th>AZYYFN06QYPC9</th>\n",
              "      <td>AZYYFN06QYPC9</td>\n",
              "      <td>[-0.0362840583761885, 0.028628675812693523, -0...</td>\n",
              "    </tr>\n",
              "    <tr>\n",
              "      <th>AZZXJAE2DILET</th>\n",
              "      <td>AZZXJAE2DILET</td>\n",
              "      <td>[-0.008260346603885804, -0.041359933180168035,...</td>\n",
              "    </tr>\n",
              "  </tbody>\n",
              "</table>\n",
              "<p>9788 rows × 2 columns</p>\n",
              "</div>"
            ],
            "text/plain": [
              "                        userId                                     latent_factors\n",
              "A1725TI23A8AZ5  A1725TI23A8AZ5  [-0.04458072086426748, -0.04418920146217742, -...\n",
              "A17FLA8HQOFVIG  A17FLA8HQOFVIG  [-0.04562376857442771, 0.03590931947979391, -0...\n",
              "A18DX1AT72SY95  A18DX1AT72SY95  [-0.029064811339074632, -0.06232275819789859, ...\n",
              "A18OUQEK7IZ2F2  A18OUQEK7IZ2F2  [0.0382946130088997, 0.015162036419019635, 0.0...\n",
              "A197527ILE0LL8  A197527ILE0LL8  [-0.07163249468294909, 0.045233471028753136, -...\n",
              "...                        ...                                                ...\n",
              "AZWLJC4YOJDYW    AZWLJC4YOJDYW  [-0.020512689492894254, -0.07779772882596753, ...\n",
              "AZWQOKJLSRFTB    AZWQOKJLSRFTB  [-0.01862657152826174, -0.0399345636858399, -0...\n",
              "AZY3B95680TUC    AZY3B95680TUC  [-0.003398194632209013, 0.12408428766871424, -...\n",
              "AZYYFN06QYPC9    AZYYFN06QYPC9  [-0.0362840583761885, 0.028628675812693523, -0...\n",
              "AZZXJAE2DILET    AZZXJAE2DILET  [-0.008260346603885804, -0.041359933180168035,...\n",
              "\n",
              "[9788 rows x 2 columns]"
            ]
          },
          "metadata": {},
          "execution_count": 92
        }
      ]
    },
    {
      "cell_type": "code",
      "metadata": {
        "id": "fTe6H8HPJtJr"
      },
      "source": [
        "du.to_csv( \"/content/drive/MyDrive/Colab Notebooks/dcdcsr_du.csv\", index=False)"
      ],
      "execution_count": null,
      "outputs": []
    },
    {
      "cell_type": "code",
      "metadata": {
        "id": "kAdhwaogKThw"
      },
      "source": [
        "ub.to_csv( \"/content/drive/MyDrive/Colab Notebooks/dcdcsr_ub.csv\", index=False)"
      ],
      "execution_count": null,
      "outputs": []
    },
    {
      "cell_type": "markdown",
      "metadata": {
        "id": "zSc-E_4oiMfQ"
      },
      "source": [
        "## mapping process"
      ]
    },
    {
      "cell_type": "code",
      "metadata": {
        "colab": {
          "base_uri": "https://localhost:8080/"
        },
        "id": "5qDICfGbiSJE",
        "outputId": "c2426a22-a770-4634-8506-609849521084"
      },
      "source": [
        "# normalise the latent factor matrix ut and benchmark matrix ub into [-1, +1] by using mapminmax function\n",
        "from sklearn import preprocessing\n",
        "print(ut.shape)\n",
        "scaler = preprocessing.MinMaxScaler(feature_range=(-1, 1))\n",
        "ut_s = scaler.fit_transform(ut)\n",
        "vt_s = scaler.fit_transform(vt)\n",
        "ub_a = []\n",
        "for i in range(len(ub)):\n",
        "  ub_a.append(numpy.array(ub['latent_factors'][i]))\n",
        "ub_s = scaler.fit_transform(ub_a)"
      ],
      "execution_count": null,
      "outputs": [
        {
          "output_type": "stream",
          "name": "stdout",
          "text": [
            "(9788, 10)\n"
          ]
        }
      ]
    },
    {
      "cell_type": "code",
      "metadata": {
        "colab": {
          "base_uri": "https://localhost:8080/"
        },
        "id": "1twpHej0mZy0",
        "outputId": "ab4227d2-5b75-4079-8455-4d90b865a802"
      },
      "source": [
        "print(ub_s.shape)\n",
        "print(ut_s.shape)\n",
        "print(vt_s.shape)"
      ],
      "execution_count": null,
      "outputs": [
        {
          "output_type": "stream",
          "name": "stdout",
          "text": [
            "(9788, 10)\n",
            "(9788, 10)\n",
            "(70, 10)\n"
          ]
        }
      ]
    },
    {
      "cell_type": "code",
      "metadata": {
        "id": "IthU2gEg53MB"
      },
      "source": [
        "import pandas\n",
        "from keras.models import Sequential\n",
        "from keras import layers\n",
        "from keras.wrappers.scikit_learn import KerasRegressor\n",
        "from sklearn.model_selection import cross_val_score\n",
        "from sklearn.model_selection import KFold\n",
        "from sklearn.preprocessing import StandardScaler\n",
        "from sklearn.pipeline import Pipeline"
      ],
      "execution_count": null,
      "outputs": []
    },
    {
      "cell_type": "code",
      "metadata": {
        "id": "Z739VO1J58k3"
      },
      "source": [
        "X = ut_s\n",
        "Y = ub_s"
      ],
      "execution_count": null,
      "outputs": []
    },
    {
      "cell_type": "code",
      "metadata": {
        "id": "gklv7Wam6IZ3"
      },
      "source": [
        "def baseline_model():\n",
        "\t# create model\n",
        "\tmodel = Sequential()\n",
        "\tmodel.add(Dense(10, input_dim=10, kernel_initializer='normal', activation='tanh'))\n",
        "\tmodel.add(Dense(1, kernel_initializer='normal'))\n",
        "\t# Compile model\n",
        "\tmodel.compile(loss='mean_squared_error', optimizer='adam')\n",
        "\treturn model"
      ],
      "execution_count": null,
      "outputs": []
    },
    {
      "cell_type": "code",
      "metadata": {
        "id": "JtCuOunl7En1"
      },
      "source": [
        "estimator = KerasRegressor(build_fn=baseline_model, epochs=10, batch_size=5, verbose=0)\n",
        "kfold = KFold(n_splits=10)\n",
        "results = cross_val_score(estimator, X, Y, cv=kfold)\n",
        "print(\"Baseline: %.2f (%.2f) MSE\" % (results.mean(), results.std()))"
      ],
      "execution_count": null,
      "outputs": []
    },
    {
      "cell_type": "code",
      "metadata": {
        "colab": {
          "base_uri": "https://localhost:8080/"
        },
        "id": "tEzD75Hk8M0n",
        "outputId": "13a13169-e592-4602-fcaa-eb9ff22ca8e0"
      },
      "source": [
        "estimator = KerasRegressor(build_fn=baseline_model, epochs=10, batch_size=32, verbose=0)\n",
        "model = Sequential()\n",
        "model.add(layers.Dense(10, input_dim=10, kernel_initializer='normal', activation='tanh'))\n",
        "model.add(layers.Dense(10, input_dim=10, kernel_initializer='normal', activation='tanh'))\n",
        "model.add(layers.Dense(10, input_dim=10, kernel_initializer='normal', activation='tanh'))\n",
        "model.add(layers.Dense(10, kernel_initializer='normal'))\n",
        "model.compile(loss='mean_squared_error', optimizer='adam', metrics=['accuracy'])\n",
        "history = model.fit(X, Y, epochs=10, batch_size=64, validation_split=0.2)\n",
        "accr = model.evaluate(X, Y)\n",
        "print('Train set\\n  Loss: {:0.3f}\\n  Accuracy: {:0.3f}'.format(accr[0],accr[1]))\n",
        "kfold = KFold(n_splits=10)\n",
        "results = cross_val_score(estimator, X, Y, cv=kfold)\n",
        "print(\"Baseline: %.2f (%.2f) MSE\" % (results.mean(), results.std()))"
      ],
      "execution_count": null,
      "outputs": [
        {
          "output_type": "stream",
          "name": "stdout",
          "text": [
            "Epoch 1/10\n",
            "245/245 [==============================] - 1s 2ms/step - loss: 0.0626 - accuracy: 0.1826 - val_loss: 0.0622 - val_accuracy: 0.1854\n",
            "Epoch 2/10\n",
            "245/245 [==============================] - 0s 2ms/step - loss: 0.0615 - accuracy: 0.1895 - val_loss: 0.0623 - val_accuracy: 0.1854\n",
            "Epoch 3/10\n",
            "245/245 [==============================] - 0s 2ms/step - loss: 0.0615 - accuracy: 0.1895 - val_loss: 0.0623 - val_accuracy: 0.1854\n",
            "Epoch 4/10\n",
            "245/245 [==============================] - 0s 2ms/step - loss: 0.0615 - accuracy: 0.1895 - val_loss: 0.0622 - val_accuracy: 0.1854\n",
            "Epoch 5/10\n",
            "245/245 [==============================] - 0s 2ms/step - loss: 0.0615 - accuracy: 0.1895 - val_loss: 0.0623 - val_accuracy: 0.1854\n",
            "Epoch 6/10\n",
            "245/245 [==============================] - 0s 2ms/step - loss: 0.0615 - accuracy: 0.1895 - val_loss: 0.0624 - val_accuracy: 0.1854\n",
            "Epoch 7/10\n",
            "245/245 [==============================] - 0s 2ms/step - loss: 0.0615 - accuracy: 0.1895 - val_loss: 0.0623 - val_accuracy: 0.1854\n",
            "Epoch 8/10\n",
            "245/245 [==============================] - 0s 2ms/step - loss: 0.0615 - accuracy: 0.1895 - val_loss: 0.0623 - val_accuracy: 0.1854\n",
            "Epoch 9/10\n",
            "245/245 [==============================] - 0s 2ms/step - loss: 0.0615 - accuracy: 0.1895 - val_loss: 0.0623 - val_accuracy: 0.1854\n",
            "Epoch 10/10\n",
            "245/245 [==============================] - 0s 2ms/step - loss: 0.0615 - accuracy: 0.1895 - val_loss: 0.0622 - val_accuracy: 0.1854\n",
            "306/306 [==============================] - 0s 966us/step - loss: 0.0616 - accuracy: 0.1887\n",
            "Train set\n",
            "  Loss: 0.062\n",
            "  Accuracy: 0.189\n",
            "Baseline: -0.07 (0.00) MSE\n"
          ]
        }
      ]
    },
    {
      "cell_type": "code",
      "metadata": {
        "id": "_8LY-rj4Ilaw"
      },
      "source": [
        "!pip install keras_tuner\n",
        "import keras_tuner as kt\n",
        "import matplotlib.pyplot as plt"
      ],
      "execution_count": null,
      "outputs": []
    },
    {
      "cell_type": "code",
      "metadata": {
        "colab": {
          "base_uri": "https://localhost:8080/"
        },
        "id": "0HvPMgmpIB-g",
        "outputId": "b0de37f8-6a07-4be7-f46d-f606c9e09d3b"
      },
      "source": [
        "def build_model(hp):\n",
        "    model = Sequential()\n",
        "    model.add(layers.Dense(10, input_dim=10, kernel_initializer='normal', activation='tanh'))\n",
        "    model.add(layers.Dense(10, input_dim=10, kernel_initializer='normal', activation='tanh'))\n",
        "    model.add(layers.Dense(10, input_dim=10, kernel_initializer='normal', activation='tanh'))\n",
        "    model.add(layers.Dense(10, kernel_initializer='normal'))\n",
        "    model.compile(loss='mean_squared_error', optimizer='adam', metrics=['accuracy'])\n",
        "    return model\n",
        "tuner = kt.RandomSearch(build_model, objective='val_loss', max_trials=100)    \n",
        "\n",
        "kfold = KFold(n_splits=10, shuffle=True)\n",
        "fold_no = 1\n",
        "acc_per_fold = []\n",
        "loss_per_fold = []\n",
        "\n",
        "for train, test in kfold.split(X, Y):\n",
        "  tuner.search(X, Y, epochs=10, validation_data=(X[0:500], Y[0:500]))\n",
        "\n",
        "  best_model_ktune = tuner.get_best_models(1)[0]\n",
        "  best_hyperparameters_ktune = tuner.get_best_hyperparameters(1)[0]\n",
        "  print(best_model_ktune, best_hyperparameters_ktune)\n",
        "  scores = best_model_ktune.evaluate(X[0:500], Y[0:500], verbose=0)\n",
        "  acc_per_fold.append(scores[1])\n",
        "  loss_per_fold.append(scores[0])\n",
        "  fold_no = fold_no + 1\n",
        "\n",
        "accr = best_model_ktune.evaluate(X, Y)\n",
        "print('Train set\\n  Loss: {:0.3f}\\n  Accuracy: {:0.3f}'.format(accr[0],accr[1]))"
      ],
      "execution_count": null,
      "outputs": [
        {
          "output_type": "stream",
          "name": "stdout",
          "text": [
            "Trial 1 Complete [00h 00m 05s]\n",
            "val_loss: 0.06662913411855698\n",
            "\n",
            "Best val_loss So Far: 0.06662913411855698\n",
            "Total elapsed time: 00h 00m 05s\n",
            "INFO:tensorflow:Oracle triggered exit\n",
            "<keras.engine.sequential.Sequential object at 0x7f0e76202f90> <keras_tuner.engine.hyperparameters.HyperParameters object at 0x7f0e778fb310>\n",
            "INFO:tensorflow:Oracle triggered exit\n",
            "<keras.engine.sequential.Sequential object at 0x7f0e6ef05fd0> <keras_tuner.engine.hyperparameters.HyperParameters object at 0x7f0e778fb310>\n",
            "INFO:tensorflow:Oracle triggered exit\n",
            "WARNING:tensorflow:Unresolved object in checkpoint: (root).optimizer.iter\n",
            "WARNING:tensorflow:Unresolved object in checkpoint: (root).optimizer.beta_1\n",
            "WARNING:tensorflow:Unresolved object in checkpoint: (root).optimizer.beta_2\n",
            "WARNING:tensorflow:Unresolved object in checkpoint: (root).optimizer.decay\n",
            "WARNING:tensorflow:Unresolved object in checkpoint: (root).optimizer.learning_rate\n",
            "WARNING:tensorflow:A checkpoint was restored (e.g. tf.train.Checkpoint.restore or tf.keras.Model.load_weights) but not all checkpointed values were used. See above for specific issues. Use expect_partial() on the load status object, e.g. tf.train.Checkpoint.restore(...).expect_partial(), to silence these warnings, or use assert_consumed() to make the check explicit. See https://www.tensorflow.org/guide/checkpoint#loading_mechanics for details.\n",
            "<keras.engine.sequential.Sequential object at 0x7f0e779e4450> <keras_tuner.engine.hyperparameters.HyperParameters object at 0x7f0e778fb310>\n",
            "INFO:tensorflow:Oracle triggered exit\n",
            "WARNING:tensorflow:Unresolved object in checkpoint: (root).optimizer.iter\n",
            "WARNING:tensorflow:Unresolved object in checkpoint: (root).optimizer.beta_1\n",
            "WARNING:tensorflow:Unresolved object in checkpoint: (root).optimizer.beta_2\n",
            "WARNING:tensorflow:Unresolved object in checkpoint: (root).optimizer.decay\n",
            "WARNING:tensorflow:Unresolved object in checkpoint: (root).optimizer.learning_rate\n",
            "WARNING:tensorflow:A checkpoint was restored (e.g. tf.train.Checkpoint.restore or tf.keras.Model.load_weights) but not all checkpointed values were used. See above for specific issues. Use expect_partial() on the load status object, e.g. tf.train.Checkpoint.restore(...).expect_partial(), to silence these warnings, or use assert_consumed() to make the check explicit. See https://www.tensorflow.org/guide/checkpoint#loading_mechanics for details.\n",
            "<keras.engine.sequential.Sequential object at 0x7f0e84979b50> <keras_tuner.engine.hyperparameters.HyperParameters object at 0x7f0e778fb310>\n",
            "INFO:tensorflow:Oracle triggered exit\n",
            "WARNING:tensorflow:Unresolved object in checkpoint: (root).optimizer.iter\n",
            "WARNING:tensorflow:Unresolved object in checkpoint: (root).optimizer.beta_1\n",
            "WARNING:tensorflow:Unresolved object in checkpoint: (root).optimizer.beta_2\n",
            "WARNING:tensorflow:Unresolved object in checkpoint: (root).optimizer.decay\n",
            "WARNING:tensorflow:Unresolved object in checkpoint: (root).optimizer.learning_rate\n",
            "WARNING:tensorflow:A checkpoint was restored (e.g. tf.train.Checkpoint.restore or tf.keras.Model.load_weights) but not all checkpointed values were used. See above for specific issues. Use expect_partial() on the load status object, e.g. tf.train.Checkpoint.restore(...).expect_partial(), to silence these warnings, or use assert_consumed() to make the check explicit. See https://www.tensorflow.org/guide/checkpoint#loading_mechanics for details.\n",
            "<keras.engine.sequential.Sequential object at 0x7f0e6ef62210> <keras_tuner.engine.hyperparameters.HyperParameters object at 0x7f0e778fb310>\n",
            "INFO:tensorflow:Oracle triggered exit\n",
            "WARNING:tensorflow:Unresolved object in checkpoint: (root).optimizer.iter\n",
            "WARNING:tensorflow:Unresolved object in checkpoint: (root).optimizer.beta_1\n",
            "WARNING:tensorflow:Unresolved object in checkpoint: (root).optimizer.beta_2\n",
            "WARNING:tensorflow:Unresolved object in checkpoint: (root).optimizer.decay\n",
            "WARNING:tensorflow:Unresolved object in checkpoint: (root).optimizer.learning_rate\n",
            "WARNING:tensorflow:A checkpoint was restored (e.g. tf.train.Checkpoint.restore or tf.keras.Model.load_weights) but not all checkpointed values were used. See above for specific issues. Use expect_partial() on the load status object, e.g. tf.train.Checkpoint.restore(...).expect_partial(), to silence these warnings, or use assert_consumed() to make the check explicit. See https://www.tensorflow.org/guide/checkpoint#loading_mechanics for details.\n",
            "<keras.engine.sequential.Sequential object at 0x7f0ec2f69490> <keras_tuner.engine.hyperparameters.HyperParameters object at 0x7f0e778fb310>\n",
            "INFO:tensorflow:Oracle triggered exit\n",
            "WARNING:tensorflow:Unresolved object in checkpoint: (root).optimizer.iter\n",
            "WARNING:tensorflow:Unresolved object in checkpoint: (root).optimizer.beta_1\n",
            "WARNING:tensorflow:Unresolved object in checkpoint: (root).optimizer.beta_2\n",
            "WARNING:tensorflow:Unresolved object in checkpoint: (root).optimizer.decay\n",
            "WARNING:tensorflow:Unresolved object in checkpoint: (root).optimizer.learning_rate\n",
            "WARNING:tensorflow:A checkpoint was restored (e.g. tf.train.Checkpoint.restore or tf.keras.Model.load_weights) but not all checkpointed values were used. See above for specific issues. Use expect_partial() on the load status object, e.g. tf.train.Checkpoint.restore(...).expect_partial(), to silence these warnings, or use assert_consumed() to make the check explicit. See https://www.tensorflow.org/guide/checkpoint#loading_mechanics for details.\n",
            "<keras.engine.sequential.Sequential object at 0x7f0e7bff3b50> <keras_tuner.engine.hyperparameters.HyperParameters object at 0x7f0e778fb310>\n",
            "INFO:tensorflow:Oracle triggered exit\n",
            "WARNING:tensorflow:Unresolved object in checkpoint: (root).optimizer.iter\n",
            "WARNING:tensorflow:Unresolved object in checkpoint: (root).optimizer.beta_1\n",
            "WARNING:tensorflow:Unresolved object in checkpoint: (root).optimizer.beta_2\n",
            "WARNING:tensorflow:Unresolved object in checkpoint: (root).optimizer.decay\n",
            "WARNING:tensorflow:Unresolved object in checkpoint: (root).optimizer.learning_rate\n",
            "WARNING:tensorflow:A checkpoint was restored (e.g. tf.train.Checkpoint.restore or tf.keras.Model.load_weights) but not all checkpointed values were used. See above for specific issues. Use expect_partial() on the load status object, e.g. tf.train.Checkpoint.restore(...).expect_partial(), to silence these warnings, or use assert_consumed() to make the check explicit. See https://www.tensorflow.org/guide/checkpoint#loading_mechanics for details.\n",
            "<keras.engine.sequential.Sequential object at 0x7f0e7622ec10> <keras_tuner.engine.hyperparameters.HyperParameters object at 0x7f0e778fb310>\n",
            "INFO:tensorflow:Oracle triggered exit\n",
            "WARNING:tensorflow:Unresolved object in checkpoint: (root).optimizer.iter\n",
            "WARNING:tensorflow:Unresolved object in checkpoint: (root).optimizer.beta_1\n",
            "WARNING:tensorflow:Unresolved object in checkpoint: (root).optimizer.beta_2\n",
            "WARNING:tensorflow:Unresolved object in checkpoint: (root).optimizer.decay\n",
            "WARNING:tensorflow:Unresolved object in checkpoint: (root).optimizer.learning_rate\n",
            "WARNING:tensorflow:A checkpoint was restored (e.g. tf.train.Checkpoint.restore or tf.keras.Model.load_weights) but not all checkpointed values were used. See above for specific issues. Use expect_partial() on the load status object, e.g. tf.train.Checkpoint.restore(...).expect_partial(), to silence these warnings, or use assert_consumed() to make the check explicit. See https://www.tensorflow.org/guide/checkpoint#loading_mechanics for details.\n",
            "<keras.engine.sequential.Sequential object at 0x7f0e761e9c10> <keras_tuner.engine.hyperparameters.HyperParameters object at 0x7f0e778fb310>\n",
            "INFO:tensorflow:Oracle triggered exit\n",
            "WARNING:tensorflow:Unresolved object in checkpoint: (root).optimizer.iter\n",
            "WARNING:tensorflow:Unresolved object in checkpoint: (root).optimizer.beta_1\n",
            "WARNING:tensorflow:Unresolved object in checkpoint: (root).optimizer.beta_2\n",
            "WARNING:tensorflow:Unresolved object in checkpoint: (root).optimizer.decay\n",
            "WARNING:tensorflow:Unresolved object in checkpoint: (root).optimizer.learning_rate\n",
            "WARNING:tensorflow:A checkpoint was restored (e.g. tf.train.Checkpoint.restore or tf.keras.Model.load_weights) but not all checkpointed values were used. See above for specific issues. Use expect_partial() on the load status object, e.g. tf.train.Checkpoint.restore(...).expect_partial(), to silence these warnings, or use assert_consumed() to make the check explicit. See https://www.tensorflow.org/guide/checkpoint#loading_mechanics for details.\n",
            "<keras.engine.sequential.Sequential object at 0x7f0e6ebe6ed0> <keras_tuner.engine.hyperparameters.HyperParameters object at 0x7f0e778fb310>\n",
            "306/306 [==============================] - 0s 969us/step - loss: 0.0616 - accuracy: 0.1887\n",
            "Train set\n",
            "  Loss: 0.062\n",
            "  Accuracy: 0.189\n"
          ]
        }
      ]
    },
    {
      "cell_type": "code",
      "metadata": {
        "colab": {
          "base_uri": "https://localhost:8080/"
        },
        "id": "AV2_dLFu-hmq",
        "outputId": "1282943b-fe92-4810-b745-c05ee8ad21c6"
      },
      "source": [
        "z = model.predict(X)\n",
        "z"
      ],
      "execution_count": null,
      "outputs": [
        {
          "output_type": "execute_result",
          "data": {
            "text/plain": [
              "array([[-0.07023709,  0.14028369, -0.02792341, ...,  0.03928266,\n",
              "         0.00129442,  0.08423768],\n",
              "       [-0.06951456,  0.14083333, -0.02784634, ...,  0.03811468,\n",
              "         0.00086629,  0.08394133],\n",
              "       [-0.06943044,  0.14009309, -0.02784562, ...,  0.03837188,\n",
              "         0.00090279,  0.08331285],\n",
              "       ...,\n",
              "       [-0.06971559,  0.13952376, -0.02774671, ...,  0.03864551,\n",
              "         0.00121352,  0.08332592],\n",
              "       [-0.06915399,  0.14091092, -0.02771281, ...,  0.03748002,\n",
              "         0.00082667,  0.08373713],\n",
              "       [-0.06947655,  0.13932194, -0.0277711 , ...,  0.03847215,\n",
              "         0.00128815,  0.08300473]], dtype=float32)"
            ]
          },
          "metadata": {},
          "execution_count": 192
        }
      ]
    },
    {
      "cell_type": "code",
      "metadata": {
        "id": "qzGyHNmyBpKb"
      },
      "source": [
        "path = r'/content/drive/MyDrive/Colab Notebooks/dcdcsr_ub.csv'\n",
        "with open(path, encoding=\"utf-8\", errors='ignore') as infile:\n",
        "  ppp = pd.read_csv(infile)"
      ],
      "execution_count": null,
      "outputs": []
    },
    {
      "cell_type": "code",
      "metadata": {
        "colab": {
          "base_uri": "https://localhost:8080/",
          "height": 408
        },
        "id": "L2-_qptZB7Of",
        "outputId": "369d5063-887b-452c-8731-c489a7d356f8"
      },
      "source": [
        "ppp"
      ],
      "execution_count": null,
      "outputs": [
        {
          "output_type": "execute_result",
          "data": {
            "text/html": [
              "<div>\n",
              "<style scoped>\n",
              "    .dataframe tbody tr th:only-of-type {\n",
              "        vertical-align: middle;\n",
              "    }\n",
              "\n",
              "    .dataframe tbody tr th {\n",
              "        vertical-align: top;\n",
              "    }\n",
              "\n",
              "    .dataframe thead th {\n",
              "        text-align: right;\n",
              "    }\n",
              "</style>\n",
              "<table border=\"1\" class=\"dataframe\">\n",
              "  <thead>\n",
              "    <tr style=\"text-align: right;\">\n",
              "      <th></th>\n",
              "      <th>userId</th>\n",
              "      <th>latent_factors</th>\n",
              "    </tr>\n",
              "  </thead>\n",
              "  <tbody>\n",
              "    <tr>\n",
              "      <th>0</th>\n",
              "      <td>A1725TI23A8AZ5</td>\n",
              "      <td>[-0.04458072086426748, -0.04418920146217742, -...</td>\n",
              "    </tr>\n",
              "    <tr>\n",
              "      <th>1</th>\n",
              "      <td>A17FLA8HQOFVIG</td>\n",
              "      <td>[-0.04562376857442771, 0.03590931947979391, -0...</td>\n",
              "    </tr>\n",
              "    <tr>\n",
              "      <th>2</th>\n",
              "      <td>A18DX1AT72SY95</td>\n",
              "      <td>[-0.029064811339074632, -0.06232275819789859, ...</td>\n",
              "    </tr>\n",
              "    <tr>\n",
              "      <th>3</th>\n",
              "      <td>A18OUQEK7IZ2F2</td>\n",
              "      <td>[0.0382946130088997, 0.015162036419019635, 0.0...</td>\n",
              "    </tr>\n",
              "    <tr>\n",
              "      <th>4</th>\n",
              "      <td>A197527ILE0LL8</td>\n",
              "      <td>[-0.07163249468294909, 0.045233471028753136, -...</td>\n",
              "    </tr>\n",
              "    <tr>\n",
              "      <th>...</th>\n",
              "      <td>...</td>\n",
              "      <td>...</td>\n",
              "    </tr>\n",
              "    <tr>\n",
              "      <th>9783</th>\n",
              "      <td>AZWLJC4YOJDYW</td>\n",
              "      <td>[-0.020512689492894254, -0.07779772882596753, ...</td>\n",
              "    </tr>\n",
              "    <tr>\n",
              "      <th>9784</th>\n",
              "      <td>AZWQOKJLSRFTB</td>\n",
              "      <td>[-0.01862657152826174, -0.0399345636858399, -0...</td>\n",
              "    </tr>\n",
              "    <tr>\n",
              "      <th>9785</th>\n",
              "      <td>AZY3B95680TUC</td>\n",
              "      <td>[-0.003398194632209013, 0.12408428766871424, -...</td>\n",
              "    </tr>\n",
              "    <tr>\n",
              "      <th>9786</th>\n",
              "      <td>AZYYFN06QYPC9</td>\n",
              "      <td>[-0.0362840583761885, 0.028628675812693523, -0...</td>\n",
              "    </tr>\n",
              "    <tr>\n",
              "      <th>9787</th>\n",
              "      <td>AZZXJAE2DILET</td>\n",
              "      <td>[-0.008260346603885804, -0.041359933180168035,...</td>\n",
              "    </tr>\n",
              "  </tbody>\n",
              "</table>\n",
              "<p>9788 rows × 2 columns</p>\n",
              "</div>"
            ],
            "text/plain": [
              "              userId                                     latent_factors\n",
              "0     A1725TI23A8AZ5  [-0.04458072086426748, -0.04418920146217742, -...\n",
              "1     A17FLA8HQOFVIG  [-0.04562376857442771, 0.03590931947979391, -0...\n",
              "2     A18DX1AT72SY95  [-0.029064811339074632, -0.06232275819789859, ...\n",
              "3     A18OUQEK7IZ2F2  [0.0382946130088997, 0.015162036419019635, 0.0...\n",
              "4     A197527ILE0LL8  [-0.07163249468294909, 0.045233471028753136, -...\n",
              "...              ...                                                ...\n",
              "9783   AZWLJC4YOJDYW  [-0.020512689492894254, -0.07779772882596753, ...\n",
              "9784   AZWQOKJLSRFTB  [-0.01862657152826174, -0.0399345636858399, -0...\n",
              "9785   AZY3B95680TUC  [-0.003398194632209013, 0.12408428766871424, -...\n",
              "9786   AZYYFN06QYPC9  [-0.0362840583761885, 0.028628675812693523, -0...\n",
              "9787   AZZXJAE2DILET  [-0.008260346603885804, -0.041359933180168035,...\n",
              "\n",
              "[9788 rows x 2 columns]"
            ]
          },
          "metadata": {},
          "execution_count": 181
        }
      ]
    },
    {
      "cell_type": "markdown",
      "metadata": {
        "id": "36cUng49Hx-K"
      },
      "source": [
        "#Tri Factorization"
      ]
    },
    {
      "cell_type": "code",
      "metadata": {
        "colab": {
          "base_uri": "https://localhost:8080/",
          "height": 370
        },
        "id": "Y4jKInoPH3-C",
        "outputId": "fdb7b2b1-7fda-48fc-f309-8f3adc4feb54"
      },
      "source": [
        "#Non-probabilistic non-negative matrix tri-factorisation, as presented in\n",
        "#\"Probabilistic Matrix Tri-Factorisation\" (Yoo and Choi, 2009).\n",
        "#We change the notation to match ours: R = FSG.T instead of V = USV.T.\n",
        "#The updates are then:\n",
        "#- Uik <- Uik * (sum_j Vjk * Rij / (Ui dot Vj)) / (sum_j Vjk)\n",
        "#- Vjk <- Vjk * (sum_i Uik * Rij / (Ui dot Vj)) / (sum_i Uik)\n",
        "#Or more efficiently using matrix operations:\n",
        "#- Uik <- Uik * (Mi dot [V.k * Ri / (Ui dot V.T)]) / (Mi dot V.k)\n",
        "#- Vjk <- Vjk * (M.j dot [U.k * R.j / (U dot Vj)]) / (M.j dot U.k)\n",
        "#And realising that elements in each column in U and V are independent:\n",
        "#- U.k <- U.k * sum(M * [V.k * (R / (U dot V.T))], axis=1) / sum(M dot V.k, axis=1)\n",
        "#- V.k <- V.k * sum(M * [U.k * (R / (U dot V.T))], axis=0) / sum(M dot U.k, axis=0)\n",
        "#We expect the following arguments:\n",
        "#- R, the matrix\n",
        "#- M, the mask matrix indicating observed values (1) and unobserved ones (0)\n",
        "#- K, the number of row latent factors\n",
        "#- L, the number of column latent factors\n",
        "    \n",
        "#Initialisation can be done by running the initialise(init,tauUV) function. We initialise as follows:\n",
        "#- init_S = 'ones'          -> S[i,k] = 1\n",
        "#        = 'random'        -> S[i,k] ~ U(0,1)\n",
        "#         = 'exponential'   -> S[i,k] ~ Exp(expo_prior)\n",
        "#- init_FG = 'ones'          -> F[i,k] = G[j,k] = 1\n",
        "#          = 'random'        -> F[i,k] ~ U(0,1), G[j,l] ~ G(0,1), \n",
        "#          = 'exponential'   -> F[i,k] ~ Exp(expo_prior), G[j,l] ~ Exp(expo_prior) \n",
        "#          = 'kmeans'        -> F = KMeans(R,rows)+0.2, G = KMeans(R,columns)+0.2\n",
        "#  where expo_prior is an additional parameter (default 1)\n",
        "#\"\"\"\n",
        "\n",
        "! pip install kmeans\n",
        "from kmeans.kmeans import KMeans\n",
        "from distributions.exponential import exponential_draw\n",
        "\n",
        "import numpy,itertools,math,time\n",
        "\n",
        "class NMTF:\n",
        "    def __init__(self,R,M,K,L):\n",
        "        self.R = numpy.array(R,dtype=float)\n",
        "        self.M = numpy.array(M,dtype=float)\n",
        "        self.K = K            \n",
        "        self.L = L    \n",
        "        \n",
        "        self.metrics = ['MSE','R^2','Rp']\n",
        "                \n",
        "        assert len(self.R.shape) == 2, \"Input matrix R is not a two-dimensional array, \" \\\n",
        "            \"but instead %s-dimensional.\" % len(self.R.shape)\n",
        "        assert self.R.shape == self.M.shape, \"Input matrix R is not of the same size as \" \\\n",
        "            \"the indicator matrix M: %s and %s respectively.\" % (self.R.shape,self.M.shape)\n",
        "        \n",
        "        (self.I,self.J) = self.R.shape\n",
        "        \n",
        "        self.check_empty_rows_columns() \n",
        "        \n",
        "        # For computing the I-div it is better if unknown values are 1's, not 0's\n",
        "        self.R_excl_unknown = numpy.empty((self.I,self.J))\n",
        "        for i,j in itertools.product(range(0,self.I),range(0,self.J)):\n",
        "            self.R_excl_unknown[i,j] = self.R[i,j] if self.M[i,j] else 1.\n",
        "                 \n",
        "                 \n",
        "    # Raise an exception if an entire row or column is empty\n",
        "    def check_empty_rows_columns(self):\n",
        "        sums_columns = self.M.sum(axis=0)\n",
        "        sums_rows = self.M.sum(axis=1)\n",
        "                    \n",
        "        # Assert none of the rows or columns are entirely unknown values\n",
        "        for i,c in enumerate(sums_rows):\n",
        "            assert c != 0, \"Fully unobserved row in R, row %s.\" % i\n",
        "        for j,c in enumerate(sums_columns):\n",
        "            assert c != 0, \"Fully unobserved column in R, column %s.\" % j\n",
        "                 \n",
        "\n",
        "#    \"\"\" Initialise F, S and G \"\"\"    \n",
        "    def initialise(self,init_S='random',init_FG='random',expo_prior=1.):\n",
        "        assert init_S in ['ones','random','exponential'], \"Unrecognised init option for S: %s.\" % init_S\n",
        "        assert init_FG in ['ones','random','exponential','kmeans'], \"Unrecognised init option for F,G: %s.\" % init_FG\n",
        "        \n",
        "        if init_S == 'ones':\n",
        "            self.S = numpy.ones((self.K,self.L))\n",
        "        elif init_S == 'random':\n",
        "            self.S = numpy.random.rand(self.K,self.L)\n",
        "        elif init_S == 'exponential':\n",
        "            self.S = numpy.empty((self.K,self.L))\n",
        "            for k,l in itertools.product(xrange(0,self.K),xrange(0,self.L)):        \n",
        "                self.S[k,l] = exponential_draw(expo_prior)\n",
        "        \n",
        "        if init_FG == 'ones':\n",
        "            self.F = numpy.ones((self.I,self.K))\n",
        "            self.G = numpy.ones((self.J,self.L))\n",
        "        elif init_FG == 'random':\n",
        "            self.F = numpy.random.rand(self.I,self.K)\n",
        "            self.G = numpy.random.rand(self.J,self.L)\n",
        "        elif init_FG == 'exponential':\n",
        "            self.F = numpy.empty((self.I,self.K))\n",
        "            self.G = numpy.empty((self.J,self.L))\n",
        "            for i,k in itertools.product(xrange(0,self.I),xrange(0,self.K)):        \n",
        "                self.F[i,k] = exponential_draw(expo_prior)\n",
        "            for j,l in itertools.product(xrange(0,self.J),xrange(0,self.L)):\n",
        "                self.G[j,l] = exponential_draw(expo_prior)\n",
        "        elif init_FG == 'kmeans':\n",
        "            print(\"Initialising F using KMeans.\")\n",
        "            kmeans_F = KMeans(self.R,self.M,self.K)\n",
        "            kmeans_F.initialise()\n",
        "            kmeans_F.cluster()\n",
        "            self.F = kmeans_F.clustering_results + 0.2            \n",
        "            \n",
        "            print(\"Initialising G using KMeans.\")\n",
        "            kmeans_G = KMeans(self.R.T,self.M.T,self.L)   \n",
        "            kmeans_G.initialise()\n",
        "            kmeans_G.cluster()\n",
        "            self.G = kmeans_G.clustering_results + 0.2\n",
        "        \n",
        "        \n",
        "#    \"\"\" Update F, S, G for a number of iterations, printing the performances each iteration. \"\"\"\n",
        "    def run(self,iterations):\n",
        "        assert hasattr(self,'F') and hasattr(self,'S') and hasattr(self,'G'), \\\n",
        "            \"F, S and G have not been initialised - please run NMTF.initialise() first.\"        \n",
        "        \n",
        "        self.all_times = [] # to plot performance against time\n",
        "        self.all_performances = {} # for plotting convergence of metrics\n",
        "        for metric in self.metrics:\n",
        "            self.all_performances[metric] = []\n",
        "            \n",
        "        time_start = time.time()\n",
        "        for it in range(1,iterations+1):\n",
        "            # Doing S first gives more interpretable results (F,G ~= [0,1] rather than [0,20])\n",
        "            for k,l in itertools.product(xrange(0,self.K),xrange(0,self.L)):\n",
        "                self.update_S(k,l)\n",
        "                    \n",
        "            for k in range(0,self.K):\n",
        "                self.update_F(k)\n",
        "                \n",
        "            for l in range(0,self.L):\n",
        "                self.update_G(l)\n",
        "               \n",
        "            self.give_update(it)\n",
        "            \n",
        "            time_iteration = time.time()\n",
        "            self.all_times.append(time_iteration-time_start)  \n",
        "        \n",
        "        \n",
        "#    \"\"\" Method for doing both initialise() and run() \"\"\"\n",
        "    def train(self,iterations,init_S='random',init_FG='random',expo_prior=1.):\n",
        "        self.initialise(init_S=init_S,init_FG=init_FG,expo_prior=expo_prior) \n",
        "        self.run(iterations=iterations)\n",
        "        \n",
        "                \n",
        "#    \"\"\" Updates for F, G, S. \"\"\"                \n",
        "    # Compute the dot product of three matrices\n",
        "    def triple_dot(self,M1,M2,M3):\n",
        "        return numpy.dot(M1,numpy.dot(M2,M3))\n",
        "        \n",
        "    def update_F(self,k):\n",
        "        R_pred = self.triple_dot(self.F,self.S,self.G.T)\n",
        "        SG = numpy.dot(self.S[k],self.G.T)\n",
        "        numerator = (self.M * self.R / R_pred * SG).sum(axis=1)\n",
        "        denominator = (self.M * SG).sum(axis=1)\n",
        "        self.F[:,k] = self.F[:,k] * numerator / denominator\n",
        "        \n",
        "    def update_G(self,l):\n",
        "        R_pred = self.triple_dot(self.F,self.S,self.G.T)\n",
        "        FS = numpy.dot(self.F,self.S[:,l])\n",
        "        numerator = ((self.M * self.R / R_pred).T * FS).T.sum(axis=0)\n",
        "        denominator = (self.M.T * FS).T.sum(axis=0)\n",
        "        self.G[:,l] = self.G[:,l] * numerator / denominator\n",
        "        \n",
        "    def update_S(self,k,l):\n",
        "        R_pred = self.triple_dot(self.F,self.S,self.G.T)\n",
        "        F_times_G = self.M * numpy.outer(self.F[:,k], self.G[:,l])   \n",
        "        numerator = (self.R * F_times_G / R_pred).sum()\n",
        "        denominator = F_times_G.sum()\n",
        "        self.S[k,l] = self.S[k,l] * numerator / denominator\n",
        "           \n",
        "           \n",
        "#    ''' Functions for computing MSE, R^2 (coefficient of determination), Rp (Pearson correlation) '''\n",
        "    def predict(self,M_pred):\n",
        "        R_pred = self.triple_dot(self.F,self.S,self.G.T)\n",
        "        MSE = self.compute_MSE(M_pred,self.R,R_pred)\n",
        "        R2 = self.compute_R2(M_pred,self.R,R_pred)    \n",
        "        Rp = self.compute_Rp(M_pred,self.R,R_pred)        \n",
        "        return {'MSE':MSE,'R^2':R2,'Rp':Rp}        \n",
        "        \n",
        "    def compute_MSE(self,M,R,R_pred):\n",
        "        return (M * (R-R_pred)**2).sum() / float(M.sum())\n",
        "        \n",
        "    def compute_R2(self,M,R,R_pred):\n",
        "        mean = (M*R).sum() / float(M.sum())\n",
        "        SS_total = float((M*(R-mean)**2).sum())\n",
        "        SS_res = float((M*(R-R_pred)**2).sum())\n",
        "        return 1. - SS_res / SS_total if SS_total != 0. else numpy.inf\n",
        "        \n",
        "    def compute_Rp(self,M,R,R_pred):\n",
        "        mean_real = (M*R).sum() / float(M.sum())\n",
        "        mean_pred = (M*R_pred).sum() / float(M.sum())\n",
        "        covariance = (M*(R-mean_real)*(R_pred-mean_pred)).sum()\n",
        "        variance_real = (M*(R-mean_real)**2).sum()\n",
        "        variance_pred = (M*(R_pred-mean_pred)**2).sum()\n",
        "        return covariance / float(math.sqrt(variance_real)*math.sqrt(variance_pred))   \n",
        "        \n",
        "    def compute_I_div(self):    \n",
        "        R_pred = self.triple_dot(self.F,self.S,self.G.T)\n",
        "        return (self.M * ( self.R_excl_unknown * numpy.log( self.R_excl_unknown / R_pred ) - self.R_excl_unknown + R_pred ) ).sum()        \n",
        "        \n",
        "        \n",
        "#    \"\"\" Give updates and store performances \"\"\"\n",
        "    def give_update(self,iteration):    \n",
        "        perf = self.predict(self.M)\n",
        "        i_div = self.compute_I_div()\n",
        "        \n",
        "        for metric in self.metrics:\n",
        "            self.all_performances[metric].append(perf[metric])\n",
        "               \n",
        "        print(\"Iteration %s. I-divergence: %s. MSE: %s. R^2: %s. Rp: %s.\" % (iteration,i_div,perf['MSE'],perf['R^2'],perf['Rp']))"
      ],
      "execution_count": null,
      "outputs": [
        {
          "output_type": "stream",
          "text": [
            "Requirement already satisfied: kmeans in /usr/local/lib/python3.7/dist-packages (1.0.2)\n"
          ],
          "name": "stdout"
        },
        {
          "output_type": "error",
          "ename": "ModuleNotFoundError",
          "evalue": "ignored",
          "traceback": [
            "\u001b[0;31m---------------------------------------------------------------------------\u001b[0m",
            "\u001b[0;31mModuleNotFoundError\u001b[0m                       Traceback (most recent call last)",
            "\u001b[0;32m<ipython-input-17-db48aa92b301>\u001b[0m in \u001b[0;36m<module>\u001b[0;34m()\u001b[0m\n\u001b[1;32m     29\u001b[0m \u001b[0;34m\u001b[0m\u001b[0m\n\u001b[1;32m     30\u001b[0m \u001b[0mget_ipython\u001b[0m\u001b[0;34m(\u001b[0m\u001b[0;34m)\u001b[0m\u001b[0;34m.\u001b[0m\u001b[0msystem\u001b[0m\u001b[0;34m(\u001b[0m\u001b[0;34m' pip install kmeans'\u001b[0m\u001b[0;34m)\u001b[0m\u001b[0;34m\u001b[0m\u001b[0;34m\u001b[0m\u001b[0m\n\u001b[0;32m---> 31\u001b[0;31m \u001b[0;32mfrom\u001b[0m \u001b[0mkmeans\u001b[0m\u001b[0;34m.\u001b[0m\u001b[0mkmeans\u001b[0m \u001b[0;32mimport\u001b[0m \u001b[0mKMeans\u001b[0m\u001b[0;34m\u001b[0m\u001b[0;34m\u001b[0m\u001b[0m\n\u001b[0m\u001b[1;32m     32\u001b[0m \u001b[0;32mfrom\u001b[0m \u001b[0mdistributions\u001b[0m\u001b[0;34m.\u001b[0m\u001b[0mexponential\u001b[0m \u001b[0;32mimport\u001b[0m \u001b[0mexponential_draw\u001b[0m\u001b[0;34m\u001b[0m\u001b[0;34m\u001b[0m\u001b[0m\n\u001b[1;32m     33\u001b[0m \u001b[0;34m\u001b[0m\u001b[0m\n",
            "\u001b[0;31mModuleNotFoundError\u001b[0m: No module named 'kmeans.kmeans'",
            "",
            "\u001b[0;31m---------------------------------------------------------------------------\u001b[0;32m\nNOTE: If your import is failing due to a missing package, you can\nmanually install dependencies using either !pip or !apt.\n\nTo view examples of installing some common dependencies, click the\n\"Open Examples\" button below.\n\u001b[0;31m---------------------------------------------------------------------------\u001b[0m\n"
          ]
        }
      ]
    },
    {
      "cell_type": "code",
      "metadata": {
        "colab": {
          "base_uri": "https://localhost:8080/",
          "height": 288
        },
        "id": "OimofENZLVvR",
        "outputId": "15ede166-f4e1-424f-cd7f-2315f6f0318b"
      },
      "source": [
        "import kmeans.kmeans"
      ],
      "execution_count": null,
      "outputs": [
        {
          "output_type": "error",
          "ename": "ModuleNotFoundError",
          "evalue": "ignored",
          "traceback": [
            "\u001b[0;31m---------------------------------------------------------------------------\u001b[0m",
            "\u001b[0;31mModuleNotFoundError\u001b[0m                       Traceback (most recent call last)",
            "\u001b[0;32m<ipython-input-19-79f9743f74d0>\u001b[0m in \u001b[0;36m<module>\u001b[0;34m()\u001b[0m\n\u001b[0;32m----> 1\u001b[0;31m \u001b[0;32mimport\u001b[0m \u001b[0mkmeans\u001b[0m\u001b[0;34m.\u001b[0m\u001b[0mkmeans\u001b[0m\u001b[0;34m\u001b[0m\u001b[0;34m\u001b[0m\u001b[0m\n\u001b[0m",
            "\u001b[0;31mModuleNotFoundError\u001b[0m: No module named 'kmeans.kmeans'",
            "",
            "\u001b[0;31m---------------------------------------------------------------------------\u001b[0;32m\nNOTE: If your import is failing due to a missing package, you can\nmanually install dependencies using either !pip or !apt.\n\nTo view examples of installing some common dependencies, click the\n\"Open Examples\" button below.\n\u001b[0;31m---------------------------------------------------------------------------\u001b[0m\n"
          ]
        }
      ]
    },
    {
      "cell_type": "markdown",
      "metadata": {
        "id": "P-IOCvn74H0G"
      },
      "source": [
        "#testing"
      ]
    },
    {
      "cell_type": "code",
      "metadata": {
        "colab": {
          "base_uri": "https://localhost:8080/"
        },
        "id": "-8zVUCEf6-Rm",
        "outputId": "27375327-046d-4517-d5f7-2182a6a4117a"
      },
      "source": [
        "print(rs)\n",
        "print(rt)"
      ],
      "execution_count": null,
      "outputs": [
        {
          "output_type": "stream",
          "text": [
            "userId      A0334855HN6E38CXWXZR  ...  AZYH2ZK8UE1YY\n",
            "itemId                            ...               \n",
            "000047715X                     0  ...              0\n",
            "000105001X                     0  ...              0\n",
            "000171287X                     0  ...              0\n",
            "000211495X                     0  ...              0\n",
            "000216132X                     0  ...              0\n",
            "...                          ...  ...            ...\n",
            "2153971                        0  ...              0\n",
            "2160595                        0  ...              0\n",
            "2163578                        0  ...              0\n",
            "230022                         0  ...              0\n",
            "913154                         0  ...              0\n",
            "\n",
            "[67 rows x 9702 columns]\n",
            "userId      A0034986DWR7WEDQN0GV  ...  AZZXJAE2DILET\n",
            "itemId                            ...               \n",
            "000503860X                     0  ...              0\n",
            "061524226X                     0  ...              0\n",
            "076700941X                     0  ...              0\n",
            "076780192X                     0  ...              0\n",
            "1527665                        0  ...              0\n",
            "...                          ...  ...            ...\n",
            "767805534                      5  ...              0\n",
            "767808673                      0  ...              0\n",
            "767809254                      0  ...              0\n",
            "767809726                      0  ...              0\n",
            "767813421                      0  ...              0\n",
            "\n",
            "[70 rows x 9788 columns]\n"
          ],
          "name": "stdout"
        }
      ]
    },
    {
      "cell_type": "code",
      "metadata": {
        "colab": {
          "base_uri": "https://localhost:8080/"
        },
        "id": "nIxkcGyi4WOx",
        "outputId": "27d89582-0bba-4da4-edc5-cfe2046d7d6b"
      },
      "source": [
        "arr_s = rs.to_numpy()\n",
        "arr_t = rt.to_numpy()\n",
        "arr_s"
      ],
      "execution_count": null,
      "outputs": [
        {
          "output_type": "execute_result",
          "data": {
            "text/plain": [
              "array([[0., 0., 0., ..., 0., 0., 0.],\n",
              "       [0., 0., 0., ..., 0., 0., 0.],\n",
              "       [0., 0., 0., ..., 0., 0., 0.],\n",
              "       ...,\n",
              "       [0., 0., 0., ..., 0., 0., 0.],\n",
              "       [0., 0., 0., ..., 0., 0., 0.],\n",
              "       [0., 0., 0., ..., 0., 0., 0.]])"
            ]
          },
          "metadata": {
            "tags": []
          },
          "execution_count": 8
        }
      ]
    },
    {
      "cell_type": "code",
      "metadata": {
        "colab": {
          "base_uri": "https://localhost:8080/"
        },
        "id": "sjNkJXXe5C3l",
        "outputId": "3815a5b5-06c4-4066-8615-da298809b931"
      },
      "source": [
        "x = np.matmul(arr_t, arr_t.transpose())\n",
        "x.shape"
      ],
      "execution_count": null,
      "outputs": [
        {
          "output_type": "execute_result",
          "data": {
            "text/plain": [
              "(290, 290)"
            ]
          },
          "metadata": {
            "tags": []
          },
          "execution_count": 26
        }
      ]
    },
    {
      "cell_type": "code",
      "metadata": {
        "id": "f5ymRQu86cFe"
      },
      "source": [
        ""
      ],
      "execution_count": null,
      "outputs": []
    }
  ]
}