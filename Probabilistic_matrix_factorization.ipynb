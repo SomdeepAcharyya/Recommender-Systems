{
  "nbformat": 4,
  "nbformat_minor": 0,
  "metadata": {
    "colab": {
      "name": "Probabilistic matrix factorization.ipynb",
      "provenance": [],
      "collapsed_sections": [],
      "mount_file_id": "10reUIF7gEkZ7G5L1-1F5L8ji3_f-o4JO",
      "authorship_tag": "ABX9TyMQ9WrS2ZIacyoNohWQ8wbr",
      "include_colab_link": true
    },
    "kernelspec": {
      "name": "python3",
      "display_name": "Python 3"
    },
    "language_info": {
      "name": "python"
    }
  },
  "cells": [
    {
      "cell_type": "markdown",
      "metadata": {
        "id": "view-in-github",
        "colab_type": "text"
      },
      "source": [
        "<a href=\"https://colab.research.google.com/github/SomdeepAcharyya/Recommender-Systems/blob/main/Probabilistic_matrix_factorization.ipynb\" target=\"_parent\"><img src=\"https://colab.research.google.com/assets/colab-badge.svg\" alt=\"Open In Colab\"/></a>"
      ]
    },
    {
      "cell_type": "code",
      "execution_count": null,
      "metadata": {
        "id": "7DmxNpPjMylH"
      },
      "outputs": [],
      "source": [
        "import pandas as pd\n",
        "import scipy, cmake\n",
        "import numpy as np\n",
        "import warnings\n",
        "from sklearn import svm\n",
        "warnings.filterwarnings('ignore')"
      ]
    },
    {
      "cell_type": "code",
      "source": [
        "# amazon review dataset magazines csv\n",
        "path = r'/content/drive/MyDrive/Per_CD_RS/digital_music_pers_num.csv'\n",
        "path2 = r'/content/drive/MyDrive/Per_CD_RS/Aaamazon_fashion_ru_tf.csv'\n",
        "\n",
        "with open(path, encoding=\"utf-8\", errors='ignore') as infile:\n",
        "  df = pd.read_csv(infile)\n",
        "arr = np.array(df[['0', '1', '2', '3', '4']])"
      ],
      "metadata": {
        "id": "41TCywsR3owj"
      },
      "execution_count": null,
      "outputs": []
    },
    {
      "cell_type": "code",
      "source": [
        "# amazon review dataset magazines csv\n",
        "path = r'/content/drive/MyDrive/Per_CD_RS/Amazon_Text_Digital_Music.json'\n",
        "with open(path, encoding=\"utf-8\", errors='ignore') as infile:\n",
        "  az = pd.read_json(infile, lines=True, nrows=12000)\n",
        "az = az.rename(columns={\"reviewerID\":\"userId\", \"asin\":\"itemId\", \"overall\":\"rating\"})"
      ],
      "metadata": {
        "id": "LAz7MyJc366t"
      },
      "execution_count": null,
      "outputs": []
    },
    {
      "cell_type": "code",
      "source": [
        "# Tripadvisor review Dataset\n",
        "path = r'/content/drive/MyDrive/Per_CD_RS/tripadvisor_reviews_with_country.csv'\n",
        "with open(path, encoding=\"utf-8\", errors='ignore') as infile:\n",
        "  tr = pd.read_csv(infile)\n",
        "tr = tr.rename(columns={\"username\":\"userId\", \"taObject\":\"itemId\"})"
      ],
      "metadata": {
        "id": "eEs05emdNHvG"
      },
      "execution_count": null,
      "outputs": []
    },
    {
      "cell_type": "code",
      "source": [
        "src = az[['userId', 'itemId', 'rating']]"
      ],
      "metadata": {
        "id": "qZ0tCtmcN19t"
      },
      "execution_count": null,
      "outputs": []
    },
    {
      "cell_type": "code",
      "source": [
        "!pip install surprise"
      ],
      "metadata": {
        "id": "9bSm9j3dNhcO",
        "colab": {
          "base_uri": "https://localhost:8080/"
        },
        "outputId": "5749bc34-e8b7-408e-8319-697443b3a29f"
      },
      "execution_count": null,
      "outputs": [
        {
          "output_type": "stream",
          "name": "stdout",
          "text": [
            "Looking in indexes: https://pypi.org/simple, https://us-python.pkg.dev/colab-wheels/public/simple/\n",
            "Requirement already satisfied: surprise in /usr/local/lib/python3.7/dist-packages (0.1)\n",
            "Requirement already satisfied: scikit-surprise in /usr/local/lib/python3.7/dist-packages (from surprise) (1.1.1)\n",
            "Requirement already satisfied: numpy>=1.11.2 in /usr/local/lib/python3.7/dist-packages (from scikit-surprise->surprise) (1.21.6)\n",
            "Requirement already satisfied: joblib>=0.11 in /usr/local/lib/python3.7/dist-packages (from scikit-surprise->surprise) (1.1.0)\n",
            "Requirement already satisfied: scipy>=1.0.0 in /usr/local/lib/python3.7/dist-packages (from scikit-surprise->surprise) (1.7.3)\n",
            "Requirement already satisfied: six>=1.10.0 in /usr/local/lib/python3.7/dist-packages (from scikit-surprise->surprise) (1.15.0)\n"
          ]
        }
      ]
    },
    {
      "cell_type": "code",
      "metadata": {
        "id": "4okiMy-BPRAC"
      },
      "source": [
        "# matrix factorization(MF) via Probabilistic Matrix Factorization model\n",
        "import surprise\n",
        "\n",
        "reader = surprise.Reader(rating_scale=(1,5)) \n",
        "#into surprise:\n",
        "data_s = surprise.Dataset.load_from_df(src,reader)\n",
        "\n",
        "class ProbabilisticMatrixFactorization(surprise.AlgoBase):\n",
        "# Randomly initializes two Matrices, Stochastic Gradient Descent to be able to optimize the best factorization for ratings.\n",
        "    def __init__(self,learning_rate,num_epochs,num_factors):\n",
        "       # super(surprise.AlgoBase)\n",
        "        self.alpha = learning_rate #learning rate for Stochastic Gradient Descent\n",
        "        self.num_epochs = num_epochs\n",
        "        self.num_factors = num_factors\n",
        "    def fit(self,train):\n",
        "        #randomly initialize user/item factors from a Gaussian\n",
        "        P = np.random.normal(0,.1,(train.n_users,self.num_factors))\n",
        "        Q = np.random.normal(0,.1,(train.n_items,self.num_factors))\n",
        "        #print('fit')\n",
        "\n",
        "        for epoch in range(self.num_epochs):\n",
        "            for u,i,r_ui in train.all_ratings():\n",
        "                residual = r_ui - np.dot(P[u],Q[i])\n",
        "                temp = P[u,:] # we want to update them at the same time, so we make a temporary variable. \n",
        "                P[u,:] +=  self.alpha * residual * Q[i]\n",
        "                Q[i,:] +=  self.alpha * residual * temp \n",
        "\n",
        "                \n",
        "        self.P = P\n",
        "        self.Q = Q\n",
        "\n",
        "        self.trainset = train\n",
        "    \n",
        "    \n",
        "    def estimate(self,u,i):\n",
        "        #returns estimated rating for user u and item i. Prerequisite: Algorithm must be fit to training set.\n",
        "        #check to see if u and i are in the train set:\n",
        "        #print('gahh')\n",
        "\n",
        "        if self.trainset.knows_user(u) and self.trainset.knows_item(i):\n",
        "            #print(u,i, '\\n','yep:', self.P[u],self.Q[i])\n",
        "            #return scalar product of P[u] and Q[i]\n",
        "            nanCheck = np.dot(self.P[u],self.Q[i])\n",
        "            \n",
        "            if np.isnan(nanCheck):\n",
        "                return self.trainset.global_mean\n",
        "            else:\n",
        "                return np.dot(self.P[u,:],self.Q[i,:])\n",
        "        else:# if its not known we'll return the general average. \n",
        "           # print('global mean')\n",
        "            return self.trainset.global_mean"
      ],
      "execution_count": null,
      "outputs": []
    },
    {
      "cell_type": "code",
      "source": [
        "Alg_s = ProbabilisticMatrixFactorization(learning_rate=0.0001,num_epochs=100,num_factors=10)\n",
        "data_s1 = data_s.build_full_trainset()\n",
        "Alg_s.fit(data_s1)"
      ],
      "metadata": {
        "id": "fhbSYNNcNVHc"
      },
      "execution_count": null,
      "outputs": []
    },
    {
      "cell_type": "code",
      "source": [
        "us = Alg_s.P\n",
        "vs = Alg_s.Q"
      ],
      "metadata": {
        "id": "dsjW__uYO3zB"
      },
      "execution_count": null,
      "outputs": []
    },
    {
      "cell_type": "code",
      "source": [
        "train_size = 0.8\n",
        "df_copy = src.copy()\n",
        "train_set = df_copy.sample(frac=train_size).reset_index()\n",
        "#user_features_train = np.array(train_set[['open', 'cons', 'extra', 'agree', 'neuro']].fillna(0))\n",
        "test_set = df_copy.drop(train_set.index).reset_index()\n",
        "#user_features_test = np.array(test_set[['open', 'cons', 'extra', 'agree', 'neuro']].fillna(0))"
      ],
      "metadata": {
        "id": "6hilyWxl4BFc"
      },
      "execution_count": null,
      "outputs": []
    },
    {
      "cell_type": "code",
      "source": [
        "# rating matrix wrt user u\n",
        "ru_src = test_set.pivot_table(index='userId',columns='itemId',values='rating')    # U\n",
        "ru_src = ru_src.fillna(0)\n",
        "ru_m_src = ru_src > 0\n",
        "ru_m_src = ru_m_src.replace(True, 1)\n",
        "ru_m_src = ru_m_src.replace(False, 0)\n",
        "ru_src = np.array(ru_src)\n",
        "ru_m_src = np.array(ru_m_src)   # U"
      ],
      "metadata": {
        "id": "H5naRhv24pSW"
      },
      "execution_count": null,
      "outputs": []
    },
    {
      "cell_type": "code",
      "source": [
        "arr = test_set.pivot_table(index='userId',columns='itemId',values='rating').fillna(0).reset_index()\n",
        "cols = arr.columns\n",
        "cols = cols[1:len(arr.T)]"
      ],
      "metadata": {
        "id": "UKEwCcFeOPNu"
      },
      "execution_count": null,
      "outputs": []
    },
    {
      "cell_type": "code",
      "source": [
        "pred = []\n",
        "for i in range(len(arr)):\n",
        "  row = []\n",
        "  for j in range(len(cols)):\n",
        "    p = Alg_s.estimate(arr.userId.iloc[i],cols[j])\n",
        "    row.append(p)\n",
        "  pred.append(row)"
      ],
      "metadata": {
        "id": "sojUur7LScMc"
      },
      "execution_count": null,
      "outputs": []
    },
    {
      "cell_type": "code",
      "source": [
        "pred = np.array(pred)\n",
        "pred.shape"
      ],
      "metadata": {
        "colab": {
          "base_uri": "https://localhost:8080/"
        },
        "id": "XcrSUx3QTQgS",
        "outputId": "6478df11-ddff-4933-fbbd-7daadf7e1717"
      },
      "execution_count": null,
      "outputs": [
        {
          "output_type": "execute_result",
          "data": {
            "text/plain": [
              "(2295, 157)"
            ]
          },
          "metadata": {},
          "execution_count": 75
        }
      ]
    },
    {
      "cell_type": "code",
      "source": [
        "ru_src.shape"
      ],
      "metadata": {
        "colab": {
          "base_uri": "https://localhost:8080/"
        },
        "id": "CtjmrhJe71Xo",
        "outputId": "d53cf51d-c87b-419d-9d80-443932129b67"
      },
      "execution_count": null,
      "outputs": [
        {
          "output_type": "execute_result",
          "data": {
            "text/plain": [
              "(2295, 157)"
            ]
          },
          "metadata": {},
          "execution_count": 76
        }
      ]
    },
    {
      "cell_type": "code",
      "source": [
        "from sklearn.metrics import mean_absolute_error\n",
        "from sklearn.metrics import mean_squared_error\n",
        "mae = mean_absolute_error(ru_src, pred)\n",
        "rmse = mean_squared_error(ru_src, pred)\n",
        "print(mae, rmse)"
      ],
      "metadata": {
        "colab": {
          "base_uri": "https://localhost:8080/"
        },
        "id": "838OeaW75jc7",
        "outputId": "8c0e283f-5004-4245-ffd5-28953e7a7373"
      },
      "execution_count": null,
      "outputs": [
        {
          "output_type": "stream",
          "name": "stdout",
          "text": [
            "3.9299098113224895 15.503761853845731\n"
          ]
        }
      ]
    },
    {
      "cell_type": "code",
      "source": [
        "# tuning"
      ],
      "metadata": {
        "id": "pYEWqoDZ7yu-"
      },
      "execution_count": null,
      "outputs": []
    },
    {
      "cell_type": "code",
      "source": [
        "from sklearn.metrics import mean_absolute_error\n",
        "from sklearn.metrics import mean_squared_error"
      ],
      "metadata": {
        "id": "ouaWFKww2DZu"
      },
      "execution_count": null,
      "outputs": []
    },
    {
      "cell_type": "code",
      "source": [
        "learning_rate = [0.01, 0.001, 0.0001]\n",
        "epochs=[60,80,100,120,140,150]\n",
        "num_factors = [10,20,30,40]"
      ],
      "metadata": {
        "id": "2nyRBNQk2rFh"
      },
      "execution_count": null,
      "outputs": []
    },
    {
      "cell_type": "code",
      "source": [
        "for l in learning_rate:\n",
        "  for e in epochs:\n",
        "    for k in num_factors:\n",
        "      Alg_s = ProbabilisticMatrixFactorization(learning_rate=l,num_epochs=e,num_factors=k)\n",
        "      data_s1 = data_s.build_full_trainset()\n",
        "      Alg_s.fit(data_s1)\n",
        "      us = Alg_s.P\n",
        "      vs = Alg_s.Q\n",
        "      pred = []\n",
        "      for i in range(len(arr)):\n",
        "        row = []\n",
        "        for j in range(len(cols)):\n",
        "          p = Alg_s.estimate(arr.userId.iloc[i],cols[j])\n",
        "          row.append(p)\n",
        "        pred.append(row)\n",
        "      pred = np.array(pred)\n",
        "      mae = mean_absolute_error(ru_src, pred)\n",
        "      rmse = mean_squared_error(ru_src, pred) \n",
        "      print(\"lr\", l,\"epochs\", e, \"k\", k)\n",
        "      print(\"mae\", mae)\n",
        "      print(\"rmse\", rmse)\n",
        "      print(\"----------------------------------------\")"
      ],
      "metadata": {
        "colab": {
          "base_uri": "https://localhost:8080/"
        },
        "id": "eFRp9Za22FnR",
        "outputId": "e1bda50a-03bd-4fe0-8fa0-071e4ffefb8a"
      },
      "execution_count": null,
      "outputs": [
        {
          "output_type": "stream",
          "name": "stdout",
          "text": [
            "lr 0.01 epochs 60 k 10\n",
            "mae 3.820819276239892\n",
            "rmse 16.436914185049062\n",
            "----------------------------------------\n",
            "lr 0.01 epochs 60 k 20\n",
            "mae 3.820819276239892\n",
            "rmse 16.436914185049062\n",
            "----------------------------------------\n",
            "lr 0.01 epochs 60 k 30\n",
            "mae 3.820819276239892\n",
            "rmse 16.436914185049062\n",
            "----------------------------------------\n",
            "lr 0.01 epochs 60 k 40\n",
            "mae 3.820819276239892\n",
            "rmse 16.436914185049062\n",
            "----------------------------------------\n",
            "lr 0.01 epochs 80 k 10\n",
            "mae 3.820819276239892\n",
            "rmse 16.436914185049062\n",
            "----------------------------------------\n",
            "lr 0.01 epochs 80 k 20\n",
            "mae 3.820819276239892\n",
            "rmse 16.436914185049062\n",
            "----------------------------------------\n",
            "lr 0.01 epochs 80 k 30\n",
            "mae 3.820819276239892\n",
            "rmse 16.436914185049062\n",
            "----------------------------------------\n",
            "lr 0.01 epochs 80 k 40\n",
            "mae 3.820819276239892\n",
            "rmse 16.436914185049062\n",
            "----------------------------------------\n",
            "lr 0.01 epochs 100 k 10\n",
            "mae 3.820819276239892\n",
            "rmse 16.436914185049062\n",
            "----------------------------------------\n",
            "lr 0.01 epochs 100 k 20\n",
            "mae 3.820819276239892\n",
            "rmse 16.436914185049062\n",
            "----------------------------------------\n",
            "lr 0.01 epochs 100 k 30\n",
            "mae 3.820819276239892\n",
            "rmse 16.436914185049062\n",
            "----------------------------------------\n",
            "lr 0.01 epochs 100 k 40\n",
            "mae 3.820819276239892\n",
            "rmse 16.436914185049062\n",
            "----------------------------------------\n",
            "lr 0.01 epochs 120 k 10\n",
            "mae 3.820819276239892\n",
            "rmse 16.436914185049062\n",
            "----------------------------------------\n",
            "lr 0.01 epochs 120 k 20\n",
            "mae 3.820819276239892\n",
            "rmse 16.436914185049062\n",
            "----------------------------------------\n",
            "lr 0.01 epochs 120 k 30\n",
            "mae 3.820819276239892\n",
            "rmse 16.436914185049062\n",
            "----------------------------------------\n",
            "lr 0.01 epochs 120 k 40\n",
            "mae 3.820819276239892\n",
            "rmse 16.436914185049062\n",
            "----------------------------------------\n",
            "lr 0.01 epochs 140 k 10\n",
            "mae 3.820819276239892\n",
            "rmse 16.436914185049062\n",
            "----------------------------------------\n",
            "lr 0.01 epochs 140 k 20\n",
            "mae 3.820819276239892\n",
            "rmse 16.436914185049062\n",
            "----------------------------------------\n",
            "lr 0.01 epochs 140 k 30\n",
            "mae 3.820819276239892\n",
            "rmse 16.436914185049062\n",
            "----------------------------------------\n",
            "lr 0.01 epochs 140 k 40\n",
            "mae 3.820819276239892\n",
            "rmse 16.436914185049062\n",
            "----------------------------------------\n",
            "lr 0.01 epochs 150 k 10\n",
            "mae 3.820819276239892\n",
            "rmse 16.436914185049062\n",
            "----------------------------------------\n",
            "lr 0.01 epochs 150 k 20\n",
            "mae 3.820819276239892\n",
            "rmse 16.436914185049062\n",
            "----------------------------------------\n",
            "lr 0.01 epochs 150 k 30\n",
            "mae 3.820819276239892\n",
            "rmse 16.436914185049062\n",
            "----------------------------------------\n",
            "lr 0.01 epochs 150 k 40\n",
            "mae 3.820819276239892\n",
            "rmse 16.436914185049062\n",
            "----------------------------------------\n",
            "lr 0.001 epochs 60 k 10\n",
            "mae 3.820819276239892\n",
            "rmse 16.436914185049062\n",
            "----------------------------------------\n",
            "lr 0.001 epochs 60 k 20\n",
            "mae 3.820819276239892\n",
            "rmse 16.436914185049062\n",
            "----------------------------------------\n",
            "lr 0.001 epochs 60 k 30\n",
            "mae 3.820819276239892\n",
            "rmse 16.436914185049062\n",
            "----------------------------------------\n",
            "lr 0.001 epochs 60 k 40\n",
            "mae 3.820819276239892\n",
            "rmse 16.436914185049062\n",
            "----------------------------------------\n",
            "lr 0.001 epochs 80 k 10\n",
            "mae 3.820819276239892\n",
            "rmse 16.436914185049062\n",
            "----------------------------------------\n",
            "lr 0.001 epochs 80 k 20\n",
            "mae 3.820819276239892\n",
            "rmse 16.436914185049062\n",
            "----------------------------------------\n",
            "lr 0.001 epochs 80 k 30\n",
            "mae 3.820819276239892\n",
            "rmse 16.436914185049062\n",
            "----------------------------------------\n",
            "lr 0.001 epochs 80 k 40\n",
            "mae 3.820819276239892\n",
            "rmse 16.436914185049062\n",
            "----------------------------------------\n",
            "lr 0.001 epochs 100 k 10\n",
            "mae 3.820819276239892\n",
            "rmse 16.436914185049062\n",
            "----------------------------------------\n",
            "lr 0.001 epochs 100 k 20\n",
            "mae 3.820819276239892\n",
            "rmse 16.436914185049062\n",
            "----------------------------------------\n",
            "lr 0.001 epochs 100 k 30\n",
            "mae 3.820819276239892\n",
            "rmse 16.436914185049062\n",
            "----------------------------------------\n",
            "lr 0.001 epochs 100 k 40\n",
            "mae 3.820819276239892\n",
            "rmse 16.436914185049062\n",
            "----------------------------------------\n",
            "lr 0.001 epochs 120 k 10\n",
            "mae 3.820819276239892\n",
            "rmse 16.436914185049062\n",
            "----------------------------------------\n",
            "lr 0.001 epochs 120 k 20\n",
            "mae 3.820819276239892\n",
            "rmse 16.436914185049062\n",
            "----------------------------------------\n",
            "lr 0.001 epochs 120 k 30\n",
            "mae 3.820819276239892\n",
            "rmse 16.436914185049062\n",
            "----------------------------------------\n",
            "lr 0.001 epochs 120 k 40\n",
            "mae 3.820819276239892\n",
            "rmse 16.436914185049062\n",
            "----------------------------------------\n",
            "lr 0.001 epochs 140 k 10\n",
            "mae 3.820819276239892\n",
            "rmse 16.436914185049062\n",
            "----------------------------------------\n",
            "lr 0.001 epochs 140 k 20\n",
            "mae 3.820819276239892\n",
            "rmse 16.436914185049062\n",
            "----------------------------------------\n",
            "lr 0.001 epochs 140 k 30\n",
            "mae 3.820819276239892\n",
            "rmse 16.436914185049062\n",
            "----------------------------------------\n",
            "lr 0.001 epochs 140 k 40\n",
            "mae 3.820819276239892\n",
            "rmse 16.436914185049062\n",
            "----------------------------------------\n",
            "lr 0.001 epochs 150 k 10\n",
            "mae 3.820819276239892\n",
            "rmse 16.436914185049062\n",
            "----------------------------------------\n",
            "lr 0.001 epochs 150 k 20\n",
            "mae 3.820819276239892\n",
            "rmse 16.436914185049062\n",
            "----------------------------------------\n",
            "lr 0.001 epochs 150 k 30\n",
            "mae 3.820819276239892\n",
            "rmse 16.436914185049062\n",
            "----------------------------------------\n",
            "lr 0.001 epochs 150 k 40\n",
            "mae 3.820819276239892\n",
            "rmse 16.436914185049062\n",
            "----------------------------------------\n",
            "lr 0.0001 epochs 60 k 10\n",
            "mae 3.820819276239892\n",
            "rmse 16.436914185049062\n",
            "----------------------------------------\n",
            "lr 0.0001 epochs 60 k 20\n",
            "mae 3.820819276239892\n",
            "rmse 16.436914185049062\n",
            "----------------------------------------\n",
            "lr 0.0001 epochs 60 k 30\n",
            "mae 3.820819276239892\n",
            "rmse 16.436914185049062\n",
            "----------------------------------------\n",
            "lr 0.0001 epochs 60 k 40\n",
            "mae 3.820819276239892\n",
            "rmse 16.436914185049062\n",
            "----------------------------------------\n",
            "lr 0.0001 epochs 80 k 10\n",
            "mae 3.820819276239892\n",
            "rmse 16.436914185049062\n",
            "----------------------------------------\n",
            "lr 0.0001 epochs 80 k 20\n",
            "mae 3.820819276239892\n",
            "rmse 16.436914185049062\n",
            "----------------------------------------\n",
            "lr 0.0001 epochs 80 k 30\n",
            "mae 3.820819276239892\n",
            "rmse 16.436914185049062\n",
            "----------------------------------------\n",
            "lr 0.0001 epochs 80 k 40\n",
            "mae 3.820819276239892\n",
            "rmse 16.436914185049062\n",
            "----------------------------------------\n",
            "lr 0.0001 epochs 100 k 10\n",
            "mae 3.820819276239892\n",
            "rmse 16.436914185049062\n",
            "----------------------------------------\n",
            "lr 0.0001 epochs 100 k 20\n",
            "mae 3.820819276239892\n",
            "rmse 16.436914185049062\n",
            "----------------------------------------\n",
            "lr 0.0001 epochs 100 k 30\n",
            "mae 3.820819276239892\n",
            "rmse 16.436914185049062\n",
            "----------------------------------------\n",
            "lr 0.0001 epochs 100 k 40\n",
            "mae 3.820819276239892\n",
            "rmse 16.436914185049062\n",
            "----------------------------------------\n",
            "lr 0.0001 epochs 120 k 10\n",
            "mae 3.820819276239892\n",
            "rmse 16.436914185049062\n",
            "----------------------------------------\n",
            "lr 0.0001 epochs 120 k 20\n",
            "mae 3.820819276239892\n",
            "rmse 16.436914185049062\n",
            "----------------------------------------\n",
            "lr 0.0001 epochs 120 k 30\n",
            "mae 3.820819276239892\n",
            "rmse 16.436914185049062\n",
            "----------------------------------------\n",
            "lr 0.0001 epochs 120 k 40\n",
            "mae 3.820819276239892\n",
            "rmse 16.436914185049062\n",
            "----------------------------------------\n",
            "lr 0.0001 epochs 140 k 10\n",
            "mae 3.820819276239892\n",
            "rmse 16.436914185049062\n",
            "----------------------------------------\n",
            "lr 0.0001 epochs 140 k 20\n",
            "mae 3.820819276239892\n",
            "rmse 16.436914185049062\n",
            "----------------------------------------\n",
            "lr 0.0001 epochs 140 k 30\n",
            "mae 3.820819276239892\n",
            "rmse 16.436914185049062\n",
            "----------------------------------------\n",
            "lr 0.0001 epochs 140 k 40\n",
            "mae 3.820819276239892\n",
            "rmse 16.436914185049062\n",
            "----------------------------------------\n",
            "lr 0.0001 epochs 150 k 10\n",
            "mae 3.820819276239892\n",
            "rmse 16.436914185049062\n",
            "----------------------------------------\n",
            "lr 0.0001 epochs 150 k 20\n",
            "mae 3.820819276239892\n",
            "rmse 16.436914185049062\n",
            "----------------------------------------\n",
            "lr 0.0001 epochs 150 k 30\n",
            "mae 3.820819276239892\n",
            "rmse 16.436914185049062\n",
            "----------------------------------------\n",
            "lr 0.0001 epochs 150 k 40\n",
            "mae 3.820819276239892\n",
            "rmse 16.436914185049062\n",
            "----------------------------------------\n"
          ]
        }
      ]
    },
    {
      "cell_type": "code",
      "source": [
        ""
      ],
      "metadata": {
        "id": "IPNBuYrz4CjL"
      },
      "execution_count": null,
      "outputs": []
    }
  ]
}