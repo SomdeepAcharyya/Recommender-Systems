{
  "nbformat": 4,
  "nbformat_minor": 0,
  "metadata": {
    "colab": {
      "provenance": [],
      "mount_file_id": "1p5WEQrZzJdo6p8kvrATWdqLf7vERLiRq",
      "authorship_tag": "ABX9TyNQO+ugXKdAXNfA7WykBrT7",
      "include_colab_link": true
    },
    "kernelspec": {
      "name": "python3",
      "display_name": "Python 3"
    },
    "language_info": {
      "name": "python"
    }
  },
  "cells": [
    {
      "cell_type": "markdown",
      "metadata": {
        "id": "view-in-github",
        "colab_type": "text"
      },
      "source": [
        "<a href=\"https://colab.research.google.com/github/SomdeepAcharyya/Recommender-Systems/blob/main/Model_bert.ipynb\" target=\"_parent\"><img src=\"https://colab.research.google.com/assets/colab-badge.svg\" alt=\"Open In Colab\"/></a>"
      ]
    },
    {
      "cell_type": "code",
      "execution_count": null,
      "metadata": {
        "id": "GSi-GoU33Rq3"
      },
      "outputs": [],
      "source": [
        "# source to be clustered with dbscan/kmeans\n",
        "# target instances to be merged with clusters from source\n",
        "# joint training and embedding on individual subsets\n",
        "# prediction on target sets"
      ]
    },
    {
      "cell_type": "code",
      "source": [
        "import numpy as np\n",
        "import scipy.sparse as sp\n",
        "import time\n",
        "import pandas as pd\n",
        "import warnings\n",
        "warnings.filterwarnings('ignore')\n",
        "from sklearn.metrics import mean_squared_error\n",
        "from sklearn.metrics import mean_absolute_error \n",
        "import scipy.spatial as spt\n",
        "import statistics\n",
        "import math\n",
        "from scipy import spatial\n",
        "from sklearn.feature_extraction.text import TfidfVectorizer, CountVectorizer"
      ],
      "metadata": {
        "id": "9srmKd4S4buV"
      },
      "execution_count": null,
      "outputs": []
    },
    {
      "cell_type": "markdown",
      "source": [
        "# data collection"
      ],
      "metadata": {
        "id": "gEDbXqqA5oSq"
      }
    },
    {
      "cell_type": "code",
      "source": [
        "# Tripadvisor review Dataset\n",
        "path = r'/content/drive/MyDrive/Per_CD_RS/tripadvisor_reviews_with_country.csv'\n",
        "with open(path, encoding=\"utf-8\", errors='ignore') as infile:\n",
        "  tr = pd.read_csv(infile)\n",
        "tr = tr.rename(columns={\"username\":\"userId\", \"taObject\":\"itemId\"})\n",
        "arr = tr[['open', 'cons', 'extra', 'agree', 'neuro', 'userId', 'itemId', 'rating']]"
      ],
      "metadata": {
        "id": "LW2g_Fhr4dSd"
      },
      "execution_count": null,
      "outputs": []
    },
    {
      "cell_type": "code",
      "source": [
        "# amazon review dataset movies json\n",
        "path = r'/content/drive/MyDrive/Per_CD_RS/Amazon_magazine_filtered.csv'\n",
        "with open(path, encoding=\"utf-8\", errors='ignore') as infile:\n",
        "  az = pd.read_csv(infile, nrows=10000)\n",
        "#am = am.rename(columns={\"reviewerID\":\"userId\", \"asin\":\"itemId\", \"overall\":\"rating\"})\n",
        "az.shape"
      ],
      "metadata": {
        "colab": {
          "base_uri": "https://localhost:8080/"
        },
        "id": "KDbLDtw74hAa",
        "outputId": "bd0b1d02-500e-4034-8f36-97a8124f84fe"
      },
      "execution_count": null,
      "outputs": [
        {
          "output_type": "execute_result",
          "data": {
            "text/plain": [
              "(10000, 6)"
            ]
          },
          "metadata": {},
          "execution_count": 4
        }
      ]
    },
    {
      "cell_type": "code",
      "source": [
        "arr = tr.processed_text\n",
        "source_texts = np.array(tr.processed_text)\n",
        "target_texts = np.array(az.processed_text)"
      ],
      "metadata": {
        "id": "5GC377yL5mxH"
      },
      "execution_count": null,
      "outputs": []
    },
    {
      "cell_type": "markdown",
      "source": [
        "# Clustering of text"
      ],
      "metadata": {
        "id": "TCpVdSl29tyt"
      }
    },
    {
      "cell_type": "code",
      "source": [
        "def cluster_text(X):\n",
        "    import matplotlib.pyplot as plt\n",
        "    from sklearn.cluster import KMeans\n",
        "    Sum_of_squared_distances = []\n",
        "    K = range(2,10)\n",
        "    for k in K:\n",
        "       km = KMeans(n_clusters=k, max_iter=200, n_init=10)\n",
        "       km = km.fit(X)\n",
        "       Sum_of_squared_distances.append(km.inertia_)\n",
        "    plt.plot(K, Sum_of_squared_distances, 'bx-')\n",
        "    plt.xlabel('k')\n",
        "    plt.ylabel('Sum_of_squared_distances')\n",
        "    plt.title('Elbow Method For Optimal k')\n",
        "    plt.show()\n",
        "\n",
        "    print('How many clusters do you want to use?')\n",
        "    true_k = int(input())\n",
        "    model = KMeans(n_clusters=true_k, init='k-means++', max_iter=200, n_init=10)\n",
        "    model.fit(X)\n",
        "\n",
        "    labels=model.labels_\n",
        "    clusters=pd.DataFrame(list(zip(X,labels)),columns=['title','cluster'])\n",
        "    #print(clusters.sort_values(by=['cluster']))\n",
        "\n",
        "    for i in range(true_k):\n",
        "        print(clusters[clusters['cluster'] == i])\n",
        "        \n",
        "    return clusters"
      ],
      "metadata": {
        "id": "DcntDUMx9wUp"
      },
      "execution_count": null,
      "outputs": []
    },
    {
      "cell_type": "code",
      "source": [
        "s = arr.fillna(\" \")\n",
        "t = az.processed_text.fillna(\" \")"
      ],
      "metadata": {
        "id": "1ISmS7kB-UXa"
      },
      "execution_count": null,
      "outputs": []
    },
    {
      "cell_type": "code",
      "source": [
        "True in np.array(s.isna())"
      ],
      "metadata": {
        "colab": {
          "base_uri": "https://localhost:8080/"
        },
        "id": "67CWDded_-0u",
        "outputId": "0adb5ddc-e632-41e4-ca4f-97c7cac18f26"
      },
      "execution_count": null,
      "outputs": [
        {
          "output_type": "execute_result",
          "data": {
            "text/plain": [
              "False"
            ]
          },
          "metadata": {},
          "execution_count": 8
        }
      ]
    },
    {
      "cell_type": "code",
      "source": [
        "True in np.array(t.isna())"
      ],
      "metadata": {
        "colab": {
          "base_uri": "https://localhost:8080/"
        },
        "id": "m2tKSGOPpxtJ",
        "outputId": "60c48033-1662-443f-c1a6-15616ef9d83b"
      },
      "execution_count": null,
      "outputs": [
        {
          "output_type": "execute_result",
          "data": {
            "text/plain": [
              "False"
            ]
          },
          "metadata": {},
          "execution_count": 9
        }
      ]
    },
    {
      "cell_type": "code",
      "source": [
        "vectorizer = CountVectorizer(max_features = 1000) \n",
        "vectorizer.fit(s) \n",
        "source_embeddings = vectorizer.transform(s)\n",
        "vectorizer.fit(t) \n",
        "target_embeddings = vectorizer.transform(t)"
      ],
      "metadata": {
        "id": "Q_mKhbSSBViT"
      },
      "execution_count": null,
      "outputs": []
    },
    {
      "cell_type": "code",
      "source": [
        "c = cluster_text(source_embeddings)"
      ],
      "metadata": {
        "id": "9gaGfcFXEIUf"
      },
      "execution_count": null,
      "outputs": []
    },
    {
      "cell_type": "code",
      "source": [
        "set_source = []\n",
        "true_k = len(c.cluster.value_counts())\n",
        "for k in range(0, true_k):\n",
        "  set_source.append(np.array(c[c['cluster'] == k].title))"
      ],
      "metadata": {
        "id": "R1e8udXkbLzu"
      },
      "execution_count": null,
      "outputs": []
    },
    {
      "cell_type": "code",
      "source": [
        "c.to_csv(r'/content/drive/MyDrive/Per_CD_RS/magzc.csv') "
      ],
      "metadata": {
        "id": "umQ5emYTry-a"
      },
      "execution_count": null,
      "outputs": []
    },
    {
      "cell_type": "code",
      "source": [
        "# sim v1\n",
        "li = []\n",
        "temp = 100\n",
        "li_total = []\n",
        "counter = 0\n",
        "for i in target_embeddings:\n",
        "  if counter % 200 == 0:\n",
        "    print(counter)\n",
        "  for j in range(len(set_source)):\n",
        "    sim = []\n",
        "    for k in set_source[j]:\n",
        "      val1 = math.exp(1 - spatial.distance.cosine(i.toarray(), k.toarray()) / temp)\n",
        "      sim.append(val1)\n",
        "    denom = sum(sim)  \n",
        "    for k in sim: \n",
        "      val2 = -1 * math.log(k) / denom\n",
        "      li.append(val2)\n",
        "    li_total.append(sum(li) / len(li))\n",
        "    li = []\n",
        "  counter = counter + 1"
      ],
      "metadata": {
        "id": "QKStSX9bWjwg",
        "colab": {
          "base_uri": "https://localhost:8080/"
        },
        "outputId": "09a7fa7e-39fc-4a28-c885-944e225f7a01"
      },
      "execution_count": null,
      "outputs": [
        {
          "output_type": "stream",
          "name": "stdout",
          "text": [
            "0\n"
          ]
        }
      ]
    },
    {
      "cell_type": "code",
      "source": [
        "# sim v2\n",
        "li = []\n",
        "denom = []\n",
        "temp = 100\n",
        "li_total = []\n",
        "for i in target_embeddings:\n",
        "  for j in range(len(set_source)):\n",
        "    sim = []\n",
        "    for k in set_source[j]:\n",
        "      val = math.exp(1 - spatial.distance.cosine(i.toarray(), k.toarray()) / temp)\n",
        "      sim.append(val)\n",
        "    denom.append(sum(sim))\n",
        "  for j in range(len(set_source)):\n",
        "    for k in set_source[j]:\n",
        "      val = -1 * math.log(math.exp(1 - spatial.distance.cosine(i.toarray(), k.toarray()) / temp) / denom[j])\n",
        "      li.append(val)\n",
        "    li_total.append(sum(li) / len(li))\n",
        "    li = []"
      ],
      "metadata": {
        "id": "OCsZxOXrTZdc"
      },
      "execution_count": null,
      "outputs": []
    },
    {
      "cell_type": "code",
      "source": [
        "# sim v3\n",
        "li = []\n",
        "li_total = []\n",
        "counter = 0\n",
        "for i in target_embeddings:\n",
        "  if counter % 200 == 0:\n",
        "    print(counter)\n",
        "  for j in range(len(set_source)):\n",
        "    sim = []\n",
        "    for k in set_source[j]:\n",
        "      val1 = 1 - spatial.distance.cosine(i.toarray(), k.toarray())\n",
        "      sim.append(val1)\n",
        "    denom = sum(sim)  \n",
        "    for k in sim: \n",
        "      val2 = -1 * math.log(k+1) / denom\n",
        "      li.append(val2)\n",
        "    li_total.append(sum(li) / len(li))\n",
        "    li = []\n",
        "  counter = counter + 1 "
      ],
      "metadata": {
        "id": "DJ8m8KTX-9aB",
        "colab": {
          "base_uri": "https://localhost:8080/"
        },
        "outputId": "eab2a7ac-1001-484f-c63a-6e3f248e0fb6"
      },
      "execution_count": null,
      "outputs": [
        {
          "output_type": "stream",
          "name": "stdout",
          "text": [
            "0\n",
            "200\n",
            "400\n",
            "600\n",
            "800\n",
            "1000\n",
            "1200\n",
            "1400\n",
            "1600\n",
            "1800\n",
            "2000\n",
            "2200\n",
            "2400\n",
            "2600\n",
            "2800\n",
            "3000\n",
            "3200\n",
            "3400\n",
            "3600\n",
            "3800\n",
            "4000\n",
            "4200\n",
            "4400\n",
            "4600\n",
            "4800\n",
            "5000\n",
            "5200\n",
            "5400\n",
            "5600\n",
            "5800\n",
            "6000\n",
            "6200\n",
            "6400\n",
            "6600\n",
            "6800\n",
            "7000\n"
          ]
        }
      ]
    },
    {
      "cell_type": "code",
      "source": [
        " li_all = np.reshape(li_total, (target_embeddings.shape[0], int(len(li_total)/target_embeddings.shape[0])))"
      ],
      "metadata": {
        "id": "l6sITi-Mw8Zo"
      },
      "execution_count": null,
      "outputs": []
    },
    {
      "cell_type": "code",
      "source": [
        "li_total"
      ],
      "metadata": {
        "id": "5Buy4NfezS3s"
      },
      "execution_count": null,
      "outputs": []
    },
    {
      "cell_type": "code",
      "source": [
        "index_of_cluster = []\n",
        "for i in li_all:\n",
        "  i = list(i) \n",
        "  index = i.index(min(i))\n",
        "  index_of_cluster.append(index)"
      ],
      "metadata": {
        "id": "3cVdRUDGdCgb"
      },
      "execution_count": null,
      "outputs": []
    },
    {
      "cell_type": "code",
      "source": [
        "source_clusters = c\n",
        "target_clusters = pd.DataFrame(list(zip(target_embeddings,index_of_cluster, az.rating, az.userId)),columns=['title','cluster', 'rating', 'userId'])"
      ],
      "metadata": {
        "id": "BEQAIOKlddjJ"
      },
      "execution_count": null,
      "outputs": []
    },
    {
      "cell_type": "code",
      "source": [
        "source_clusters['text'] = source_texts\n",
        "target_clusters['text'] = target_texts"
      ],
      "metadata": {
        "id": "GdCSJbe4drlh"
      },
      "execution_count": null,
      "outputs": []
    },
    {
      "cell_type": "code",
      "source": [
        "target_clusters.cluster.value_counts()"
      ],
      "metadata": {
        "id": "CxNEDN-rIeb3"
      },
      "execution_count": null,
      "outputs": []
    },
    {
      "cell_type": "code",
      "source": [
        "target_clusters.to_csv(r'/content/drive/MyDrive/Per_CD_RS/magz_clusters1.csv') "
      ],
      "metadata": {
        "id": "EhXBg3pHaET0"
      },
      "execution_count": null,
      "outputs": []
    },
    {
      "cell_type": "markdown",
      "source": [
        "# BERT"
      ],
      "metadata": {
        "id": "A_7gSCr9gso4"
      }
    },
    {
      "cell_type": "code",
      "source": [
        "!pip install simpletransformers\n",
        "from simpletransformers.classification import ClassificationModel, ClassificationArgs\n",
        "import logging"
      ],
      "metadata": {
        "id": "ov6UbjXaeuhC"
      },
      "execution_count": null,
      "outputs": []
    },
    {
      "cell_type": "code",
      "source": [
        "logging.basicConfig(level=logging.INFO)\n",
        "transformers_logger = logging.getLogger(\"transformers\")\n",
        "transformers_logger.setLevel(logging.WARNING)\n",
        "from transformers import logging\n",
        "logging.set_verbosity_error()"
      ],
      "metadata": {
        "id": "wvUjlOn-gxCO"
      },
      "execution_count": null,
      "outputs": []
    },
    {
      "cell_type": "code",
      "source": [
        "model_args = ClassificationArgs()\n",
        "model_args.num_train_epochs = 1\n",
        "model_args.regression = True\n",
        "model_args.overwrite_output_dir = True"
      ],
      "metadata": {
        "id": "2ndDdf_Rg68O"
      },
      "execution_count": null,
      "outputs": []
    },
    {
      "cell_type": "code",
      "source": [
        "pers_s = np.array(tr[['open', 'cons', 'extra', 'agree', 'neuro']])\n",
        "source_clusters['userId'] = np.array(tr['userId'])\n",
        "new_s = source_clusters.merge(tr[['userId', 'open', 'cons', 'extra', 'agree', 'neuro']])"
      ],
      "metadata": {
        "id": "ThWkEclng-Mr"
      },
      "execution_count": null,
      "outputs": []
    },
    {
      "cell_type": "code",
      "source": [
        "target_clusters.cluster.value_counts()"
      ],
      "metadata": {
        "colab": {
          "base_uri": "https://localhost:8080/",
          "height": 166
        },
        "id": "StRAoWUpkOI2",
        "outputId": "181b9d07-bafc-4cac-8e21-11d656a5febe"
      },
      "execution_count": null,
      "outputs": [
        {
          "output_type": "error",
          "ename": "NameError",
          "evalue": "ignored",
          "traceback": [
            "\u001b[0;31m---------------------------------------------------------------------------\u001b[0m",
            "\u001b[0;31mNameError\u001b[0m                                 Traceback (most recent call last)",
            "\u001b[0;32m<ipython-input-26-ae61c7f59dad>\u001b[0m in \u001b[0;36m<module>\u001b[0;34m\u001b[0m\n\u001b[0;32m----> 1\u001b[0;31m \u001b[0mtarget_clusters\u001b[0m\u001b[0;34m.\u001b[0m\u001b[0mcluster\u001b[0m\u001b[0;34m.\u001b[0m\u001b[0mvalue_counts\u001b[0m\u001b[0;34m(\u001b[0m\u001b[0;34m)\u001b[0m\u001b[0;34m\u001b[0m\u001b[0;34m\u001b[0m\u001b[0m\n\u001b[0m",
            "\u001b[0;31mNameError\u001b[0m: name 'target_clusters' is not defined"
          ]
        }
      ]
    },
    {
      "cell_type": "code",
      "source": [
        "target_output = pd.DataFrame()\n",
        "for i in range(0, true_k):\n",
        "  x = new_s[new_s['cluster']==i]\n",
        "  y = target_clusters[target_clusters['cluster']==i]\n",
        "  z = pd.concat([x,y])\n",
        "  lx = len(x)\n",
        "  ly = len(y)\n",
        "  s = ['cons']\n",
        "  z = z.fillna(0)\n",
        "  t = pd.DataFrame()\n",
        "  t['userId'] = z['userId'][lx:len(z)]\n",
        "  t['open'] = 0.0\n",
        "  t['cons'] = 0.0\n",
        "  t['extra'] = 0.0\n",
        "  t['agree'] = 0.0\n",
        "  t['neuro'] = 0.0\n",
        "  for j in range(len(s)):\n",
        "    try:\n",
        "      sample = z[['text', 'open', 'cons', 'extra', 'agree', 'neuro']]\n",
        "      a = sample[0:lx]\n",
        "      b = sample[lx:len(sample)]\n",
        "      if len(b) > 0:\n",
        "        model = ClassificationModel(\"roberta\", \"roberta-base\", num_labels=1, args=model_args, use_cuda=False)\n",
        "        print(\"1\")\n",
        "        model.train_model(a)\n",
        "        print(\"2\")\n",
        "        result, model_outputs, wrong_predictions = model.eval_model(b)\n",
        "        print(\"3\")\n",
        "        print(result, model_outputs, wrong_predictions)\n",
        "        print(\"4\")\n",
        "        t[s[j]] = model_outputs\n",
        "      else:\n",
        "        print(i, j, \"b empty\")\n",
        "    except:\n",
        "          print(\"error\")\n",
        "  target_output = pd.concat([target_output, t])"
      ],
      "metadata": {
        "id": "6THvPvaPhBVw"
      },
      "execution_count": null,
      "outputs": []
    },
    {
      "cell_type": "code",
      "source": [
        "target_output.to_csv(r'/content/drive/MyDrive/Per_CD_RS/magztest.csv') "
      ],
      "metadata": {
        "id": "J8c2bG01hWzT"
      },
      "execution_count": null,
      "outputs": []
    },
    {
      "cell_type": "code",
      "source": [],
      "metadata": {
        "id": "S9v9je-9Jwzr"
      },
      "execution_count": null,
      "outputs": []
    }
  ]
}