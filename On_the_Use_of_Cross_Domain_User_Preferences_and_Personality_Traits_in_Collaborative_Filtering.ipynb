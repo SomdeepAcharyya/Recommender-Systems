{
  "nbformat": 4,
  "nbformat_minor": 0,
  "metadata": {
    "colab": {
      "name": "On the Use of Cross-Domain User Preferences and Personality Traits in Collaborative Filtering.ipynb",
      "provenance": [],
      "collapsed_sections": [
        "2LN5xzvvaqat",
        "NptrrRS5-Dna",
        "xCYF1JoYYp37"
      ],
      "mount_file_id": "1vUunFwqgLkofgqlENnvMhFUTvh73D5p2",
      "authorship_tag": "ABX9TyP/2aBYe9Cm5Dpb2CHtk5In",
      "include_colab_link": true
    },
    "kernelspec": {
      "name": "python3",
      "display_name": "Python 3"
    },
    "language_info": {
      "name": "python"
    }
  },
  "cells": [
    {
      "cell_type": "markdown",
      "metadata": {
        "id": "view-in-github",
        "colab_type": "text"
      },
      "source": [
        "<a href=\"https://colab.research.google.com/github/SomdeepAcharyya/Recommender-Systems/blob/main/On_the_Use_of_Cross_Domain_User_Preferences_and_Personality_Traits_in_Collaborative_Filtering.ipynb\" target=\"_parent\"><img src=\"https://colab.research.google.com/assets/colab-badge.svg\" alt=\"Open In Colab\"/></a>"
      ]
    },
    {
      "cell_type": "code",
      "source": [
        "# On the Use of Cross-Domain User Preferences and Personality Traits in Collaborative Filtering\n",
        "# Ignacio Fernández-Tobías and Iván Cantador"
      ],
      "metadata": {
        "id": "pJ8uOXXenhKp"
      },
      "execution_count": null,
      "outputs": []
    },
    {
      "cell_type": "code",
      "execution_count": null,
      "metadata": {
        "id": "62UNIB_4iJ1x"
      },
      "outputs": [],
      "source": [
        "import pandas as pd\n",
        "import scipy, cmake\n",
        "import numpy as np\n",
        "import warnings\n",
        "from sklearn import svm\n",
        "warnings.filterwarnings('ignore')"
      ]
    },
    {
      "cell_type": "code",
      "source": [
        "# Tripadvisor review Dataset\n",
        "path = r'/content/drive/MyDrive/Per_CD_RS/tripadvisor_reviews_with_country.csv'\n",
        "with open(path, encoding=\"utf-8\", errors='ignore') as infile:\n",
        "  tr = pd.read_csv(infile)\n",
        "tr = tr.rename(columns={\"username\":\"userId\", \"taObject\":\"itemId\"})"
      ],
      "metadata": {
        "id": "X1-z4z9Sqaze"
      },
      "execution_count": null,
      "outputs": []
    },
    {
      "cell_type": "code",
      "source": [
        "# amazon review dataset magazines csv\n",
        "path = r'/content/drive/MyDrive/Per_CD_RS/movies_pers_num.csv'\n",
        "with open(path, encoding=\"utf-8\", errors='ignore') as infile:\n",
        "  df = pd.read_csv(infile)\n",
        "arr = df[['0', '1', '2', '3', '4']]\n",
        "arr.columns = ['open', 'cons', 'extra', 'agree', 'neuro']"
      ],
      "metadata": {
        "id": "LmD-zbAsjkWm"
      },
      "execution_count": null,
      "outputs": []
    },
    {
      "cell_type": "code",
      "source": [
        "# amazon review dataset musics json\n",
        "path = r'/content/drive/MyDrive/Per_CD_RS/Amazon_Text_Movies_and_TV.json'\n",
        "with open(path, encoding=\"utf-8\", errors='ignore') as infile:\n",
        "  az = pd.read_json(infile, lines=True, nrows=2400)\n",
        "az = az.rename(columns={\"reviewerID\":\"userId\", \"asin\":\"itemId\", \"overall\":\"rating\"})"
      ],
      "metadata": {
        "id": "IKO-975Jj9s5"
      },
      "execution_count": null,
      "outputs": []
    },
    {
      "cell_type": "code",
      "source": [
        "# amazon review dataset magazines csv\n",
        "path = r'/content/drive/MyDrive/Per_CD_RS/Amazon_Text_Magazine_Subscriptions.csv'\n",
        "with open(path, encoding=\"utf-8\", errors='ignore') as infile:\n",
        "  az = pd.read_csv(infile, nrows=1000)\n",
        "az = az.rename(columns={\"reviewerID\":\"userId\", \"asin\":\"itemId\", \"overall\":\"rating\"})"
      ],
      "metadata": {
        "id": "SBIvokc8kEwL"
      },
      "execution_count": null,
      "outputs": []
    },
    {
      "cell_type": "code",
      "source": [
        "arr.shape\n",
        "arr = arr[0:2400]"
      ],
      "metadata": {
        "id": "LfKfXLdxoPGI"
      },
      "execution_count": null,
      "outputs": []
    },
    {
      "cell_type": "code",
      "source": [
        "src = az\n",
        "src_pers = arr2\n",
        "tgt = am\n",
        "tgt_pers = arr1"
      ],
      "metadata": {
        "id": "ot_Pu36AlStz"
      },
      "execution_count": null,
      "outputs": []
    },
    {
      "cell_type": "code",
      "source": [
        "src = az[['userId', 'itemId', 'rating']]"
      ],
      "metadata": {
        "id": "Vtm_FSON0O2v"
      },
      "execution_count": null,
      "outputs": []
    },
    {
      "cell_type": "code",
      "source": [
        "arr['userId'] = az['userId']\n",
        "arr['itemId'] = np.array(az['itemId'])\n",
        "arr['rating'] = az['rating']"
      ],
      "metadata": {
        "id": "XCqSvo86oEn5"
      },
      "execution_count": null,
      "outputs": []
    },
    {
      "cell_type": "markdown",
      "source": [
        "# Hu&Pu"
      ],
      "metadata": {
        "id": "EBRDoK2uOaA7"
      }
    },
    {
      "cell_type": "code",
      "source": [
        "# params = alpha, neighbors"
      ],
      "metadata": {
        "id": "G97e0TX4rZII"
      },
      "execution_count": null,
      "outputs": []
    },
    {
      "cell_type": "code",
      "source": [
        "# rating matrix wrt user u\n",
        "ru = arr.pivot_table(index='userId',columns='itemId',values='rating')\n",
        "ru = ru.fillna(0)\n",
        "ru_m = ru > 0\n",
        "ru_m = ru_m.replace(True, 1)\n",
        "ru_m = ru_m.replace(False, 0)\n",
        "ru = np.array(ru)\n",
        "ru_m = np.array(ru_m)"
      ],
      "metadata": {
        "id": "m2RDKSGZIuYQ"
      },
      "execution_count": null,
      "outputs": []
    },
    {
      "cell_type": "code",
      "source": [
        "ru.shape"
      ],
      "metadata": {
        "colab": {
          "base_uri": "https://localhost:8080/"
        },
        "id": "7zOMX7I-ocM3",
        "outputId": "5e816757-f558-4b95-fce8-91b80e149f00"
      },
      "execution_count": null,
      "outputs": [
        {
          "output_type": "execute_result",
          "data": {
            "text/plain": [
              "(2386, 22)"
            ]
          },
          "metadata": {},
          "execution_count": 9
        }
      ]
    },
    {
      "cell_type": "code",
      "source": [
        "items = []    # U\n",
        "for i in range(len(ru_m)):\n",
        "  row = []\n",
        "  for j in range(len(ru_m[i])):\n",
        "    if ru_m[i][j] == 1:\n",
        "      row.append(j)\n",
        "  items.append(row)\n",
        "ru_b = np.sum(ru, axis=1) / len(items)"
      ],
      "metadata": {
        "id": "z-aZw30AJgxI"
      },
      "execution_count": null,
      "outputs": []
    },
    {
      "cell_type": "code",
      "source": [
        "src = arr"
      ],
      "metadata": {
        "id": "AIvuVRVBoyH6"
      },
      "execution_count": null,
      "outputs": []
    },
    {
      "cell_type": "code",
      "source": [
        "arr = arr.groupby(by='userId').mean().reset_index()\n",
        "arr = arr[[\"open\", 'cons', 'extra', 'agree', 'neuro']]"
      ],
      "metadata": {
        "id": "UZffSDUL5KfW"
      },
      "execution_count": null,
      "outputs": []
    },
    {
      "cell_type": "code",
      "source": [
        "arr.shape"
      ],
      "metadata": {
        "id": "GRFSXnL1Iiov",
        "colab": {
          "base_uri": "https://localhost:8080/"
        },
        "outputId": "c10296b0-10f9-4931-db9c-4c87f56f989e"
      },
      "execution_count": null,
      "outputs": [
        {
          "output_type": "execute_result",
          "data": {
            "text/plain": [
              "(2386, 5)"
            ]
          },
          "metadata": {},
          "execution_count": 13
        }
      ]
    },
    {
      "cell_type": "code",
      "source": [
        "p_b = np.sum(arr, axis=1) / len(arr)"
      ],
      "metadata": {
        "id": "hsVzTktl5Tco"
      },
      "execution_count": null,
      "outputs": []
    },
    {
      "cell_type": "code",
      "source": [
        "ru_b = ru_b.reshape([len(ru_b), 1])\n",
        "ru_s = ru-ru_b\n",
        "ru_ss = np.sum(ru-ru_b, axis=1)\n",
        "ru_sy = np.square(ru_s)\n",
        "ru_sy = np.sum(ru_sy, axis=1)"
      ],
      "metadata": {
        "id": "tt_AjQ-O2nOl"
      },
      "execution_count": null,
      "outputs": []
    },
    {
      "cell_type": "code",
      "source": [
        "ru_ss.shape"
      ],
      "metadata": {
        "id": "P7wktceaUZTS",
        "colab": {
          "base_uri": "https://localhost:8080/"
        },
        "outputId": "7217baeb-55d5-4026-cfef-308aa897ca23"
      },
      "execution_count": null,
      "outputs": [
        {
          "output_type": "execute_result",
          "data": {
            "text/plain": [
              "(2386,)"
            ]
          },
          "metadata": {},
          "execution_count": 16
        }
      ]
    },
    {
      "cell_type": "code",
      "source": [
        "simr = []\n",
        "simp = []\n",
        "for u in range(len(ru)):\n",
        "  row1=[]\n",
        "  for v in range(len(ru)):\n",
        "    x = np.multiply(ru_ss[u], ru_ss[v])\n",
        "    y = np.multiply(ru_sy[u], ru_sy[v])\n",
        "    row1.append(x/y)\n",
        "  simr.append(row1)"
      ],
      "metadata": {
        "id": "E22bz4L7yowe"
      },
      "execution_count": null,
      "outputs": []
    },
    {
      "cell_type": "code",
      "source": [
        "p_b = np.array(p_b).reshape([len(p_b), 1])"
      ],
      "metadata": {
        "id": "BQLnjSkGQMVa"
      },
      "execution_count": null,
      "outputs": []
    },
    {
      "cell_type": "code",
      "source": [
        "arr = np.array(arr)"
      ],
      "metadata": {
        "id": "Grb-ObM8QftR"
      },
      "execution_count": null,
      "outputs": []
    },
    {
      "cell_type": "code",
      "source": [
        "simp = []\n",
        "for u in range(len(arr)):\n",
        "  row = []\n",
        "  for v in range(len(arr)):\n",
        "      x = np.multiply((arr[u] - p_b[u]), (arr[v] - p_b[v]))\n",
        "      y = np.multiply(np.sum(np.square(arr[u] - p_b[u])), (np.square(arr[v] - p_b[v])))\n",
        "      row.append(np.sum(x/y))\n",
        "  simp.append(row)"
      ],
      "metadata": {
        "id": "a-Ywg5OW5Evg"
      },
      "execution_count": null,
      "outputs": []
    },
    {
      "cell_type": "code",
      "source": [
        "simp = np.array(simp)\n",
        "simr = np.array(simr)"
      ],
      "metadata": {
        "id": "49JF5mttJiXX"
      },
      "execution_count": null,
      "outputs": []
    },
    {
      "cell_type": "code",
      "source": [
        "arr.shape"
      ],
      "metadata": {
        "colab": {
          "base_uri": "https://localhost:8080/"
        },
        "id": "3RQb2MCPTRkl",
        "outputId": "7e3948dc-07ed-48b5-c299-101a779e621d"
      },
      "execution_count": null,
      "outputs": [
        {
          "output_type": "execute_result",
          "data": {
            "text/plain": [
              "(2386, 5)"
            ]
          },
          "metadata": {},
          "execution_count": 22
        }
      ]
    },
    {
      "cell_type": "code",
      "source": [
        "alpha = 0.6\n",
        "\n",
        "sim_uv = alpha * simp + (1-alpha) * simr"
      ],
      "metadata": {
        "id": "IIyOwK6W6U4d"
      },
      "execution_count": null,
      "outputs": []
    },
    {
      "cell_type": "code",
      "source": [
        "from sklearn.neighbors import NearestNeighbors\n",
        "knn = NearestNeighbors(n_neighbors=30, algorithm='ball_tree').fit(arr)"
      ],
      "metadata": {
        "id": "RWkBybxNRGRj"
      },
      "execution_count": null,
      "outputs": []
    },
    {
      "cell_type": "code",
      "source": [
        "distances, indices = knn.kneighbors(arr)"
      ],
      "metadata": {
        "id": "d0X2xPqXVPXB"
      },
      "execution_count": null,
      "outputs": []
    },
    {
      "cell_type": "code",
      "source": [
        "rating_pred = []\n",
        "for u in range(len(ru_m)):\n",
        "  row = []\n",
        "  for i in range(len(ru_m[u])):\n",
        "    sum = 0\n",
        "    all_n = indices[u]\n",
        "    users_taking_i = ru_m[:, i]   # Nu\n",
        "    for v in range(len(users_taking_i)):\n",
        "        sum = sum + np.sum(sim_uv[u][v] * users_taking_i)\n",
        "        if sum > 5:\n",
        "          sum = 5 \n",
        "    row.append(sum)\n",
        "  rating_pred.append(row)"
      ],
      "metadata": {
        "id": "2VDlHwf7Qyes"
      },
      "execution_count": null,
      "outputs": []
    },
    {
      "cell_type": "code",
      "source": [
        "rating_pred = np.array(rating_pred)"
      ],
      "metadata": {
        "id": "IImrCgxoKShd"
      },
      "execution_count": null,
      "outputs": []
    },
    {
      "cell_type": "code",
      "source": [
        "from sklearn.metrics import mean_absolute_error\n",
        "mae = mean_absolute_error(ru, rating_pred)\n",
        "from sklearn.metrics import mean_squared_error\n",
        "rmse = mean_squared_error(ru, rating_pred)\n",
        "print(mae, rmse)"
      ],
      "metadata": {
        "colab": {
          "base_uri": "https://localhost:8080/"
        },
        "id": "uXBkx5f_VXpP",
        "outputId": "c6412a43-1c6d-4105-f234-1187e9f0c18c"
      },
      "execution_count": null,
      "outputs": [
        {
          "output_type": "stream",
          "name": "stdout",
          "text": [
            "4.79055856130458 23.90524270365008\n"
          ]
        }
      ]
    },
    {
      "cell_type": "code",
      "source": [
        "#tuning"
      ],
      "metadata": {
        "id": "mlaMXJqcsb88"
      },
      "execution_count": null,
      "outputs": []
    },
    {
      "cell_type": "code",
      "source": [
        "from sklearn.neighbors import NearestNeighbors\n",
        "from sklearn.metrics import mean_absolute_error\n",
        "from sklearn.metrics import mean_squared_error"
      ],
      "metadata": {
        "id": "XFh0IqWYsegS"
      },
      "execution_count": null,
      "outputs": []
    },
    {
      "cell_type": "code",
      "source": [
        "alpha_arr = [0.3, 0.4, 0.5, 0.7, 0.8, 0.9]\n",
        "nn = [5,10,15,20,50]"
      ],
      "metadata": {
        "id": "eH-9bHSlsd_7"
      },
      "execution_count": null,
      "outputs": []
    },
    {
      "cell_type": "code",
      "source": [
        "ru.shape"
      ],
      "metadata": {
        "colab": {
          "base_uri": "https://localhost:8080/"
        },
        "id": "qhiaKv_RyPIc",
        "outputId": "8b114ac1-4e48-4c8e-f108-9e6e683740a5"
      },
      "execution_count": null,
      "outputs": [
        {
          "output_type": "execute_result",
          "data": {
            "text/plain": [
              "(284, 8933)"
            ]
          },
          "metadata": {},
          "execution_count": 27
        }
      ]
    },
    {
      "cell_type": "code",
      "source": [
        "for a in alpha_arr:\n",
        "  for k in nn:\n",
        "    alpha = a\n",
        "    sim_uv = alpha * simp + (1-alpha) * simr\n",
        "    knn = NearestNeighbors(n_neighbors=k, algorithm='ball_tree').fit(arr)\n",
        "    distances, indices = knn.kneighbors(arr)\n",
        "    rating_pred = []\n",
        "    for u in range(len(ru_m)):\n",
        "      row = []\n",
        "      for i in range(len(ru_m[u])):\n",
        "        sum = 0\n",
        "        all_n = indices[u]\n",
        "        users_taking_i = ru_m[:, i]   # Nu\n",
        "        for v in range(len(users_taking_i)):\n",
        "            sum = sum + np.sum(sim_uv[u][v] * users_taking_i)\n",
        "            if sum > 5:\n",
        "              sum = 5 \n",
        "        row.append(sum)\n",
        "      rating_pred.append(row)\n",
        "    rating_pred = np.array(rating_pred)\n",
        "    mae = mean_absolute_error(ru, rating_pred)\n",
        "    rmse = mean_squared_error(ru, rating_pred)\n",
        "    print(\"alpha\", a, \"neighbours\", k)\n",
        "    print(\"mae\", mae)\n",
        "    print(\"rmse\", rmse)\n",
        "    print('----------------------------------------')"
      ],
      "metadata": {
        "id": "qfFdxV4etBTr"
      },
      "execution_count": null,
      "outputs": []
    },
    {
      "cell_type": "markdown",
      "source": [
        "# tobias"
      ],
      "metadata": {
        "id": "2LN5xzvvaqat"
      }
    },
    {
      "cell_type": "code",
      "source": [
        "src = src.reset_index()\n",
        "tgt = tgt.reset_index()"
      ],
      "metadata": {
        "id": "qzX72BjoOHyY"
      },
      "execution_count": null,
      "outputs": []
    },
    {
      "cell_type": "code",
      "source": [
        "src2 = src.groupby(by='userId').mean().reset_index()\n",
        "tgt2 = tgt.groupby(by='userId').mean().reset_index()"
      ],
      "metadata": {
        "id": "xdjijTxrrAkP"
      },
      "execution_count": null,
      "outputs": []
    },
    {
      "cell_type": "code",
      "source": [
        "common_src = []       # NU\n",
        "common_tgt = []\n",
        "common_src_i = []     # NU\n",
        "common_tgt_i = []\n",
        "common_users = set([value for value in np.array(src['userId']) if value in np.array(tgt['userId'])])\n",
        "\n",
        "for i in common_users:\n",
        "    for j in range(len(src)):\n",
        "      row = []\n",
        "      if i == src['userId'][j]:\n",
        "        common_src_i.append(src['userId'][j])\n",
        "        row.append(src['index'][j])\n",
        "        row.append(src['userId'][j])\n",
        "        row.append(src['itemId'][j])\n",
        "        row.append(src['rating'][j])\n",
        "        common_src.append(row)\n",
        "    for j in range(len(tgt)):\n",
        "      row = []\n",
        "      if i == tgt['userId'][j]:\n",
        "        common_tgt_i.append(tgt['userId'][j])\n",
        "        row.append(tgt['index'][j])\n",
        "        row.append(tgt['userId'][j])\n",
        "        row.append(tgt['itemId'][j])\n",
        "        row.append(tgt['rating'][j])\n",
        "        common_tgt.append(row)"
      ],
      "metadata": {
        "id": "x_dbyPNeaj-R"
      },
      "execution_count": null,
      "outputs": []
    },
    {
      "cell_type": "code",
      "source": [
        "common_tgt"
      ],
      "metadata": {
        "id": "OXjKtxNGOoot"
      },
      "execution_count": null,
      "outputs": []
    },
    {
      "cell_type": "code",
      "source": [
        "common_src_i = set(common_src_i)   # U\n",
        "common_tgt_i = set(common_tgt_i)   # U"
      ],
      "metadata": {
        "id": "vN8FuuAvnggP"
      },
      "execution_count": null,
      "outputs": []
    },
    {
      "cell_type": "code",
      "source": [
        "src_df_r = pd.DataFrame(common_src, columns = ['index', 'userId','itemId','rating'])   #NU\n",
        "src_df_r\n",
        "tgt_df_r = pd.DataFrame(common_tgt, columns = ['index', 'userId','itemId','rating'])   #NU\n",
        "tgt_df_r"
      ],
      "metadata": {
        "id": "E5jglqebU94s"
      },
      "execution_count": null,
      "outputs": []
    },
    {
      "cell_type": "code",
      "source": [
        "# rating matrix wrt user u\n",
        "ru_src = src_df_r.pivot_table(index='userId',columns='itemId',values='rating')    # U\n",
        "ru_src = ru_src.fillna(0)\n",
        "ru_m_src = ru_src > 0\n",
        "ru_m_src = ru_m_src.replace(True, 1)\n",
        "ru_m_src = ru_m_src.replace(False, 0)\n",
        "ru_src = np.array(ru_src)\n",
        "ru_m_src = np.array(ru_m_src)   # U\n",
        "\n",
        "\n",
        "# rating matrix wrt user u\n",
        "ru_tgt = tgt_df_r.pivot_table(index='userId',columns='itemId',values='rating')    # U\n",
        "ru_tgt = ru_tgt.fillna(0)\n",
        "ru_m_tgt = ru_tgt > 0\n",
        "ru_m_tgt = ru_m_tgt.replace(True, 1)\n",
        "ru_m_tgt = ru_m_tgt.replace(False, 0)\n",
        "ru_tgt = np.array(ru_tgt)\n",
        "ru_m_tgt = np.array(ru_m_tgt)   # U"
      ],
      "metadata": {
        "id": "pz_I70ntancE"
      },
      "execution_count": null,
      "outputs": []
    },
    {
      "cell_type": "code",
      "source": [
        "len(ru_tgt)"
      ],
      "metadata": {
        "id": "EWBxYIQNJyEJ",
        "colab": {
          "base_uri": "https://localhost:8080/"
        },
        "outputId": "a45258ec-d1b1-4c90-d111-eb4effde5697"
      },
      "execution_count": null,
      "outputs": [
        {
          "output_type": "execute_result",
          "data": {
            "text/plain": [
              "49"
            ]
          },
          "metadata": {},
          "execution_count": 122
        }
      ]
    },
    {
      "cell_type": "code",
      "source": [
        "items_src = []    # U\n",
        "for i in range(len(ru_m_src)):\n",
        "  row = []\n",
        "  for j in range(len(ru_m_src[i])):\n",
        "    if ru_m_src[i][j] == 1:\n",
        "      row.append(j)\n",
        "  items_src.append(row)\n",
        "\n",
        "items_tgt = []   # U\n",
        "for i in range(len(ru_m_tgt)):\n",
        "  row = []\n",
        "  for j in range(len(ru_m_tgt[i])):\n",
        "    if ru_m_tgt[i][j] == 1:\n",
        "      row.append(j)\n",
        "  items_tgt.append(row)"
      ],
      "metadata": {
        "id": "QKVpJPc5dSWN"
      },
      "execution_count": null,
      "outputs": []
    },
    {
      "cell_type": "code",
      "source": [
        "len(src_df_r)"
      ],
      "metadata": {
        "colab": {
          "base_uri": "https://localhost:8080/"
        },
        "id": "FfR5RDdZJKcP",
        "outputId": "6f05113c-51a1-4504-c0c3-239be33b808c"
      },
      "execution_count": null,
      "outputs": [
        {
          "output_type": "execute_result",
          "data": {
            "text/plain": [
              "63"
            ]
          },
          "metadata": {},
          "execution_count": 55
        }
      ]
    },
    {
      "cell_type": "code",
      "source": [
        "def intersect(X, Y):\n",
        "  Z = [value for value in X if value in Y]\n",
        "  return len(Z)\n",
        "\n",
        "def union(X, Y):\n",
        "    Z = X + Y\n",
        "    return len(set(Z))"
      ],
      "metadata": {
        "id": "ZUBz8l2xczLr"
      },
      "execution_count": null,
      "outputs": []
    },
    {
      "cell_type": "code",
      "source": [
        "  df = pd.DataFrame(src_pers[0])  # NU\n",
        "  df.columns = ['open', 'cons', 'extra', 'agree', 'neuro']\n",
        "  df['userId'] = src.userId\n",
        "  df2 = df.groupby(by='userId').mean().reset_index()\n",
        "  df2 = df2[['userId', \"open\", 'cons', 'extra', 'agree', 'neuro']] "
      ],
      "metadata": {
        "id": "q0cWuRGyRr00"
      },
      "execution_count": null,
      "outputs": []
    },
    {
      "cell_type": "code",
      "source": [
        "df"
      ],
      "metadata": {
        "id": "z0pSVHMGRtk_"
      },
      "execution_count": null,
      "outputs": []
    },
    {
      "cell_type": "code",
      "source": [
        "  from sklearn.metrics import pairwise_distances \n",
        "  lambda_s = 0.67 \n",
        "\n",
        "  arr = []\n",
        "  src_arr = []\n",
        "  for j in range(len(src_df_r)):   ##  NU\n",
        "    x = src_df_r['userId'][j]  \n",
        "    y = df[df['userId']==x]\n",
        "    arr.append(np.array(y)[0][0])\n",
        "    arr.append(np.array(y)[0][1])\n",
        "    arr.append(np.array(y)[0][2])\n",
        "    arr.append(np.array(y)[0][3])\n",
        "    arr.append(np.array(y)[0][4])\n",
        "    arr.append(np.array(y)[0][5])\n",
        "    src_arr.append(arr)    ### NU\n",
        "    arr = []\n",
        "  df_t = pd.DataFrame(src_arr)\n",
        "  src_arr = np.array(df_t.drop_duplicates())    ### U\n",
        "\n",
        "  df_t = tgt_df_r.pivot_table(index='userId',columns='itemId',values='rating').reset_index()\n",
        "  df_t = df_t.fillna(0)\n",
        "  simr_s = []\n",
        "  for u in range(len(ru_src)):   # U\n",
        "    row = []\n",
        "    for v in range(len(ru_src)):    #  U\n",
        "      isu = items_src[u]\n",
        "      isv = items_src[v]\n",
        "      su_n = src_arr[u][5]\n",
        "      sv_n = src_arr[v][5]\n",
        "      if su_n in common_users and sv_n in common_users:  # U\n",
        "        tu_n = np.array(df_t[df_t['userId']==su_n].reset_index())[0][0]   ### U\n",
        "        tv_n = np.array(df_t[df_t['userId']==sv_n].reset_index())[0][0]   ### U\n",
        "        itu = items_tgt[tu_n]   # U\n",
        "        itv = items_tgt[tv_n]\n",
        "        sp = (intersect(isu, isv) + intersect(itu, itv)) / (union(isu, isv) + union(itu, itv))\n",
        "        row.append(sp)\n",
        "    simr_s.append(row)\n",
        "  simr_s = np.array(simr_s) \n",
        "\n",
        "  src_arr = np.delete(src_arr, 5, 1)\n",
        "  simp_s = 1 - pairwise_distances(src_arr, metric = \"hamming\") \n",
        "\n",
        "  suv_s = lambda_s * simr_s + (1-lambda_s) * simp_s"
      ],
      "metadata": {
        "id": "FF5LMZWa9YVj"
      },
      "execution_count": null,
      "outputs": []
    },
    {
      "cell_type": "code",
      "source": [
        "for u in range(len(ru_tgt)):\n",
        "  for i in range(len(ru_tgt[u])):\n",
        "    "
      ],
      "metadata": {
        "colab": {
          "base_uri": "https://localhost:8080/"
        },
        "id": "KAwKxUvBhp-g",
        "outputId": "4eef1aee-90ca-4a7b-a2b2-adfb0e814810"
      },
      "execution_count": null,
      "outputs": [
        {
          "output_type": "execute_result",
          "data": {
            "text/plain": [
              "(49, 49)"
            ]
          },
          "metadata": {},
          "execution_count": 117
        }
      ]
    },
    {
      "cell_type": "code",
      "source": [
        ""
      ],
      "metadata": {
        "colab": {
          "base_uri": "https://localhost:8080/",
          "height": 36
        },
        "id": "tT-nqSR5iHbZ",
        "outputId": "fe57071a-f7a3-4a55-bb36-97805969f8d2"
      },
      "execution_count": null,
      "outputs": [
        {
          "output_type": "execute_result",
          "data": {
            "text/plain": [
              "'A11XKY4EIU2KNR'"
            ],
            "application/vnd.google.colaboratory.intrinsic+json": {
              "type": "string"
            }
          },
          "metadata": {},
          "execution_count": 101
        }
      ]
    },
    {
      "cell_type": "code",
      "source": [
        "len(items_tgt)"
      ],
      "metadata": {
        "colab": {
          "base_uri": "https://localhost:8080/"
        },
        "id": "5jwGEtRrjzTX",
        "outputId": "14c0063d-850f-4dc4-86ff-266085096f33"
      },
      "execution_count": null,
      "outputs": [
        {
          "output_type": "execute_result",
          "data": {
            "text/plain": [
              "49"
            ]
          },
          "metadata": {},
          "execution_count": 51
        }
      ]
    },
    {
      "cell_type": "code",
      "source": [
        ""
      ],
      "metadata": {
        "id": "feeGunb8j5Gq"
      },
      "execution_count": null,
      "outputs": []
    },
    {
      "cell_type": "markdown",
      "source": [
        "# tobias 2"
      ],
      "metadata": {
        "id": "NptrrRS5-Dna"
      }
    },
    {
      "cell_type": "code",
      "source": [
        "df = pd.DataFrame(tgt_pers[0])  # NU\n",
        "df.columns = ['open', 'cons', 'extra', 'agree', 'neuro']\n",
        "df['userId'] = tgt.userId\n",
        "df2 = df.groupby(by='userId').mean().reset_index()\n",
        "df2 = df2[[\"open\", 'cons', 'extra', 'agree', 'neuro']] \n",
        "tgt_p_arr = np.array(df2)"
      ],
      "metadata": {
        "id": "k55E8SOKFH0M"
      },
      "execution_count": null,
      "outputs": []
    },
    {
      "cell_type": "code",
      "source": [
        "common_src = []       # NU\n",
        "common_tgt = []\n",
        "common_src_i = []     # NU\n",
        "common_tgt_i = []\n",
        "common_users = set([value for value in np.array(src['userId']) if value in np.array(src['userId'])])"
      ],
      "metadata": {
        "id": "Pyg_atPo-Fh7"
      },
      "execution_count": null,
      "outputs": []
    },
    {
      "cell_type": "code",
      "source": [
        "# rating matrix wrt user u\n",
        "ru_src = src.pivot_table(index='userId',columns='itemId',values='rating')    # U\n",
        "ru_src = ru_src.fillna(0)\n",
        "ru_m_src = ru_src > 0\n",
        "ru_m_src = ru_m_src.replace(True, 1)\n",
        "ru_m_src = ru_m_src.replace(False, 0)\n",
        "ru_src = np.array(ru_src)\n",
        "ru_m_src = np.array(ru_m_src)   # U\n",
        "\n",
        "\n",
        "# rating matrix wrt user u\n",
        "ru_tgt = tgt.pivot_table(index='userId',columns='itemId',values='rating')    # U\n",
        "ru_tgt = ru_tgt.fillna(0)\n",
        "ru_m_tgt = ru_tgt > 0\n",
        "ru_m_tgt = ru_m_tgt.replace(True, 1)\n",
        "ru_m_tgt = ru_m_tgt.replace(False, 0)\n",
        "ru_tgt = np.array(ru_tgt)\n",
        "ru_m_tgt = np.array(ru_m_tgt)   # U"
      ],
      "metadata": {
        "id": "Q-rCdhTp-aNS"
      },
      "execution_count": null,
      "outputs": []
    },
    {
      "cell_type": "code",
      "source": [
        "items_src = []    # U\n",
        "for i in range(len(ru_m_src)):\n",
        "  row = []\n",
        "  for j in range(len(ru_m_src[i])):\n",
        "    if ru_m_src[i][j] == 1:\n",
        "      row.append(j)\n",
        "  items_src.append(row)\n",
        "\n",
        "items_tgt = []   # U\n",
        "for i in range(len(ru_m_tgt)):\n",
        "  row = []\n",
        "  for j in range(len(ru_m_tgt[i])):\n",
        "    if ru_m_tgt[i][j] == 1:\n",
        "      row.append(j)\n",
        "  items_tgt.append(row)"
      ],
      "metadata": {
        "id": "mHnfphpq-tgA"
      },
      "execution_count": null,
      "outputs": []
    },
    {
      "cell_type": "code",
      "source": [
        "df_s = src.pivot_table(index='userId',columns='itemId',values='rating').reset_index()\n",
        "df_t = tgt.pivot_table(index='userId',columns='itemId',values='rating').reset_index()"
      ],
      "metadata": {
        "id": "wpm8tiahA_LU"
      },
      "execution_count": null,
      "outputs": []
    },
    {
      "cell_type": "code",
      "source": [
        "def intersect(X, Y):\n",
        "  Z = [value for value in X if value in Y]\n",
        "  return len(Z)\n",
        "\n",
        "def union(X, Y):\n",
        "    Z = X + Y\n",
        "    return len(set(Z))"
      ],
      "metadata": {
        "id": "9nOvkQ8VG29a"
      },
      "execution_count": null,
      "outputs": []
    },
    {
      "cell_type": "code",
      "source": [
        "from sklearn.metrics import pairwise_distances \n",
        "lambda_s = 0.5\n",
        "\n",
        "simr = []\n",
        "for u in range(len(ru_m_tgt)):\n",
        "  row = []\n",
        "  for v in range(len(ru_m_tgt)):\n",
        "    itu = items_tgt[u]\n",
        "    itv = items_tgt[v]\n",
        "    tun = df_t['userId'][u]\n",
        "    tvn = df_t['userId'][v]\n",
        "    if tun in common_users and tvn in common_users:\n",
        "      sun = np.array(df_s[df_s['userId']==tun].reset_index())[0][0]\n",
        "      svn = np.array(df_s[df_s['userId']==tvn].reset_index())[0][0]\n",
        "      isu = items_src[sun]\n",
        "      isv = items_src[svn]\n",
        "      sp = (intersect(itu, itv) + intersect(isu, isv)) / (union(itu, itv) + union(itu, itv))\n",
        "      row.append(sp)\n",
        "    else:\n",
        "      sp = intersect(itu, itv) / union(itu, itv)\n",
        "      row.append(sp)\n",
        "    simr.append(row)\n",
        "    \n",
        "simp = 1 - pairwise_distances(tgt_p_arr, metric = \"hamming\")\n",
        "\n",
        "simr = np.array(simr)\n",
        "simp = np.array(simp)\n",
        "\n",
        "\n",
        "suv_t = lambda_s * simr + (1-lambda_s) * simp\n"
      ],
      "metadata": {
        "id": "N3taSGFD_mmH"
      },
      "execution_count": null,
      "outputs": []
    },
    {
      "cell_type": "code",
      "source": [
        "rating_pred = []\n",
        "for u in range(len(ru_m_tgt)):\n",
        "  row = []\n",
        "  for i in range(len(ru_m_tgt[u])):\n",
        "    all_n = suv_t[u]\n",
        "    users_taking_i = ru_m_tgt[:, i]   # Nu\n",
        "    sum = 0.0\n",
        "    for v in range(len(users_taking_i)):\n",
        "        sum = sum + suv_t[u][v] * users_taking_i\n",
        "    row.append(sum)\n",
        "  rating_pred.append(row)"
      ],
      "metadata": {
        "id": "bYHNf_eUCd6v"
      },
      "execution_count": null,
      "outputs": []
    },
    {
      "cell_type": "code",
      "source": [
        ""
      ],
      "metadata": {
        "id": "-SUMTyimG8yL"
      },
      "execution_count": null,
      "outputs": []
    },
    {
      "cell_type": "markdown",
      "source": [
        "# TWIN"
      ],
      "metadata": {
        "id": "xCYF1JoYYp37"
      }
    },
    {
      "cell_type": "code",
      "source": [
        "src_pers = src[['open', 'cons', 'extra', 'agree', 'neuro']]"
      ],
      "metadata": {
        "id": "AxJKGYfzYs4A"
      },
      "execution_count": null,
      "outputs": []
    },
    {
      "cell_type": "code",
      "source": [
        "df = pd.DataFrame(src_pers)  # NU\n",
        "df.columns = ['open', 'cons', 'extra', 'agree', 'neuro']\n",
        "df['userId'] = src.userId\n",
        "df2 = df.groupby(by='userId').mean().reset_index()\n",
        "df2 = df2[[\"open\", 'cons', 'extra', 'agree', 'neuro']] \n",
        "src_p_arr = np.array(df2)"
      ],
      "metadata": {
        "id": "L1sWHp2hOGpq"
      },
      "execution_count": null,
      "outputs": []
    },
    {
      "cell_type": "code",
      "source": [
        "arr = src.groupby(by='userId').mean().reset_index()\n",
        "arr = arr[[\"open\", 'cons', 'extra', 'agree', 'neuro']]"
      ],
      "metadata": {
        "id": "dZeSP5beN-7s"
      },
      "execution_count": null,
      "outputs": []
    },
    {
      "cell_type": "code",
      "source": [
        "arr.shape"
      ],
      "metadata": {
        "colab": {
          "base_uri": "https://localhost:8080/"
        },
        "id": "9bk3KlJV7WSV",
        "outputId": "197e1d43-755b-4340-c15c-e192a1dc3738"
      },
      "execution_count": null,
      "outputs": [
        {
          "output_type": "execute_result",
          "data": {
            "text/plain": [
              "(988, 5)"
            ]
          },
          "metadata": {},
          "execution_count": 66
        }
      ]
    },
    {
      "cell_type": "code",
      "source": [
        "from sklearn.metrics.pairwise import euclidean_distances\n",
        "sim = np.abs(1 - euclidean_distances(arr, arr))"
      ],
      "metadata": {
        "id": "Aua65nEKZq29"
      },
      "execution_count": null,
      "outputs": []
    },
    {
      "cell_type": "code",
      "source": [
        "from sklearn.neighbors import NearestNeighbors\n",
        "knn = NearestNeighbors(n_neighbors=10, algorithm='ball_tree').fit(arr)"
      ],
      "metadata": {
        "id": "pTRRCVuAcDWT"
      },
      "execution_count": null,
      "outputs": []
    },
    {
      "cell_type": "code",
      "source": [
        "distances, indices = knn.kneighbors(arr)"
      ],
      "metadata": {
        "id": "OmC8NwHdhaBQ"
      },
      "execution_count": null,
      "outputs": []
    },
    {
      "cell_type": "code",
      "source": [
        "# rating matrix wrt user u\n",
        "ru_src = src.pivot_table(index='userId',columns='itemId',values='rating')    # U\n",
        "ru_src = ru_src.fillna(0)\n",
        "ru_m_src = ru_src > 0\n",
        "ru_m_src = ru_m_src.replace(True, 1)\n",
        "ru_m_src = ru_m_src.replace(False, 0)\n",
        "ru_src = np.array(ru_src)\n",
        "ru_m_src = np.array(ru_m_src)   # U"
      ],
      "metadata": {
        "id": "qhiQcVV0qhTO"
      },
      "execution_count": null,
      "outputs": []
    },
    {
      "cell_type": "code",
      "source": [
        "items_src = []    # U\n",
        "for i in range(len(ru_m_src)):\n",
        "  row = []\n",
        "  for j in range(len(ru_m_src[i])):\n",
        "    if ru_m_src[i][j] == 1:\n",
        "      row.append(j)\n",
        "  items_src.append(row)"
      ],
      "metadata": {
        "id": "CHAzhoqea_wJ"
      },
      "execution_count": null,
      "outputs": []
    },
    {
      "cell_type": "code",
      "source": [
        "ru_m_src"
      ],
      "metadata": {
        "id": "L2xPPMfoN7Uy"
      },
      "execution_count": null,
      "outputs": []
    },
    {
      "cell_type": "code",
      "source": [
        "rating_pred = []\n",
        "for u in range(len(ru_m_src)):\n",
        "  row = []\n",
        "  for i in range(len(ru_m_src[u])):\n",
        "    sum = 0\n",
        "    all_n = indices[u]\n",
        "    users_taking_i = ru_m_src[:, i]   # Nu\n",
        "    for v in range(len(users_taking_i)):\n",
        "        sum = sum + np.sum(sim[u][v] * users_taking_i)\n",
        "        if sum > 5:\n",
        "          sum = 5 \n",
        "    row.append(sum)\n",
        "  rating_pred.append(row)"
      ],
      "metadata": {
        "id": "7sigFbfKPBCh"
      },
      "execution_count": null,
      "outputs": []
    },
    {
      "cell_type": "code",
      "source": [
        "pred = np.array(rating_pred)\n",
        "pred.shape"
      ],
      "metadata": {
        "colab": {
          "base_uri": "https://localhost:8080/"
        },
        "id": "hRM7Oo21CZK0",
        "outputId": "78638696-a4f9-40cb-9228-34cf491410f4"
      },
      "execution_count": null,
      "outputs": [
        {
          "output_type": "execute_result",
          "data": {
            "text/plain": [
              "(988, 12)"
            ]
          },
          "metadata": {},
          "execution_count": 73
        }
      ]
    },
    {
      "cell_type": "code",
      "source": [
        "sim[u][v]"
      ],
      "metadata": {
        "colab": {
          "base_uri": "https://localhost:8080/"
        },
        "id": "PNo7qAp0EoQY",
        "outputId": "f470dc53-3b5c-408c-ee93-a7015b80bf41"
      },
      "execution_count": null,
      "outputs": [
        {
          "output_type": "execute_result",
          "data": {
            "text/plain": [
              "1.0"
            ]
          },
          "metadata": {},
          "execution_count": 26
        }
      ]
    },
    {
      "cell_type": "code",
      "source": [
        "from sklearn.metrics import mean_absolute_error\n",
        "from sklearn.metrics import mean_squared_error\n",
        "mae = mean_absolute_error(ru_src, pred)\n",
        "rmse = mean_squared_error(ru_src, pred)\n",
        "print(mae, rmse)"
      ],
      "metadata": {
        "id": "oT8ftOIoTWbX",
        "colab": {
          "base_uri": "https://localhost:8080/"
        },
        "outputId": "5a0010e8-1647-4a74-8498-93e0e5479250"
      },
      "execution_count": null,
      "outputs": [
        {
          "output_type": "stream",
          "name": "stdout",
          "text": [
            "4.664051956815115 23.15038798920378\n"
          ]
        }
      ]
    },
    {
      "cell_type": "code",
      "source": [
        ""
      ],
      "metadata": {
        "id": "Sz168eiGCn6Q"
      },
      "execution_count": null,
      "outputs": []
    }
  ]
}